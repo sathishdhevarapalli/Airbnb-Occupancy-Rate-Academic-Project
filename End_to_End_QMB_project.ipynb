{
 "cells": [
  {
   "cell_type": "code",
   "execution_count": 1,
   "metadata": {},
   "outputs": [],
   "source": [
    "import os\n",
    "import re as regex\n",
    "import numpy as np\n",
    "import pandas as pd\n",
    "import seaborn as sns\n",
    "import matplotlib as mpl\n",
    "import matplotlib.pyplot as plt\n",
    "from sklearn.preprocessing import Imputer\n",
    "from sklearn.model_selection import train_test_split"
   ]
  },
  {
   "cell_type": "code",
   "execution_count": 2,
   "metadata": {},
   "outputs": [],
   "source": [
    "reviews_data=pd.read_csv(\"C:\\\\Users\\\\Sathish Reddy\\\\Desktop\\\\R-project\\\\working_dr\\\\reviews.csv\")"
   ]
  },
  {
   "cell_type": "code",
   "execution_count": 3,
   "metadata": {
    "scrolled": true
   },
   "outputs": [
    {
     "data": {
      "text/html": [
       "<div>\n",
       "<style scoped>\n",
       "    .dataframe tbody tr th:only-of-type {\n",
       "        vertical-align: middle;\n",
       "    }\n",
       "\n",
       "    .dataframe tbody tr th {\n",
       "        vertical-align: top;\n",
       "    }\n",
       "\n",
       "    .dataframe thead th {\n",
       "        text-align: right;\n",
       "    }\n",
       "</style>\n",
       "<table border=\"1\" class=\"dataframe\">\n",
       "  <thead>\n",
       "    <tr style=\"text-align: right;\">\n",
       "      <th></th>\n",
       "      <th>listing_id</th>\n",
       "      <th>id</th>\n",
       "      <th>date</th>\n",
       "      <th>reviewer_id</th>\n",
       "      <th>reviewer_name</th>\n",
       "      <th>comments</th>\n",
       "    </tr>\n",
       "  </thead>\n",
       "  <tbody>\n",
       "    <tr>\n",
       "      <td>0</td>\n",
       "      <td>2265</td>\n",
       "      <td>963</td>\n",
       "      <td>2009-03-17</td>\n",
       "      <td>7538</td>\n",
       "      <td>Niall</td>\n",
       "      <td>I stayed here during SXSW and had a really ple...</td>\n",
       "    </tr>\n",
       "    <tr>\n",
       "      <td>1</td>\n",
       "      <td>2265</td>\n",
       "      <td>1057</td>\n",
       "      <td>2009-03-22</td>\n",
       "      <td>10029</td>\n",
       "      <td>Michael</td>\n",
       "      <td>Great place, close enough to everything downto...</td>\n",
       "    </tr>\n",
       "    <tr>\n",
       "      <td>2</td>\n",
       "      <td>2265</td>\n",
       "      <td>200418</td>\n",
       "      <td>2011-03-16</td>\n",
       "      <td>61677</td>\n",
       "      <td>Gustaf</td>\n",
       "      <td>We had a great time in Austin staying at Paddy...</td>\n",
       "    </tr>\n",
       "  </tbody>\n",
       "</table>\n",
       "</div>"
      ],
      "text/plain": [
       "   listing_id      id        date  reviewer_id reviewer_name  \\\n",
       "0        2265     963  2009-03-17         7538         Niall   \n",
       "1        2265    1057  2009-03-22        10029       Michael   \n",
       "2        2265  200418  2011-03-16        61677        Gustaf   \n",
       "\n",
       "                                            comments  \n",
       "0  I stayed here during SXSW and had a really ple...  \n",
       "1  Great place, close enough to everything downto...  \n",
       "2  We had a great time in Austin staying at Paddy...  "
      ]
     },
     "execution_count": 3,
     "metadata": {},
     "output_type": "execute_result"
    }
   ],
   "source": [
    "reviews_data.head(3)"
   ]
  },
  {
   "cell_type": "code",
   "execution_count": 4,
   "metadata": {},
   "outputs": [],
   "source": [
    "reviews_data.drop(['reviewer_id','reviewer_name','comments'],axis=1,inplace=True)"
   ]
  },
  {
   "cell_type": "code",
   "execution_count": 5,
   "metadata": {},
   "outputs": [
    {
     "data": {
      "text/html": [
       "<div>\n",
       "<style scoped>\n",
       "    .dataframe tbody tr th:only-of-type {\n",
       "        vertical-align: middle;\n",
       "    }\n",
       "\n",
       "    .dataframe tbody tr th {\n",
       "        vertical-align: top;\n",
       "    }\n",
       "\n",
       "    .dataframe thead th {\n",
       "        text-align: right;\n",
       "    }\n",
       "</style>\n",
       "<table border=\"1\" class=\"dataframe\">\n",
       "  <thead>\n",
       "    <tr style=\"text-align: right;\">\n",
       "      <th></th>\n",
       "      <th>listing_id</th>\n",
       "      <th>id</th>\n",
       "      <th>date</th>\n",
       "    </tr>\n",
       "  </thead>\n",
       "  <tbody>\n",
       "    <tr>\n",
       "      <td>0</td>\n",
       "      <td>2265</td>\n",
       "      <td>963</td>\n",
       "      <td>2009-03-17</td>\n",
       "    </tr>\n",
       "    <tr>\n",
       "      <td>1</td>\n",
       "      <td>2265</td>\n",
       "      <td>1057</td>\n",
       "      <td>2009-03-22</td>\n",
       "    </tr>\n",
       "    <tr>\n",
       "      <td>2</td>\n",
       "      <td>2265</td>\n",
       "      <td>200418</td>\n",
       "      <td>2011-03-16</td>\n",
       "    </tr>\n",
       "  </tbody>\n",
       "</table>\n",
       "</div>"
      ],
      "text/plain": [
       "   listing_id      id        date\n",
       "0        2265     963  2009-03-17\n",
       "1        2265    1057  2009-03-22\n",
       "2        2265  200418  2011-03-16"
      ]
     },
     "execution_count": 5,
     "metadata": {},
     "output_type": "execute_result"
    }
   ],
   "source": [
    "reviews_data.head(3)"
   ]
  },
  {
   "cell_type": "code",
   "execution_count": 6,
   "metadata": {},
   "outputs": [],
   "source": [
    "reviews_data.rename({'id':'review_count'},axis=1,inplace=True)"
   ]
  },
  {
   "cell_type": "code",
   "execution_count": 7,
   "metadata": {},
   "outputs": [
    {
     "data": {
      "text/html": [
       "<div>\n",
       "<style scoped>\n",
       "    .dataframe tbody tr th:only-of-type {\n",
       "        vertical-align: middle;\n",
       "    }\n",
       "\n",
       "    .dataframe tbody tr th {\n",
       "        vertical-align: top;\n",
       "    }\n",
       "\n",
       "    .dataframe thead th {\n",
       "        text-align: right;\n",
       "    }\n",
       "</style>\n",
       "<table border=\"1\" class=\"dataframe\">\n",
       "  <thead>\n",
       "    <tr style=\"text-align: right;\">\n",
       "      <th></th>\n",
       "      <th>listing_id</th>\n",
       "      <th>review_count</th>\n",
       "      <th>date</th>\n",
       "    </tr>\n",
       "  </thead>\n",
       "  <tbody>\n",
       "    <tr>\n",
       "      <td>0</td>\n",
       "      <td>2265</td>\n",
       "      <td>963</td>\n",
       "      <td>2009-03-17</td>\n",
       "    </tr>\n",
       "    <tr>\n",
       "      <td>1</td>\n",
       "      <td>2265</td>\n",
       "      <td>1057</td>\n",
       "      <td>2009-03-22</td>\n",
       "    </tr>\n",
       "    <tr>\n",
       "      <td>2</td>\n",
       "      <td>2265</td>\n",
       "      <td>200418</td>\n",
       "      <td>2011-03-16</td>\n",
       "    </tr>\n",
       "  </tbody>\n",
       "</table>\n",
       "</div>"
      ],
      "text/plain": [
       "   listing_id  review_count        date\n",
       "0        2265           963  2009-03-17\n",
       "1        2265          1057  2009-03-22\n",
       "2        2265        200418  2011-03-16"
      ]
     },
     "execution_count": 7,
     "metadata": {},
     "output_type": "execute_result"
    }
   ],
   "source": [
    "reviews_data.head(3)"
   ]
  },
  {
   "cell_type": "code",
   "execution_count": 8,
   "metadata": {},
   "outputs": [],
   "source": [
    "reviews_data.review_count=1"
   ]
  },
  {
   "cell_type": "code",
   "execution_count": 9,
   "metadata": {
    "scrolled": true
   },
   "outputs": [
    {
     "data": {
      "text/html": [
       "<div>\n",
       "<style scoped>\n",
       "    .dataframe tbody tr th:only-of-type {\n",
       "        vertical-align: middle;\n",
       "    }\n",
       "\n",
       "    .dataframe tbody tr th {\n",
       "        vertical-align: top;\n",
       "    }\n",
       "\n",
       "    .dataframe thead th {\n",
       "        text-align: right;\n",
       "    }\n",
       "</style>\n",
       "<table border=\"1\" class=\"dataframe\">\n",
       "  <thead>\n",
       "    <tr style=\"text-align: right;\">\n",
       "      <th></th>\n",
       "      <th>listing_id</th>\n",
       "      <th>review_count</th>\n",
       "      <th>date</th>\n",
       "    </tr>\n",
       "  </thead>\n",
       "  <tbody>\n",
       "    <tr>\n",
       "      <td>0</td>\n",
       "      <td>2265</td>\n",
       "      <td>1</td>\n",
       "      <td>2009-03-17</td>\n",
       "    </tr>\n",
       "    <tr>\n",
       "      <td>1</td>\n",
       "      <td>2265</td>\n",
       "      <td>1</td>\n",
       "      <td>2009-03-22</td>\n",
       "    </tr>\n",
       "    <tr>\n",
       "      <td>2</td>\n",
       "      <td>2265</td>\n",
       "      <td>1</td>\n",
       "      <td>2011-03-16</td>\n",
       "    </tr>\n",
       "    <tr>\n",
       "      <td>3</td>\n",
       "      <td>2265</td>\n",
       "      <td>1</td>\n",
       "      <td>2012-03-15</td>\n",
       "    </tr>\n",
       "    <tr>\n",
       "      <td>4</td>\n",
       "      <td>2265</td>\n",
       "      <td>1</td>\n",
       "      <td>2012-03-19</td>\n",
       "    </tr>\n",
       "  </tbody>\n",
       "</table>\n",
       "</div>"
      ],
      "text/plain": [
       "   listing_id  review_count        date\n",
       "0        2265             1  2009-03-17\n",
       "1        2265             1  2009-03-22\n",
       "2        2265             1  2011-03-16\n",
       "3        2265             1  2012-03-15\n",
       "4        2265             1  2012-03-19"
      ]
     },
     "execution_count": 9,
     "metadata": {},
     "output_type": "execute_result"
    }
   ],
   "source": [
    "reviews_data.head()"
   ]
  },
  {
   "cell_type": "code",
   "execution_count": 10,
   "metadata": {},
   "outputs": [
    {
     "name": "stdout",
     "output_type": "stream",
     "text": [
      "The first dataset has 370044 rows and 3 columns.\n"
     ]
    }
   ],
   "source": [
    "print(\"The first dataset has {} rows and {} columns.\".format(*reviews_data.shape))"
   ]
  },
  {
   "cell_type": "code",
   "execution_count": 11,
   "metadata": {
    "scrolled": true
   },
   "outputs": [
    {
     "name": "stdout",
     "output_type": "stream",
     "text": [
      "It contains 3178 duplicates.\n"
     ]
    }
   ],
   "source": [
    "print(\"It contains {} duplicates.\".format(reviews_data.duplicated().sum()))"
   ]
  },
  {
   "cell_type": "code",
   "execution_count": 12,
   "metadata": {
    "scrolled": true
   },
   "outputs": [
    {
     "name": "stdout",
     "output_type": "stream",
     "text": [
      "<class 'pandas.core.frame.DataFrame'>\n",
      "RangeIndex: 370044 entries, 0 to 370043\n",
      "Data columns (total 3 columns):\n",
      "listing_id      370044 non-null int64\n",
      "review_count    370044 non-null int64\n",
      "date            370044 non-null object\n",
      "dtypes: int64(2), object(1)\n",
      "memory usage: 8.5+ MB\n"
     ]
    }
   ],
   "source": [
    "reviews_data.info()"
   ]
  },
  {
   "cell_type": "code",
   "execution_count": 13,
   "metadata": {},
   "outputs": [],
   "source": [
    "reviews_data.date = pd.to_datetime(reviews_data.date, format=\"%Y-%m-%d\")"
   ]
  },
  {
   "cell_type": "code",
   "execution_count": 14,
   "metadata": {},
   "outputs": [
    {
     "data": {
      "text/html": [
       "<div>\n",
       "<style scoped>\n",
       "    .dataframe tbody tr th:only-of-type {\n",
       "        vertical-align: middle;\n",
       "    }\n",
       "\n",
       "    .dataframe tbody tr th {\n",
       "        vertical-align: top;\n",
       "    }\n",
       "\n",
       "    .dataframe thead th {\n",
       "        text-align: right;\n",
       "    }\n",
       "</style>\n",
       "<table border=\"1\" class=\"dataframe\">\n",
       "  <thead>\n",
       "    <tr style=\"text-align: right;\">\n",
       "      <th></th>\n",
       "      <th>listing_id</th>\n",
       "      <th>review_count</th>\n",
       "      <th>date</th>\n",
       "    </tr>\n",
       "  </thead>\n",
       "  <tbody>\n",
       "    <tr>\n",
       "      <td>0</td>\n",
       "      <td>2265</td>\n",
       "      <td>1</td>\n",
       "      <td>2009-03-17</td>\n",
       "    </tr>\n",
       "    <tr>\n",
       "      <td>1</td>\n",
       "      <td>2265</td>\n",
       "      <td>1</td>\n",
       "      <td>2009-03-22</td>\n",
       "    </tr>\n",
       "    <tr>\n",
       "      <td>2</td>\n",
       "      <td>2265</td>\n",
       "      <td>1</td>\n",
       "      <td>2011-03-16</td>\n",
       "    </tr>\n",
       "    <tr>\n",
       "      <td>3</td>\n",
       "      <td>2265</td>\n",
       "      <td>1</td>\n",
       "      <td>2012-03-15</td>\n",
       "    </tr>\n",
       "    <tr>\n",
       "      <td>4</td>\n",
       "      <td>2265</td>\n",
       "      <td>1</td>\n",
       "      <td>2012-03-19</td>\n",
       "    </tr>\n",
       "  </tbody>\n",
       "</table>\n",
       "</div>"
      ],
      "text/plain": [
       "   listing_id  review_count       date\n",
       "0        2265             1 2009-03-17\n",
       "1        2265             1 2009-03-22\n",
       "2        2265             1 2011-03-16\n",
       "3        2265             1 2012-03-15\n",
       "4        2265             1 2012-03-19"
      ]
     },
     "execution_count": 14,
     "metadata": {},
     "output_type": "execute_result"
    }
   ],
   "source": [
    "reviews_data.head()"
   ]
  },
  {
   "cell_type": "code",
   "execution_count": 15,
   "metadata": {},
   "outputs": [
    {
     "name": "stdout",
     "output_type": "stream",
     "text": [
      "The dataset 2019/2020 has 144559 reviews and 3 columns.\n"
     ]
    }
   ],
   "source": [
    "count_2019_20 = reviews_data[reviews_data[\"date\"].isin(pd.date_range('2019-03-01', '2020-02-29'))]\n",
    "print(\"The dataset 2019/2020 has {} reviews and {} columns.\".format(*count_2019_20.shape))"
   ]
  },
  {
   "cell_type": "code",
   "execution_count": 16,
   "metadata": {},
   "outputs": [],
   "source": [
    "count_2019_20 = count_2019_20.set_index('date').sort_index()"
   ]
  },
  {
   "cell_type": "code",
   "execution_count": 17,
   "metadata": {},
   "outputs": [
    {
     "data": {
      "text/html": [
       "<div>\n",
       "<style scoped>\n",
       "    .dataframe tbody tr th:only-of-type {\n",
       "        vertical-align: middle;\n",
       "    }\n",
       "\n",
       "    .dataframe tbody tr th {\n",
       "        vertical-align: top;\n",
       "    }\n",
       "\n",
       "    .dataframe thead th {\n",
       "        text-align: right;\n",
       "    }\n",
       "</style>\n",
       "<table border=\"1\" class=\"dataframe\">\n",
       "  <thead>\n",
       "    <tr style=\"text-align: right;\">\n",
       "      <th></th>\n",
       "      <th>listing_id</th>\n",
       "      <th>review_count</th>\n",
       "    </tr>\n",
       "    <tr>\n",
       "      <th>date</th>\n",
       "      <th></th>\n",
       "      <th></th>\n",
       "    </tr>\n",
       "  </thead>\n",
       "  <tbody>\n",
       "    <tr>\n",
       "      <td>2019-03-01</td>\n",
       "      <td>3432834</td>\n",
       "      <td>1</td>\n",
       "    </tr>\n",
       "    <tr>\n",
       "      <td>2019-03-01</td>\n",
       "      <td>28511447</td>\n",
       "      <td>1</td>\n",
       "    </tr>\n",
       "    <tr>\n",
       "      <td>2019-03-01</td>\n",
       "      <td>214795</td>\n",
       "      <td>1</td>\n",
       "    </tr>\n",
       "    <tr>\n",
       "      <td>2019-03-01</td>\n",
       "      <td>20314657</td>\n",
       "      <td>1</td>\n",
       "    </tr>\n",
       "    <tr>\n",
       "      <td>2019-03-01</td>\n",
       "      <td>214795</td>\n",
       "      <td>1</td>\n",
       "    </tr>\n",
       "    <tr>\n",
       "      <td>...</td>\n",
       "      <td>...</td>\n",
       "      <td>...</td>\n",
       "    </tr>\n",
       "    <tr>\n",
       "      <td>2020-02-29</td>\n",
       "      <td>33247800</td>\n",
       "      <td>1</td>\n",
       "    </tr>\n",
       "    <tr>\n",
       "      <td>2020-02-29</td>\n",
       "      <td>15799378</td>\n",
       "      <td>1</td>\n",
       "    </tr>\n",
       "    <tr>\n",
       "      <td>2020-02-29</td>\n",
       "      <td>5083004</td>\n",
       "      <td>1</td>\n",
       "    </tr>\n",
       "    <tr>\n",
       "      <td>2020-02-29</td>\n",
       "      <td>40321884</td>\n",
       "      <td>1</td>\n",
       "    </tr>\n",
       "    <tr>\n",
       "      <td>2020-02-29</td>\n",
       "      <td>42587555</td>\n",
       "      <td>1</td>\n",
       "    </tr>\n",
       "  </tbody>\n",
       "</table>\n",
       "<p>144559 rows × 2 columns</p>\n",
       "</div>"
      ],
      "text/plain": [
       "            listing_id  review_count\n",
       "date                                \n",
       "2019-03-01     3432834             1\n",
       "2019-03-01    28511447             1\n",
       "2019-03-01      214795             1\n",
       "2019-03-01    20314657             1\n",
       "2019-03-01      214795             1\n",
       "...                ...           ...\n",
       "2020-02-29    33247800             1\n",
       "2020-02-29    15799378             1\n",
       "2020-02-29     5083004             1\n",
       "2020-02-29    40321884             1\n",
       "2020-02-29    42587555             1\n",
       "\n",
       "[144559 rows x 2 columns]"
      ]
     },
     "execution_count": 17,
     "metadata": {},
     "output_type": "execute_result"
    }
   ],
   "source": [
    "count_2019_20"
   ]
  },
  {
   "cell_type": "code",
   "execution_count": 18,
   "metadata": {
    "scrolled": true
   },
   "outputs": [
    {
     "name": "stderr",
     "output_type": "stream",
     "text": [
      "C:\\ProgramData\\Anaconda3\\lib\\site-packages\\ipykernel_launcher.py:2: FutureWarning: using a dict on a Series for aggregation\n",
      "is deprecated and will be removed in a future version. Use                 named aggregation instead.\n",
      "\n",
      "    >>> grouper.agg(name_1=func_1, name_2=func_2)\n",
      "\n",
      "  \n",
      "C:\\ProgramData\\Anaconda3\\lib\\site-packages\\pandas\\core\\groupby\\generic.py:930: FutureWarning: using a dict on a Series for aggregation\n",
      "is deprecated and will be removed in a future version. Use                 named aggregation instead.\n",
      "\n",
      "    >>> grouper.agg(name_1=func_1, name_2=func_2)\n",
      "\n",
      "  results[name] = obj.aggregate(func)\n"
     ]
    }
   ],
   "source": [
    "count_2019_20_monthly = count_2019_20.groupby([pd.Grouper(freq='M'), 'listing_id'])['review_count']\\\n",
    "                                         .agg({'review_count':{'reviews_per_month':'count'}})\\\n",
    "                                         .reset_index()"
   ]
  },
  {
   "cell_type": "code",
   "execution_count": 19,
   "metadata": {},
   "outputs": [
    {
     "data": {
      "text/html": [
       "<div>\n",
       "<style scoped>\n",
       "    .dataframe tbody tr th:only-of-type {\n",
       "        vertical-align: middle;\n",
       "    }\n",
       "\n",
       "    .dataframe tbody tr th {\n",
       "        vertical-align: top;\n",
       "    }\n",
       "\n",
       "    .dataframe thead tr th {\n",
       "        text-align: left;\n",
       "    }\n",
       "</style>\n",
       "<table border=\"1\" class=\"dataframe\">\n",
       "  <thead>\n",
       "    <tr>\n",
       "      <th></th>\n",
       "      <th>date</th>\n",
       "      <th>listing_id</th>\n",
       "      <th>review_count</th>\n",
       "    </tr>\n",
       "    <tr>\n",
       "      <th></th>\n",
       "      <th></th>\n",
       "      <th></th>\n",
       "      <th>reviews_per_month</th>\n",
       "    </tr>\n",
       "  </thead>\n",
       "  <tbody>\n",
       "    <tr>\n",
       "      <td>0</td>\n",
       "      <td>2019-03-31</td>\n",
       "      <td>2265</td>\n",
       "      <td>1</td>\n",
       "    </tr>\n",
       "    <tr>\n",
       "      <td>1</td>\n",
       "      <td>2019-03-31</td>\n",
       "      <td>5456</td>\n",
       "      <td>3</td>\n",
       "    </tr>\n",
       "    <tr>\n",
       "      <td>2</td>\n",
       "      <td>2019-03-31</td>\n",
       "      <td>5769</td>\n",
       "      <td>2</td>\n",
       "    </tr>\n",
       "    <tr>\n",
       "      <td>3</td>\n",
       "      <td>2019-03-31</td>\n",
       "      <td>6413</td>\n",
       "      <td>4</td>\n",
       "    </tr>\n",
       "    <tr>\n",
       "      <td>4</td>\n",
       "      <td>2019-03-31</td>\n",
       "      <td>6448</td>\n",
       "      <td>2</td>\n",
       "    </tr>\n",
       "  </tbody>\n",
       "</table>\n",
       "</div>"
      ],
      "text/plain": [
       "        date listing_id      review_count\n",
       "                        reviews_per_month\n",
       "0 2019-03-31       2265                 1\n",
       "1 2019-03-31       5456                 3\n",
       "2 2019-03-31       5769                 2\n",
       "3 2019-03-31       6413                 4\n",
       "4 2019-03-31       6448                 2"
      ]
     },
     "execution_count": 19,
     "metadata": {},
     "output_type": "execute_result"
    }
   ],
   "source": [
    "count_2019_20_monthly.head()"
   ]
  },
  {
   "cell_type": "code",
   "execution_count": 20,
   "metadata": {},
   "outputs": [
    {
     "data": {
      "text/plain": [
       "MultiIndex([(        'date',                  ''),\n",
       "            (  'listing_id',                  ''),\n",
       "            ('review_count', 'reviews_per_month')],\n",
       "           )"
      ]
     },
     "execution_count": 20,
     "metadata": {},
     "output_type": "execute_result"
    }
   ],
   "source": [
    "count_2019_20_monthly.columns"
   ]
  },
  {
   "cell_type": "code",
   "execution_count": 21,
   "metadata": {},
   "outputs": [
    {
     "data": {
      "text/html": [
       "<div>\n",
       "<style scoped>\n",
       "    .dataframe tbody tr th:only-of-type {\n",
       "        vertical-align: middle;\n",
       "    }\n",
       "\n",
       "    .dataframe tbody tr th {\n",
       "        vertical-align: top;\n",
       "    }\n",
       "\n",
       "    .dataframe thead th {\n",
       "        text-align: right;\n",
       "    }\n",
       "</style>\n",
       "<table border=\"1\" class=\"dataframe\">\n",
       "  <thead>\n",
       "    <tr style=\"text-align: right;\">\n",
       "      <th></th>\n",
       "      <th>listing_id</th>\n",
       "      <th>reviews_per_month</th>\n",
       "    </tr>\n",
       "    <tr>\n",
       "      <th>date</th>\n",
       "      <th></th>\n",
       "      <th></th>\n",
       "    </tr>\n",
       "  </thead>\n",
       "  <tbody>\n",
       "    <tr>\n",
       "      <td>2019-03-31</td>\n",
       "      <td>2265</td>\n",
       "      <td>1</td>\n",
       "    </tr>\n",
       "    <tr>\n",
       "      <td>2019-03-31</td>\n",
       "      <td>5456</td>\n",
       "      <td>3</td>\n",
       "    </tr>\n",
       "  </tbody>\n",
       "</table>\n",
       "</div>"
      ],
      "text/plain": [
       "            listing_id  reviews_per_month\n",
       "date                                     \n",
       "2019-03-31        2265                  1\n",
       "2019-03-31        5456                  3"
      ]
     },
     "execution_count": 21,
     "metadata": {},
     "output_type": "execute_result"
    }
   ],
   "source": [
    "count_2019_20_monthly.columns = ['date', 'listing_id', 'reviews_per_month']\n",
    "\n",
    "# set date as index again\n",
    "count_2019_20_monthly.set_index('date', inplace=True)\n",
    "\n",
    "# check again\n",
    "count_2019_20_monthly.head(2)"
   ]
  },
  {
   "cell_type": "code",
   "execution_count": 22,
   "metadata": {},
   "outputs": [],
   "source": [
    "count_2019_20_monthly = count_2019_20_monthly.reset_index()"
   ]
  },
  {
   "cell_type": "code",
   "execution_count": 23,
   "metadata": {},
   "outputs": [
    {
     "data": {
      "text/plain": [
       "Index(['date', 'listing_id', 'reviews_per_month'], dtype='object')"
      ]
     },
     "execution_count": 23,
     "metadata": {},
     "output_type": "execute_result"
    }
   ],
   "source": [
    "count_2019_20_monthly.columns"
   ]
  },
  {
   "cell_type": "code",
   "execution_count": 24,
   "metadata": {},
   "outputs": [],
   "source": [
    "count_2019_20_monthly = pd.DataFrame(count_2019_20_monthly.groupby('listing_id')['reviews_per_month'].mean()\\\n",
    "                                                          .reset_index())"
   ]
  },
  {
   "cell_type": "code",
   "execution_count": 25,
   "metadata": {},
   "outputs": [
    {
     "data": {
      "text/html": [
       "<div>\n",
       "<style scoped>\n",
       "    .dataframe tbody tr th:only-of-type {\n",
       "        vertical-align: middle;\n",
       "    }\n",
       "\n",
       "    .dataframe tbody tr th {\n",
       "        vertical-align: top;\n",
       "    }\n",
       "\n",
       "    .dataframe thead th {\n",
       "        text-align: right;\n",
       "    }\n",
       "</style>\n",
       "<table border=\"1\" class=\"dataframe\">\n",
       "  <thead>\n",
       "    <tr style=\"text-align: right;\">\n",
       "      <th></th>\n",
       "      <th>listing_id</th>\n",
       "      <th>reviews_per_month</th>\n",
       "    </tr>\n",
       "  </thead>\n",
       "  <tbody>\n",
       "    <tr>\n",
       "      <td>0</td>\n",
       "      <td>2265</td>\n",
       "      <td>1.000000</td>\n",
       "    </tr>\n",
       "    <tr>\n",
       "      <td>1</td>\n",
       "      <td>5456</td>\n",
       "      <td>4.500000</td>\n",
       "    </tr>\n",
       "    <tr>\n",
       "      <td>2</td>\n",
       "      <td>5769</td>\n",
       "      <td>2.428571</td>\n",
       "    </tr>\n",
       "    <tr>\n",
       "      <td>3</td>\n",
       "      <td>6413</td>\n",
       "      <td>2.300000</td>\n",
       "    </tr>\n",
       "    <tr>\n",
       "      <td>4</td>\n",
       "      <td>6448</td>\n",
       "      <td>2.888889</td>\n",
       "    </tr>\n",
       "    <tr>\n",
       "      <td>...</td>\n",
       "      <td>...</td>\n",
       "      <td>...</td>\n",
       "    </tr>\n",
       "    <tr>\n",
       "      <td>7160</td>\n",
       "      <td>42518813</td>\n",
       "      <td>1.000000</td>\n",
       "    </tr>\n",
       "    <tr>\n",
       "      <td>7161</td>\n",
       "      <td>42538483</td>\n",
       "      <td>1.000000</td>\n",
       "    </tr>\n",
       "    <tr>\n",
       "      <td>7162</td>\n",
       "      <td>42541133</td>\n",
       "      <td>1.000000</td>\n",
       "    </tr>\n",
       "    <tr>\n",
       "      <td>7163</td>\n",
       "      <td>42586551</td>\n",
       "      <td>1.000000</td>\n",
       "    </tr>\n",
       "    <tr>\n",
       "      <td>7164</td>\n",
       "      <td>42587555</td>\n",
       "      <td>1.000000</td>\n",
       "    </tr>\n",
       "  </tbody>\n",
       "</table>\n",
       "<p>7165 rows × 2 columns</p>\n",
       "</div>"
      ],
      "text/plain": [
       "      listing_id  reviews_per_month\n",
       "0           2265           1.000000\n",
       "1           5456           4.500000\n",
       "2           5769           2.428571\n",
       "3           6413           2.300000\n",
       "4           6448           2.888889\n",
       "...          ...                ...\n",
       "7160    42518813           1.000000\n",
       "7161    42538483           1.000000\n",
       "7162    42541133           1.000000\n",
       "7163    42586551           1.000000\n",
       "7164    42587555           1.000000\n",
       "\n",
       "[7165 rows x 2 columns]"
      ]
     },
     "execution_count": 25,
     "metadata": {},
     "output_type": "execute_result"
    }
   ],
   "source": [
    "count_2019_20_monthly"
   ]
  },
  {
   "cell_type": "code",
   "execution_count": 25,
   "metadata": {},
   "outputs": [
    {
     "name": "stderr",
     "output_type": "stream",
     "text": [
      "C:\\ProgramData\\Anaconda3\\lib\\site-packages\\IPython\\core\\interactiveshell.py:3058: DtypeWarning: Columns (61,62) have mixed types. Specify dtype option on import or set low_memory=False.\n",
      "  interactivity=interactivity, compiler=compiler, result=result)\n"
     ]
    }
   ],
   "source": [
    "list_data=pd.read_csv(\"C:\\\\Users\\\\Sathish Reddy\\\\Desktop\\\\R-project\\\\working_dr\\\\listings.csv\")"
   ]
  },
  {
   "cell_type": "code",
   "execution_count": 26,
   "metadata": {},
   "outputs": [
    {
     "data": {
      "text/html": [
       "<div>\n",
       "<style scoped>\n",
       "    .dataframe tbody tr th:only-of-type {\n",
       "        vertical-align: middle;\n",
       "    }\n",
       "\n",
       "    .dataframe tbody tr th {\n",
       "        vertical-align: top;\n",
       "    }\n",
       "\n",
       "    .dataframe thead th {\n",
       "        text-align: right;\n",
       "    }\n",
       "</style>\n",
       "<table border=\"1\" class=\"dataframe\">\n",
       "  <thead>\n",
       "    <tr style=\"text-align: right;\">\n",
       "      <th></th>\n",
       "      <th>id</th>\n",
       "      <th>listing_url</th>\n",
       "      <th>scrape_id</th>\n",
       "      <th>last_scraped</th>\n",
       "      <th>name</th>\n",
       "      <th>summary</th>\n",
       "      <th>space</th>\n",
       "      <th>description</th>\n",
       "      <th>experiences_offered</th>\n",
       "      <th>neighborhood_overview</th>\n",
       "      <th>...</th>\n",
       "      <th>instant_bookable</th>\n",
       "      <th>is_business_travel_ready</th>\n",
       "      <th>cancellation_policy</th>\n",
       "      <th>require_guest_profile_picture</th>\n",
       "      <th>require_guest_phone_verification</th>\n",
       "      <th>calculated_host_listings_count</th>\n",
       "      <th>calculated_host_listings_count_entire_homes</th>\n",
       "      <th>calculated_host_listings_count_private_rooms</th>\n",
       "      <th>calculated_host_listings_count_shared_rooms</th>\n",
       "      <th>reviews_per_month</th>\n",
       "    </tr>\n",
       "  </thead>\n",
       "  <tbody>\n",
       "    <tr>\n",
       "      <td>0</td>\n",
       "      <td>2265</td>\n",
       "      <td>https://www.airbnb.com/rooms/2265</td>\n",
       "      <td>20200317143754</td>\n",
       "      <td>2020-03-17</td>\n",
       "      <td>Zen-East in the Heart of Austin (monthly rental)</td>\n",
       "      <td>Zen East is situated in a vibrant &amp; diverse mu...</td>\n",
       "      <td>This colorful and clean 1923 house was complet...</td>\n",
       "      <td>Zen East is situated in a vibrant &amp; diverse mu...</td>\n",
       "      <td>none</td>\n",
       "      <td>NaN</td>\n",
       "      <td>...</td>\n",
       "      <td>f</td>\n",
       "      <td>f</td>\n",
       "      <td>strict_14_with_grace_period</td>\n",
       "      <td>f</td>\n",
       "      <td>f</td>\n",
       "      <td>3</td>\n",
       "      <td>2</td>\n",
       "      <td>1</td>\n",
       "      <td>0</td>\n",
       "      <td>0.18</td>\n",
       "    </tr>\n",
       "    <tr>\n",
       "      <td>1</td>\n",
       "      <td>5245</td>\n",
       "      <td>https://www.airbnb.com/rooms/5245</td>\n",
       "      <td>20200317143754</td>\n",
       "      <td>2020-03-17</td>\n",
       "      <td>Eco friendly, Colorful, Clean, Cozy monthly share</td>\n",
       "      <td>Situated in a vibrant &amp; diverse multicultural ...</td>\n",
       "      <td>This green, colorful, clean and cozy house was...</td>\n",
       "      <td>Situated in a vibrant &amp; diverse multicultural ...</td>\n",
       "      <td>none</td>\n",
       "      <td>NaN</td>\n",
       "      <td>...</td>\n",
       "      <td>f</td>\n",
       "      <td>f</td>\n",
       "      <td>strict_14_with_grace_period</td>\n",
       "      <td>f</td>\n",
       "      <td>f</td>\n",
       "      <td>3</td>\n",
       "      <td>2</td>\n",
       "      <td>1</td>\n",
       "      <td>0</td>\n",
       "      <td>0.07</td>\n",
       "    </tr>\n",
       "    <tr>\n",
       "      <td>2</td>\n",
       "      <td>5456</td>\n",
       "      <td>https://www.airbnb.com/rooms/5456</td>\n",
       "      <td>20200317143754</td>\n",
       "      <td>2020-03-17</td>\n",
       "      <td>Walk to 6th, Rainey St and Convention Ctr</td>\n",
       "      <td>Great central  location for walking to Convent...</td>\n",
       "      <td>Cute Private Studio apartment located in Willo...</td>\n",
       "      <td>Great central  location for walking to Convent...</td>\n",
       "      <td>none</td>\n",
       "      <td>My neighborhood is ideally located if you want...</td>\n",
       "      <td>...</td>\n",
       "      <td>f</td>\n",
       "      <td>f</td>\n",
       "      <td>strict_14_with_grace_period</td>\n",
       "      <td>f</td>\n",
       "      <td>t</td>\n",
       "      <td>1</td>\n",
       "      <td>1</td>\n",
       "      <td>0</td>\n",
       "      <td>0</td>\n",
       "      <td>3.94</td>\n",
       "    </tr>\n",
       "    <tr>\n",
       "      <td>3</td>\n",
       "      <td>5769</td>\n",
       "      <td>https://www.airbnb.com/rooms/5769</td>\n",
       "      <td>20200317143754</td>\n",
       "      <td>2020-03-17</td>\n",
       "      <td>NW Austin Room</td>\n",
       "      <td>NaN</td>\n",
       "      <td>Looking for a comfortable inexpensive room to ...</td>\n",
       "      <td>Looking for a comfortable inexpensive room to ...</td>\n",
       "      <td>none</td>\n",
       "      <td>Quiet neighborhood with lots of trees and good...</td>\n",
       "      <td>...</td>\n",
       "      <td>f</td>\n",
       "      <td>f</td>\n",
       "      <td>moderate</td>\n",
       "      <td>t</td>\n",
       "      <td>t</td>\n",
       "      <td>1</td>\n",
       "      <td>0</td>\n",
       "      <td>1</td>\n",
       "      <td>0</td>\n",
       "      <td>2.12</td>\n",
       "    </tr>\n",
       "    <tr>\n",
       "      <td>4</td>\n",
       "      <td>6413</td>\n",
       "      <td>https://www.airbnb.com/rooms/6413</td>\n",
       "      <td>20200317143754</td>\n",
       "      <td>2020-03-17</td>\n",
       "      <td>Gem of a Studio near Downtown</td>\n",
       "      <td>Great studio apartment, perfect for couples or...</td>\n",
       "      <td>!!!!! SXSW info !!!!! Presently open (again!) ...</td>\n",
       "      <td>Great studio apartment, perfect for couples or...</td>\n",
       "      <td>none</td>\n",
       "      <td>Travis Heights is one of the oldest neighborho...</td>\n",
       "      <td>...</td>\n",
       "      <td>t</td>\n",
       "      <td>f</td>\n",
       "      <td>strict_14_with_grace_period</td>\n",
       "      <td>f</td>\n",
       "      <td>f</td>\n",
       "      <td>1</td>\n",
       "      <td>1</td>\n",
       "      <td>0</td>\n",
       "      <td>0</td>\n",
       "      <td>0.90</td>\n",
       "    </tr>\n",
       "  </tbody>\n",
       "</table>\n",
       "<p>5 rows × 106 columns</p>\n",
       "</div>"
      ],
      "text/plain": [
       "     id                        listing_url       scrape_id last_scraped  \\\n",
       "0  2265  https://www.airbnb.com/rooms/2265  20200317143754   2020-03-17   \n",
       "1  5245  https://www.airbnb.com/rooms/5245  20200317143754   2020-03-17   \n",
       "2  5456  https://www.airbnb.com/rooms/5456  20200317143754   2020-03-17   \n",
       "3  5769  https://www.airbnb.com/rooms/5769  20200317143754   2020-03-17   \n",
       "4  6413  https://www.airbnb.com/rooms/6413  20200317143754   2020-03-17   \n",
       "\n",
       "                                                name  \\\n",
       "0   Zen-East in the Heart of Austin (monthly rental)   \n",
       "1  Eco friendly, Colorful, Clean, Cozy monthly share   \n",
       "2          Walk to 6th, Rainey St and Convention Ctr   \n",
       "3                                     NW Austin Room   \n",
       "4                      Gem of a Studio near Downtown   \n",
       "\n",
       "                                             summary  \\\n",
       "0  Zen East is situated in a vibrant & diverse mu...   \n",
       "1  Situated in a vibrant & diverse multicultural ...   \n",
       "2  Great central  location for walking to Convent...   \n",
       "3                                                NaN   \n",
       "4  Great studio apartment, perfect for couples or...   \n",
       "\n",
       "                                               space  \\\n",
       "0  This colorful and clean 1923 house was complet...   \n",
       "1  This green, colorful, clean and cozy house was...   \n",
       "2  Cute Private Studio apartment located in Willo...   \n",
       "3  Looking for a comfortable inexpensive room to ...   \n",
       "4  !!!!! SXSW info !!!!! Presently open (again!) ...   \n",
       "\n",
       "                                         description experiences_offered  \\\n",
       "0  Zen East is situated in a vibrant & diverse mu...                none   \n",
       "1  Situated in a vibrant & diverse multicultural ...                none   \n",
       "2  Great central  location for walking to Convent...                none   \n",
       "3  Looking for a comfortable inexpensive room to ...                none   \n",
       "4  Great studio apartment, perfect for couples or...                none   \n",
       "\n",
       "                               neighborhood_overview  ... instant_bookable  \\\n",
       "0                                                NaN  ...                f   \n",
       "1                                                NaN  ...                f   \n",
       "2  My neighborhood is ideally located if you want...  ...                f   \n",
       "3  Quiet neighborhood with lots of trees and good...  ...                f   \n",
       "4  Travis Heights is one of the oldest neighborho...  ...                t   \n",
       "\n",
       "  is_business_travel_ready          cancellation_policy  \\\n",
       "0                        f  strict_14_with_grace_period   \n",
       "1                        f  strict_14_with_grace_period   \n",
       "2                        f  strict_14_with_grace_period   \n",
       "3                        f                     moderate   \n",
       "4                        f  strict_14_with_grace_period   \n",
       "\n",
       "  require_guest_profile_picture require_guest_phone_verification  \\\n",
       "0                             f                                f   \n",
       "1                             f                                f   \n",
       "2                             f                                t   \n",
       "3                             t                                t   \n",
       "4                             f                                f   \n",
       "\n",
       "   calculated_host_listings_count  \\\n",
       "0                               3   \n",
       "1                               3   \n",
       "2                               1   \n",
       "3                               1   \n",
       "4                               1   \n",
       "\n",
       "   calculated_host_listings_count_entire_homes  \\\n",
       "0                                            2   \n",
       "1                                            2   \n",
       "2                                            1   \n",
       "3                                            0   \n",
       "4                                            1   \n",
       "\n",
       "  calculated_host_listings_count_private_rooms  \\\n",
       "0                                            1   \n",
       "1                                            1   \n",
       "2                                            0   \n",
       "3                                            1   \n",
       "4                                            0   \n",
       "\n",
       "   calculated_host_listings_count_shared_rooms  reviews_per_month  \n",
       "0                                            0               0.18  \n",
       "1                                            0               0.07  \n",
       "2                                            0               3.94  \n",
       "3                                            0               2.12  \n",
       "4                                            0               0.90  \n",
       "\n",
       "[5 rows x 106 columns]"
      ]
     },
     "execution_count": 26,
     "metadata": {},
     "output_type": "execute_result"
    }
   ],
   "source": [
    "list_data.head()"
   ]
  },
  {
   "cell_type": "code",
   "execution_count": 27,
   "metadata": {},
   "outputs": [
    {
     "data": {
      "text/html": [
       "<div>\n",
       "<style scoped>\n",
       "    .dataframe tbody tr th:only-of-type {\n",
       "        vertical-align: middle;\n",
       "    }\n",
       "\n",
       "    .dataframe tbody tr th {\n",
       "        vertical-align: top;\n",
       "    }\n",
       "\n",
       "    .dataframe thead th {\n",
       "        text-align: right;\n",
       "    }\n",
       "</style>\n",
       "<table border=\"1\" class=\"dataframe\">\n",
       "  <thead>\n",
       "    <tr style=\"text-align: right;\">\n",
       "      <th></th>\n",
       "      <th>listing_id</th>\n",
       "      <th>reviews_per_month</th>\n",
       "    </tr>\n",
       "  </thead>\n",
       "  <tbody>\n",
       "    <tr>\n",
       "      <td>0</td>\n",
       "      <td>2265</td>\n",
       "      <td>1.000000</td>\n",
       "    </tr>\n",
       "    <tr>\n",
       "      <td>1</td>\n",
       "      <td>5456</td>\n",
       "      <td>4.500000</td>\n",
       "    </tr>\n",
       "    <tr>\n",
       "      <td>2</td>\n",
       "      <td>5769</td>\n",
       "      <td>2.428571</td>\n",
       "    </tr>\n",
       "    <tr>\n",
       "      <td>3</td>\n",
       "      <td>6413</td>\n",
       "      <td>2.300000</td>\n",
       "    </tr>\n",
       "    <tr>\n",
       "      <td>4</td>\n",
       "      <td>6448</td>\n",
       "      <td>2.888889</td>\n",
       "    </tr>\n",
       "  </tbody>\n",
       "</table>\n",
       "</div>"
      ],
      "text/plain": [
       "   listing_id  reviews_per_month\n",
       "0        2265           1.000000\n",
       "1        5456           4.500000\n",
       "2        5769           2.428571\n",
       "3        6413           2.300000\n",
       "4        6448           2.888889"
      ]
     },
     "execution_count": 27,
     "metadata": {},
     "output_type": "execute_result"
    }
   ],
   "source": [
    "count_2019_20_monthly.head()"
   ]
  },
  {
   "cell_type": "code",
   "execution_count": 29,
   "metadata": {},
   "outputs": [],
   "source": [
    "data_set = pd.merge(count_2019_20_monthly, list_data, \n",
    "              left_on='listing_id', right_on='id')"
   ]
  },
  {
   "cell_type": "code",
   "execution_count": 30,
   "metadata": {
    "scrolled": true
   },
   "outputs": [
    {
     "data": {
      "text/html": [
       "<div>\n",
       "<style scoped>\n",
       "    .dataframe tbody tr th:only-of-type {\n",
       "        vertical-align: middle;\n",
       "    }\n",
       "\n",
       "    .dataframe tbody tr th {\n",
       "        vertical-align: top;\n",
       "    }\n",
       "\n",
       "    .dataframe thead th {\n",
       "        text-align: right;\n",
       "    }\n",
       "</style>\n",
       "<table border=\"1\" class=\"dataframe\">\n",
       "  <thead>\n",
       "    <tr style=\"text-align: right;\">\n",
       "      <th></th>\n",
       "      <th>listing_id</th>\n",
       "      <th>reviews_per_month_x</th>\n",
       "      <th>id</th>\n",
       "      <th>listing_url</th>\n",
       "      <th>scrape_id</th>\n",
       "      <th>last_scraped</th>\n",
       "      <th>name</th>\n",
       "      <th>summary</th>\n",
       "      <th>space</th>\n",
       "      <th>description</th>\n",
       "      <th>...</th>\n",
       "      <th>instant_bookable</th>\n",
       "      <th>is_business_travel_ready</th>\n",
       "      <th>cancellation_policy</th>\n",
       "      <th>require_guest_profile_picture</th>\n",
       "      <th>require_guest_phone_verification</th>\n",
       "      <th>calculated_host_listings_count</th>\n",
       "      <th>calculated_host_listings_count_entire_homes</th>\n",
       "      <th>calculated_host_listings_count_private_rooms</th>\n",
       "      <th>calculated_host_listings_count_shared_rooms</th>\n",
       "      <th>reviews_per_month_y</th>\n",
       "    </tr>\n",
       "  </thead>\n",
       "  <tbody>\n",
       "    <tr>\n",
       "      <td>0</td>\n",
       "      <td>2265</td>\n",
       "      <td>1.000000</td>\n",
       "      <td>2265</td>\n",
       "      <td>https://www.airbnb.com/rooms/2265</td>\n",
       "      <td>20200317143754</td>\n",
       "      <td>2020-03-17</td>\n",
       "      <td>Zen-East in the Heart of Austin (monthly rental)</td>\n",
       "      <td>Zen East is situated in a vibrant &amp; diverse mu...</td>\n",
       "      <td>This colorful and clean 1923 house was complet...</td>\n",
       "      <td>Zen East is situated in a vibrant &amp; diverse mu...</td>\n",
       "      <td>...</td>\n",
       "      <td>f</td>\n",
       "      <td>f</td>\n",
       "      <td>strict_14_with_grace_period</td>\n",
       "      <td>f</td>\n",
       "      <td>f</td>\n",
       "      <td>3</td>\n",
       "      <td>2</td>\n",
       "      <td>1</td>\n",
       "      <td>0</td>\n",
       "      <td>0.18</td>\n",
       "    </tr>\n",
       "    <tr>\n",
       "      <td>1</td>\n",
       "      <td>5456</td>\n",
       "      <td>4.500000</td>\n",
       "      <td>5456</td>\n",
       "      <td>https://www.airbnb.com/rooms/5456</td>\n",
       "      <td>20200317143754</td>\n",
       "      <td>2020-03-17</td>\n",
       "      <td>Walk to 6th, Rainey St and Convention Ctr</td>\n",
       "      <td>Great central  location for walking to Convent...</td>\n",
       "      <td>Cute Private Studio apartment located in Willo...</td>\n",
       "      <td>Great central  location for walking to Convent...</td>\n",
       "      <td>...</td>\n",
       "      <td>f</td>\n",
       "      <td>f</td>\n",
       "      <td>strict_14_with_grace_period</td>\n",
       "      <td>f</td>\n",
       "      <td>t</td>\n",
       "      <td>1</td>\n",
       "      <td>1</td>\n",
       "      <td>0</td>\n",
       "      <td>0</td>\n",
       "      <td>3.94</td>\n",
       "    </tr>\n",
       "    <tr>\n",
       "      <td>2</td>\n",
       "      <td>5769</td>\n",
       "      <td>2.428571</td>\n",
       "      <td>5769</td>\n",
       "      <td>https://www.airbnb.com/rooms/5769</td>\n",
       "      <td>20200317143754</td>\n",
       "      <td>2020-03-17</td>\n",
       "      <td>NW Austin Room</td>\n",
       "      <td>NaN</td>\n",
       "      <td>Looking for a comfortable inexpensive room to ...</td>\n",
       "      <td>Looking for a comfortable inexpensive room to ...</td>\n",
       "      <td>...</td>\n",
       "      <td>f</td>\n",
       "      <td>f</td>\n",
       "      <td>moderate</td>\n",
       "      <td>t</td>\n",
       "      <td>t</td>\n",
       "      <td>1</td>\n",
       "      <td>0</td>\n",
       "      <td>1</td>\n",
       "      <td>0</td>\n",
       "      <td>2.12</td>\n",
       "    </tr>\n",
       "    <tr>\n",
       "      <td>3</td>\n",
       "      <td>6413</td>\n",
       "      <td>2.300000</td>\n",
       "      <td>6413</td>\n",
       "      <td>https://www.airbnb.com/rooms/6413</td>\n",
       "      <td>20200317143754</td>\n",
       "      <td>2020-03-17</td>\n",
       "      <td>Gem of a Studio near Downtown</td>\n",
       "      <td>Great studio apartment, perfect for couples or...</td>\n",
       "      <td>!!!!! SXSW info !!!!! Presently open (again!) ...</td>\n",
       "      <td>Great studio apartment, perfect for couples or...</td>\n",
       "      <td>...</td>\n",
       "      <td>t</td>\n",
       "      <td>f</td>\n",
       "      <td>strict_14_with_grace_period</td>\n",
       "      <td>f</td>\n",
       "      <td>f</td>\n",
       "      <td>1</td>\n",
       "      <td>1</td>\n",
       "      <td>0</td>\n",
       "      <td>0</td>\n",
       "      <td>0.90</td>\n",
       "    </tr>\n",
       "    <tr>\n",
       "      <td>4</td>\n",
       "      <td>6448</td>\n",
       "      <td>2.888889</td>\n",
       "      <td>6448</td>\n",
       "      <td>https://www.airbnb.com/rooms/6448</td>\n",
       "      <td>20200317143754</td>\n",
       "      <td>2020-03-17</td>\n",
       "      <td>Secluded Studio in 78704 (Zilker)</td>\n",
       "      <td>Our garage apartment provides a private space ...</td>\n",
       "      <td>Stay in our lovely 1 bedroom garage apartment ...</td>\n",
       "      <td>Our garage apartment provides a private space ...</td>\n",
       "      <td>...</td>\n",
       "      <td>t</td>\n",
       "      <td>f</td>\n",
       "      <td>strict_14_with_grace_period</td>\n",
       "      <td>f</td>\n",
       "      <td>f</td>\n",
       "      <td>2</td>\n",
       "      <td>2</td>\n",
       "      <td>0</td>\n",
       "      <td>0</td>\n",
       "      <td>2.20</td>\n",
       "    </tr>\n",
       "  </tbody>\n",
       "</table>\n",
       "<p>5 rows × 108 columns</p>\n",
       "</div>"
      ],
      "text/plain": [
       "   listing_id  reviews_per_month_x    id                        listing_url  \\\n",
       "0        2265             1.000000  2265  https://www.airbnb.com/rooms/2265   \n",
       "1        5456             4.500000  5456  https://www.airbnb.com/rooms/5456   \n",
       "2        5769             2.428571  5769  https://www.airbnb.com/rooms/5769   \n",
       "3        6413             2.300000  6413  https://www.airbnb.com/rooms/6413   \n",
       "4        6448             2.888889  6448  https://www.airbnb.com/rooms/6448   \n",
       "\n",
       "        scrape_id last_scraped  \\\n",
       "0  20200317143754   2020-03-17   \n",
       "1  20200317143754   2020-03-17   \n",
       "2  20200317143754   2020-03-17   \n",
       "3  20200317143754   2020-03-17   \n",
       "4  20200317143754   2020-03-17   \n",
       "\n",
       "                                               name  \\\n",
       "0  Zen-East in the Heart of Austin (monthly rental)   \n",
       "1         Walk to 6th, Rainey St and Convention Ctr   \n",
       "2                                    NW Austin Room   \n",
       "3                     Gem of a Studio near Downtown   \n",
       "4                 Secluded Studio in 78704 (Zilker)   \n",
       "\n",
       "                                             summary  \\\n",
       "0  Zen East is situated in a vibrant & diverse mu...   \n",
       "1  Great central  location for walking to Convent...   \n",
       "2                                                NaN   \n",
       "3  Great studio apartment, perfect for couples or...   \n",
       "4  Our garage apartment provides a private space ...   \n",
       "\n",
       "                                               space  \\\n",
       "0  This colorful and clean 1923 house was complet...   \n",
       "1  Cute Private Studio apartment located in Willo...   \n",
       "2  Looking for a comfortable inexpensive room to ...   \n",
       "3  !!!!! SXSW info !!!!! Presently open (again!) ...   \n",
       "4  Stay in our lovely 1 bedroom garage apartment ...   \n",
       "\n",
       "                                         description  ... instant_bookable  \\\n",
       "0  Zen East is situated in a vibrant & diverse mu...  ...                f   \n",
       "1  Great central  location for walking to Convent...  ...                f   \n",
       "2  Looking for a comfortable inexpensive room to ...  ...                f   \n",
       "3  Great studio apartment, perfect for couples or...  ...                t   \n",
       "4  Our garage apartment provides a private space ...  ...                t   \n",
       "\n",
       "  is_business_travel_ready          cancellation_policy  \\\n",
       "0                        f  strict_14_with_grace_period   \n",
       "1                        f  strict_14_with_grace_period   \n",
       "2                        f                     moderate   \n",
       "3                        f  strict_14_with_grace_period   \n",
       "4                        f  strict_14_with_grace_period   \n",
       "\n",
       "  require_guest_profile_picture require_guest_phone_verification  \\\n",
       "0                             f                                f   \n",
       "1                             f                                t   \n",
       "2                             t                                t   \n",
       "3                             f                                f   \n",
       "4                             f                                f   \n",
       "\n",
       "  calculated_host_listings_count calculated_host_listings_count_entire_homes  \\\n",
       "0                              3                                           2   \n",
       "1                              1                                           1   \n",
       "2                              1                                           0   \n",
       "3                              1                                           1   \n",
       "4                              2                                           2   \n",
       "\n",
       "   calculated_host_listings_count_private_rooms  \\\n",
       "0                                             1   \n",
       "1                                             0   \n",
       "2                                             1   \n",
       "3                                             0   \n",
       "4                                             0   \n",
       "\n",
       "   calculated_host_listings_count_shared_rooms reviews_per_month_y  \n",
       "0                                            0                0.18  \n",
       "1                                            0                3.94  \n",
       "2                                            0                2.12  \n",
       "3                                            0                0.90  \n",
       "4                                            0                2.20  \n",
       "\n",
       "[5 rows x 108 columns]"
      ]
     },
     "execution_count": 30,
     "metadata": {},
     "output_type": "execute_result"
    }
   ],
   "source": [
    "data_set.head()"
   ]
  },
  {
   "cell_type": "code",
   "execution_count": 31,
   "metadata": {},
   "outputs": [],
   "source": [
    "data_set.drop('id',axis=1,inplace=True)"
   ]
  },
  {
   "cell_type": "code",
   "execution_count": 32,
   "metadata": {},
   "outputs": [
    {
     "data": {
      "text/html": [
       "<div>\n",
       "<style scoped>\n",
       "    .dataframe tbody tr th:only-of-type {\n",
       "        vertical-align: middle;\n",
       "    }\n",
       "\n",
       "    .dataframe tbody tr th {\n",
       "        vertical-align: top;\n",
       "    }\n",
       "\n",
       "    .dataframe thead th {\n",
       "        text-align: right;\n",
       "    }\n",
       "</style>\n",
       "<table border=\"1\" class=\"dataframe\">\n",
       "  <thead>\n",
       "    <tr style=\"text-align: right;\">\n",
       "      <th></th>\n",
       "      <th>listing_id</th>\n",
       "      <th>reviews_per_month_x</th>\n",
       "      <th>listing_url</th>\n",
       "      <th>scrape_id</th>\n",
       "      <th>last_scraped</th>\n",
       "      <th>name</th>\n",
       "      <th>summary</th>\n",
       "      <th>space</th>\n",
       "      <th>description</th>\n",
       "      <th>experiences_offered</th>\n",
       "      <th>...</th>\n",
       "      <th>instant_bookable</th>\n",
       "      <th>is_business_travel_ready</th>\n",
       "      <th>cancellation_policy</th>\n",
       "      <th>require_guest_profile_picture</th>\n",
       "      <th>require_guest_phone_verification</th>\n",
       "      <th>calculated_host_listings_count</th>\n",
       "      <th>calculated_host_listings_count_entire_homes</th>\n",
       "      <th>calculated_host_listings_count_private_rooms</th>\n",
       "      <th>calculated_host_listings_count_shared_rooms</th>\n",
       "      <th>reviews_per_month_y</th>\n",
       "    </tr>\n",
       "  </thead>\n",
       "  <tbody>\n",
       "    <tr>\n",
       "      <td>0</td>\n",
       "      <td>2265</td>\n",
       "      <td>1.0</td>\n",
       "      <td>https://www.airbnb.com/rooms/2265</td>\n",
       "      <td>20200317143754</td>\n",
       "      <td>2020-03-17</td>\n",
       "      <td>Zen-East in the Heart of Austin (monthly rental)</td>\n",
       "      <td>Zen East is situated in a vibrant &amp; diverse mu...</td>\n",
       "      <td>This colorful and clean 1923 house was complet...</td>\n",
       "      <td>Zen East is situated in a vibrant &amp; diverse mu...</td>\n",
       "      <td>none</td>\n",
       "      <td>...</td>\n",
       "      <td>f</td>\n",
       "      <td>f</td>\n",
       "      <td>strict_14_with_grace_period</td>\n",
       "      <td>f</td>\n",
       "      <td>f</td>\n",
       "      <td>3</td>\n",
       "      <td>2</td>\n",
       "      <td>1</td>\n",
       "      <td>0</td>\n",
       "      <td>0.18</td>\n",
       "    </tr>\n",
       "  </tbody>\n",
       "</table>\n",
       "<p>1 rows × 107 columns</p>\n",
       "</div>"
      ],
      "text/plain": [
       "   listing_id  reviews_per_month_x                        listing_url  \\\n",
       "0        2265                  1.0  https://www.airbnb.com/rooms/2265   \n",
       "\n",
       "        scrape_id last_scraped  \\\n",
       "0  20200317143754   2020-03-17   \n",
       "\n",
       "                                               name  \\\n",
       "0  Zen-East in the Heart of Austin (monthly rental)   \n",
       "\n",
       "                                             summary  \\\n",
       "0  Zen East is situated in a vibrant & diverse mu...   \n",
       "\n",
       "                                               space  \\\n",
       "0  This colorful and clean 1923 house was complet...   \n",
       "\n",
       "                                         description experiences_offered  ...  \\\n",
       "0  Zen East is situated in a vibrant & diverse mu...                none  ...   \n",
       "\n",
       "  instant_bookable is_business_travel_ready          cancellation_policy  \\\n",
       "0                f                        f  strict_14_with_grace_period   \n",
       "\n",
       "  require_guest_profile_picture require_guest_phone_verification  \\\n",
       "0                             f                                f   \n",
       "\n",
       "  calculated_host_listings_count  calculated_host_listings_count_entire_homes  \\\n",
       "0                              3                                            2   \n",
       "\n",
       "   calculated_host_listings_count_private_rooms  \\\n",
       "0                                             1   \n",
       "\n",
       "  calculated_host_listings_count_shared_rooms  reviews_per_month_y  \n",
       "0                                           0                 0.18  \n",
       "\n",
       "[1 rows x 107 columns]"
      ]
     },
     "execution_count": 32,
     "metadata": {},
     "output_type": "execute_result"
    }
   ],
   "source": [
    "data_set.head(1)"
   ]
  },
  {
   "cell_type": "code",
   "execution_count": 33,
   "metadata": {},
   "outputs": [],
   "source": [
    "data_set.to_csv (r'C:\\Users\\Sathish Reddy\\Desktop\\R-project\\working_dr\\Listings+Reviews_PM_3-2019to2-20.csv', header=True)"
   ]
  },
  {
   "cell_type": "code",
   "execution_count": 315,
   "metadata": {},
   "outputs": [],
   "source": [
    "amenities_data=pd.read_csv(\"C:\\\\Users\\\\Sathish Reddy\\\\Desktop\\\\R-project\\\\working_dr\\\\Only_Amenities.csv\")"
   ]
  },
  {
   "cell_type": "code",
   "execution_count": 316,
   "metadata": {
    "scrolled": true
   },
   "outputs": [
    {
     "data": {
      "text/html": [
       "<div>\n",
       "<style scoped>\n",
       "    .dataframe tbody tr th:only-of-type {\n",
       "        vertical-align: middle;\n",
       "    }\n",
       "\n",
       "    .dataframe tbody tr th {\n",
       "        vertical-align: top;\n",
       "    }\n",
       "\n",
       "    .dataframe thead th {\n",
       "        text-align: right;\n",
       "    }\n",
       "</style>\n",
       "<table border=\"1\" class=\"dataframe\">\n",
       "  <thead>\n",
       "    <tr style=\"text-align: right;\">\n",
       "      <th></th>\n",
       "      <th>id</th>\n",
       "      <th>amenities</th>\n",
       "    </tr>\n",
       "  </thead>\n",
       "  <tbody>\n",
       "    <tr>\n",
       "      <td>0</td>\n",
       "      <td>2265</td>\n",
       "      <td>{TV,\"Cable TV\",Internet,Wifi,\"Air conditioning...</td>\n",
       "    </tr>\n",
       "    <tr>\n",
       "      <td>1</td>\n",
       "      <td>5245</td>\n",
       "      <td>{TV,\"Cable TV\",Internet,Wifi,\"Air conditioning...</td>\n",
       "    </tr>\n",
       "    <tr>\n",
       "      <td>2</td>\n",
       "      <td>5456</td>\n",
       "      <td>{TV,Wifi,\"Air conditioning\",Kitchen,\"Pets live...</td>\n",
       "    </tr>\n",
       "  </tbody>\n",
       "</table>\n",
       "</div>"
      ],
      "text/plain": [
       "     id                                          amenities\n",
       "0  2265  {TV,\"Cable TV\",Internet,Wifi,\"Air conditioning...\n",
       "1  5245  {TV,\"Cable TV\",Internet,Wifi,\"Air conditioning...\n",
       "2  5456  {TV,Wifi,\"Air conditioning\",Kitchen,\"Pets live..."
      ]
     },
     "execution_count": 316,
     "metadata": {},
     "output_type": "execute_result"
    }
   ],
   "source": [
    "amenities_data.head(3)"
   ]
  },
  {
   "cell_type": "code",
   "execution_count": 317,
   "metadata": {},
   "outputs": [],
   "source": [
    "amenities_data.amenities = amenities_data.amenities.str.replace(\"[{}]\", \"\").str.replace('\"', \"\")"
   ]
  },
  {
   "cell_type": "code",
   "execution_count": 318,
   "metadata": {},
   "outputs": [
    {
     "data": {
      "text/plain": [
       "0    TV,Cable TV,Internet,Wifi,Air conditioning,Kit...\n",
       "1    TV,Cable TV,Internet,Wifi,Air conditioning,Kit...\n",
       "2    TV,Wifi,Air conditioning,Kitchen,Pets live on ...\n",
       "Name: amenities, dtype: object"
      ]
     },
     "execution_count": 318,
     "metadata": {},
     "output_type": "execute_result"
    }
   ],
   "source": [
    "amenities_data['amenities'].head(3)"
   ]
  },
  {
   "cell_type": "code",
   "execution_count": 319,
   "metadata": {
    "scrolled": true
   },
   "outputs": [
    {
     "name": "stderr",
     "output_type": "stream",
     "text": [
      "C:\\ProgramData\\Anaconda3\\lib\\site-packages\\ipykernel_launcher.py:2: SettingWithCopyWarning: \n",
      "A value is trying to be set on a copy of a slice from a DataFrame\n",
      "\n",
      "See the caveats in the documentation: http://pandas.pydata.org/pandas-docs/stable/user_guide/indexing.html#returning-a-view-versus-a-copy\n",
      "  \n"
     ]
    }
   ],
   "source": [
    "for i in range(amenities_data.shape[0]):\n",
    "    amenities_data['amenities'][i]=amenities_data['amenities'][i].split(',')"
   ]
  },
  {
   "cell_type": "code",
   "execution_count": 320,
   "metadata": {
    "scrolled": true
   },
   "outputs": [
    {
     "data": {
      "text/plain": [
       "['TV',\n",
       " 'Cable TV',\n",
       " 'Internet',\n",
       " 'Wifi',\n",
       " 'Air conditioning',\n",
       " 'Kitchen',\n",
       " 'Free parking on premises',\n",
       " 'Paid parking off premises',\n",
       " 'Breakfast',\n",
       " 'Pets live on this property',\n",
       " 'Dog(s)',\n",
       " 'Free street parking',\n",
       " 'Heating',\n",
       " 'Family/kid friendly',\n",
       " 'Washer',\n",
       " 'Dryer',\n",
       " 'Smoke detector',\n",
       " 'Carbon monoxide detector',\n",
       " 'Essentials',\n",
       " 'Shampoo',\n",
       " 'Hangers',\n",
       " 'Hair dryer',\n",
       " 'Iron',\n",
       " 'Laptop friendly workspace',\n",
       " 'Self check-in',\n",
       " 'Lockbox',\n",
       " 'Private entrance',\n",
       " 'Hot water',\n",
       " 'Bed linens',\n",
       " 'Extra pillows and blankets',\n",
       " 'Microwave',\n",
       " 'Coffee maker',\n",
       " 'Refrigerator',\n",
       " 'Dishes and silverware',\n",
       " 'Cooking basics',\n",
       " 'Oven',\n",
       " 'Stove',\n",
       " 'Garden or backyard']"
      ]
     },
     "execution_count": 320,
     "metadata": {},
     "output_type": "execute_result"
    }
   ],
   "source": [
    "amenities_data['amenities'][0]"
   ]
  },
  {
   "cell_type": "code",
   "execution_count": 321,
   "metadata": {},
   "outputs": [
    {
     "data": {
      "text/plain": [
       "list"
      ]
     },
     "execution_count": 321,
     "metadata": {},
     "output_type": "execute_result"
    }
   ],
   "source": [
    "type(amenities_data['amenities'][0])"
   ]
  },
  {
   "cell_type": "code",
   "execution_count": 322,
   "metadata": {},
   "outputs": [],
   "source": [
    "amenities_data['dummy_amenities']=amenities_data['amenities']"
   ]
  },
  {
   "cell_type": "code",
   "execution_count": 323,
   "metadata": {},
   "outputs": [
    {
     "data": {
      "text/html": [
       "<div>\n",
       "<style scoped>\n",
       "    .dataframe tbody tr th:only-of-type {\n",
       "        vertical-align: middle;\n",
       "    }\n",
       "\n",
       "    .dataframe tbody tr th {\n",
       "        vertical-align: top;\n",
       "    }\n",
       "\n",
       "    .dataframe thead th {\n",
       "        text-align: right;\n",
       "    }\n",
       "</style>\n",
       "<table border=\"1\" class=\"dataframe\">\n",
       "  <thead>\n",
       "    <tr style=\"text-align: right;\">\n",
       "      <th></th>\n",
       "      <th>id</th>\n",
       "      <th>amenities</th>\n",
       "      <th>dummy_amenities</th>\n",
       "    </tr>\n",
       "  </thead>\n",
       "  <tbody>\n",
       "    <tr>\n",
       "      <td>0</td>\n",
       "      <td>2265</td>\n",
       "      <td>[TV, Cable TV, Internet, Wifi, Air conditionin...</td>\n",
       "      <td>[TV, Cable TV, Internet, Wifi, Air conditionin...</td>\n",
       "    </tr>\n",
       "    <tr>\n",
       "      <td>1</td>\n",
       "      <td>5245</td>\n",
       "      <td>[TV, Cable TV, Internet, Wifi, Air conditionin...</td>\n",
       "      <td>[TV, Cable TV, Internet, Wifi, Air conditionin...</td>\n",
       "    </tr>\n",
       "    <tr>\n",
       "      <td>2</td>\n",
       "      <td>5456</td>\n",
       "      <td>[TV, Wifi, Air conditioning, Kitchen, Pets liv...</td>\n",
       "      <td>[TV, Wifi, Air conditioning, Kitchen, Pets liv...</td>\n",
       "    </tr>\n",
       "  </tbody>\n",
       "</table>\n",
       "</div>"
      ],
      "text/plain": [
       "     id                                          amenities  \\\n",
       "0  2265  [TV, Cable TV, Internet, Wifi, Air conditionin...   \n",
       "1  5245  [TV, Cable TV, Internet, Wifi, Air conditionin...   \n",
       "2  5456  [TV, Wifi, Air conditioning, Kitchen, Pets liv...   \n",
       "\n",
       "                                     dummy_amenities  \n",
       "0  [TV, Cable TV, Internet, Wifi, Air conditionin...  \n",
       "1  [TV, Cable TV, Internet, Wifi, Air conditionin...  \n",
       "2  [TV, Wifi, Air conditioning, Kitchen, Pets liv...  "
      ]
     },
     "execution_count": 323,
     "metadata": {},
     "output_type": "execute_result"
    }
   ],
   "source": [
    "amenities_data.head(3)"
   ]
  },
  {
   "cell_type": "code",
   "execution_count": 324,
   "metadata": {},
   "outputs": [],
   "source": [
    "imp_amenities=['Air conditioning','Wifi','Heating','TV', 'Free parking on premises']"
   ]
  },
  {
   "cell_type": "code",
   "execution_count": 325,
   "metadata": {},
   "outputs": [
    {
     "name": "stderr",
     "output_type": "stream",
     "text": [
      "C:\\ProgramData\\Anaconda3\\lib\\site-packages\\ipykernel_launcher.py:6: SettingWithCopyWarning: \n",
      "A value is trying to be set on a copy of a slice from a DataFrame\n",
      "\n",
      "See the caveats in the documentation: http://pandas.pydata.org/pandas-docs/stable/user_guide/indexing.html#returning-a-view-versus-a-copy\n",
      "  \n"
     ]
    }
   ],
   "source": [
    "for i in range(amenities_data.shape[0]):\n",
    "    new=[]\n",
    "    for j in amenities_data['dummy_amenities'][i]:\n",
    "        if j in imp_amenities:\n",
    "            new.append(j)\n",
    "    amenities_data['dummy_amenities'][i]=new\n",
    "\n"
   ]
  },
  {
   "cell_type": "code",
   "execution_count": 326,
   "metadata": {},
   "outputs": [
    {
     "data": {
      "text/plain": [
       "['TV', 'Wifi', 'Air conditioning', 'Free parking on premises', 'Heating']"
      ]
     },
     "execution_count": 326,
     "metadata": {},
     "output_type": "execute_result"
    }
   ],
   "source": [
    "amenities_data['dummy_amenities'][0]"
   ]
  },
  {
   "cell_type": "code",
   "execution_count": 327,
   "metadata": {
    "scrolled": true
   },
   "outputs": [
    {
     "data": {
      "text/plain": [
       "['TV', 'Wifi', 'Air conditioning', 'Heating']"
      ]
     },
     "execution_count": 327,
     "metadata": {},
     "output_type": "execute_result"
    }
   ],
   "source": [
    "amenities_data['dummy_amenities'][2]"
   ]
  },
  {
   "cell_type": "code",
   "execution_count": 328,
   "metadata": {},
   "outputs": [
    {
     "data": {
      "text/html": [
       "<div>\n",
       "<style scoped>\n",
       "    .dataframe tbody tr th:only-of-type {\n",
       "        vertical-align: middle;\n",
       "    }\n",
       "\n",
       "    .dataframe tbody tr th {\n",
       "        vertical-align: top;\n",
       "    }\n",
       "\n",
       "    .dataframe thead th {\n",
       "        text-align: right;\n",
       "    }\n",
       "</style>\n",
       "<table border=\"1\" class=\"dataframe\">\n",
       "  <thead>\n",
       "    <tr style=\"text-align: right;\">\n",
       "      <th></th>\n",
       "      <th>id</th>\n",
       "      <th>amenities</th>\n",
       "      <th>dummy_amenities</th>\n",
       "    </tr>\n",
       "  </thead>\n",
       "  <tbody>\n",
       "    <tr>\n",
       "      <td>0</td>\n",
       "      <td>2265</td>\n",
       "      <td>[TV, Cable TV, Internet, Wifi, Air conditionin...</td>\n",
       "      <td>[TV, Wifi, Air conditioning, Free parking on p...</td>\n",
       "    </tr>\n",
       "    <tr>\n",
       "      <td>1</td>\n",
       "      <td>5245</td>\n",
       "      <td>[TV, Cable TV, Internet, Wifi, Air conditionin...</td>\n",
       "      <td>[TV, Wifi, Air conditioning, Free parking on p...</td>\n",
       "    </tr>\n",
       "    <tr>\n",
       "      <td>2</td>\n",
       "      <td>5456</td>\n",
       "      <td>[TV, Wifi, Air conditioning, Kitchen, Pets liv...</td>\n",
       "      <td>[TV, Wifi, Air conditioning, Heating]</td>\n",
       "    </tr>\n",
       "  </tbody>\n",
       "</table>\n",
       "</div>"
      ],
      "text/plain": [
       "     id                                          amenities  \\\n",
       "0  2265  [TV, Cable TV, Internet, Wifi, Air conditionin...   \n",
       "1  5245  [TV, Cable TV, Internet, Wifi, Air conditionin...   \n",
       "2  5456  [TV, Wifi, Air conditioning, Kitchen, Pets liv...   \n",
       "\n",
       "                                     dummy_amenities  \n",
       "0  [TV, Wifi, Air conditioning, Free parking on p...  \n",
       "1  [TV, Wifi, Air conditioning, Free parking on p...  \n",
       "2              [TV, Wifi, Air conditioning, Heating]  "
      ]
     },
     "execution_count": 328,
     "metadata": {},
     "output_type": "execute_result"
    }
   ],
   "source": [
    "amenities_data.head(3)"
   ]
  },
  {
   "cell_type": "code",
   "execution_count": 329,
   "metadata": {},
   "outputs": [],
   "source": [
    "amenities_data.drop(['amenities'],axis=1,inplace=True)"
   ]
  },
  {
   "cell_type": "code",
   "execution_count": 330,
   "metadata": {},
   "outputs": [],
   "source": [
    "amenities_data.to_csv(r'C:\\\\Users\\\\Sathish Reddy\\\\Desktop\\\\R-project\\\\Final_Amenities_dataset.csv')"
   ]
  },
  {
   "cell_type": "code",
   "execution_count": 331,
   "metadata": {},
   "outputs": [],
   "source": [
    "amenities_data=pd.read_csv(\"C:\\\\Users\\\\Sathish Reddy\\\\Desktop\\\\R-project\\\\working_dr\\\\Final_Amenities_dataset.csv\")\n",
    "listings_reviews_data=pd.read_csv(\"C:\\\\Users\\\\Sathish Reddy\\\\Desktop\\\\R-project\\\\working_dr\\\\Listings+Reviews_PM_3-2019to2-20.csv\")"
   ]
  },
  {
   "cell_type": "code",
   "execution_count": 332,
   "metadata": {},
   "outputs": [
    {
     "data": {
      "text/plain": [
       "Index(['id', 'new_amenities'], dtype='object')"
      ]
     },
     "execution_count": 332,
     "metadata": {},
     "output_type": "execute_result"
    }
   ],
   "source": [
    "amenities_data.columns"
   ]
  },
  {
   "cell_type": "code",
   "execution_count": 333,
   "metadata": {},
   "outputs": [
    {
     "data": {
      "text/plain": [
       "Index(['Unnamed: 0', 'listing_id', 'reviews_per_month_x', 'listing_url',\n",
       "       'scrape_id', 'last_scraped', 'name', 'summary', 'space', 'description',\n",
       "       ...\n",
       "       'instant_bookable', 'is_business_travel_ready', 'cancellation_policy',\n",
       "       'require_guest_profile_picture', 'require_guest_phone_verification',\n",
       "       'calculated_host_listings_count',\n",
       "       'calculated_host_listings_count_entire_homes',\n",
       "       'calculated_host_listings_count_private_rooms',\n",
       "       'calculated_host_listings_count_shared_rooms', 'reviews_per_month_y'],\n",
       "      dtype='object', length=108)"
      ]
     },
     "execution_count": 333,
     "metadata": {},
     "output_type": "execute_result"
    }
   ],
   "source": [
    "listings_reviews_data.columns"
   ]
  },
  {
   "cell_type": "code",
   "execution_count": 334,
   "metadata": {},
   "outputs": [],
   "source": [
    "final_data = pd.merge(amenities_data, listings_reviews_data,left_on='id', right_on='listing_id')"
   ]
  },
  {
   "cell_type": "code",
   "execution_count": 335,
   "metadata": {},
   "outputs": [
    {
     "data": {
      "text/html": [
       "<div>\n",
       "<style scoped>\n",
       "    .dataframe tbody tr th:only-of-type {\n",
       "        vertical-align: middle;\n",
       "    }\n",
       "\n",
       "    .dataframe tbody tr th {\n",
       "        vertical-align: top;\n",
       "    }\n",
       "\n",
       "    .dataframe thead th {\n",
       "        text-align: right;\n",
       "    }\n",
       "</style>\n",
       "<table border=\"1\" class=\"dataframe\">\n",
       "  <thead>\n",
       "    <tr style=\"text-align: right;\">\n",
       "      <th></th>\n",
       "      <th>id</th>\n",
       "      <th>new_amenities</th>\n",
       "      <th>Unnamed: 0</th>\n",
       "      <th>listing_id</th>\n",
       "      <th>reviews_per_month_x</th>\n",
       "      <th>listing_url</th>\n",
       "      <th>scrape_id</th>\n",
       "      <th>last_scraped</th>\n",
       "      <th>name</th>\n",
       "      <th>summary</th>\n",
       "      <th>...</th>\n",
       "      <th>instant_bookable</th>\n",
       "      <th>is_business_travel_ready</th>\n",
       "      <th>cancellation_policy</th>\n",
       "      <th>require_guest_profile_picture</th>\n",
       "      <th>require_guest_phone_verification</th>\n",
       "      <th>calculated_host_listings_count</th>\n",
       "      <th>calculated_host_listings_count_entire_homes</th>\n",
       "      <th>calculated_host_listings_count_private_rooms</th>\n",
       "      <th>calculated_host_listings_count_shared_rooms</th>\n",
       "      <th>reviews_per_month_y</th>\n",
       "    </tr>\n",
       "  </thead>\n",
       "  <tbody>\n",
       "    <tr>\n",
       "      <td>0</td>\n",
       "      <td>2265</td>\n",
       "      <td>['TV', 'Wifi', 'Air conditioning', 'Free parki...</td>\n",
       "      <td>0</td>\n",
       "      <td>2265</td>\n",
       "      <td>1.000000</td>\n",
       "      <td>https://www.airbnb.com/rooms/2265</td>\n",
       "      <td>20200317143754</td>\n",
       "      <td>2020-03-17</td>\n",
       "      <td>Zen-East in the Heart of Austin (monthly rental)</td>\n",
       "      <td>Zen East is situated in a vibrant &amp; diverse mu...</td>\n",
       "      <td>...</td>\n",
       "      <td>f</td>\n",
       "      <td>f</td>\n",
       "      <td>strict_14_with_grace_period</td>\n",
       "      <td>f</td>\n",
       "      <td>f</td>\n",
       "      <td>3</td>\n",
       "      <td>2</td>\n",
       "      <td>1</td>\n",
       "      <td>0</td>\n",
       "      <td>0.18</td>\n",
       "    </tr>\n",
       "    <tr>\n",
       "      <td>1</td>\n",
       "      <td>5456</td>\n",
       "      <td>['TV', 'Wifi', 'Air conditioning', 'Heating']</td>\n",
       "      <td>1</td>\n",
       "      <td>5456</td>\n",
       "      <td>4.500000</td>\n",
       "      <td>https://www.airbnb.com/rooms/5456</td>\n",
       "      <td>20200317143754</td>\n",
       "      <td>2020-03-17</td>\n",
       "      <td>Walk to 6th, Rainey St and Convention Ctr</td>\n",
       "      <td>Great central  location for walking to Convent...</td>\n",
       "      <td>...</td>\n",
       "      <td>f</td>\n",
       "      <td>f</td>\n",
       "      <td>strict_14_with_grace_period</td>\n",
       "      <td>f</td>\n",
       "      <td>t</td>\n",
       "      <td>1</td>\n",
       "      <td>1</td>\n",
       "      <td>0</td>\n",
       "      <td>0</td>\n",
       "      <td>3.94</td>\n",
       "    </tr>\n",
       "    <tr>\n",
       "      <td>2</td>\n",
       "      <td>5769</td>\n",
       "      <td>['TV', 'Wifi', 'Air conditioning', 'Free parki...</td>\n",
       "      <td>2</td>\n",
       "      <td>5769</td>\n",
       "      <td>2.428571</td>\n",
       "      <td>https://www.airbnb.com/rooms/5769</td>\n",
       "      <td>20200317143754</td>\n",
       "      <td>2020-03-17</td>\n",
       "      <td>NW Austin Room</td>\n",
       "      <td>NaN</td>\n",
       "      <td>...</td>\n",
       "      <td>f</td>\n",
       "      <td>f</td>\n",
       "      <td>moderate</td>\n",
       "      <td>t</td>\n",
       "      <td>t</td>\n",
       "      <td>1</td>\n",
       "      <td>0</td>\n",
       "      <td>1</td>\n",
       "      <td>0</td>\n",
       "      <td>2.12</td>\n",
       "    </tr>\n",
       "  </tbody>\n",
       "</table>\n",
       "<p>3 rows × 110 columns</p>\n",
       "</div>"
      ],
      "text/plain": [
       "     id                                      new_amenities  Unnamed: 0  \\\n",
       "0  2265  ['TV', 'Wifi', 'Air conditioning', 'Free parki...           0   \n",
       "1  5456      ['TV', 'Wifi', 'Air conditioning', 'Heating']           1   \n",
       "2  5769  ['TV', 'Wifi', 'Air conditioning', 'Free parki...           2   \n",
       "\n",
       "   listing_id  reviews_per_month_x                        listing_url  \\\n",
       "0        2265             1.000000  https://www.airbnb.com/rooms/2265   \n",
       "1        5456             4.500000  https://www.airbnb.com/rooms/5456   \n",
       "2        5769             2.428571  https://www.airbnb.com/rooms/5769   \n",
       "\n",
       "        scrape_id last_scraped  \\\n",
       "0  20200317143754   2020-03-17   \n",
       "1  20200317143754   2020-03-17   \n",
       "2  20200317143754   2020-03-17   \n",
       "\n",
       "                                               name  \\\n",
       "0  Zen-East in the Heart of Austin (monthly rental)   \n",
       "1         Walk to 6th, Rainey St and Convention Ctr   \n",
       "2                                    NW Austin Room   \n",
       "\n",
       "                                             summary  ... instant_bookable  \\\n",
       "0  Zen East is situated in a vibrant & diverse mu...  ...                f   \n",
       "1  Great central  location for walking to Convent...  ...                f   \n",
       "2                                                NaN  ...                f   \n",
       "\n",
       "  is_business_travel_ready          cancellation_policy  \\\n",
       "0                        f  strict_14_with_grace_period   \n",
       "1                        f  strict_14_with_grace_period   \n",
       "2                        f                     moderate   \n",
       "\n",
       "  require_guest_profile_picture require_guest_phone_verification  \\\n",
       "0                             f                                f   \n",
       "1                             f                                t   \n",
       "2                             t                                t   \n",
       "\n",
       "  calculated_host_listings_count calculated_host_listings_count_entire_homes  \\\n",
       "0                              3                                           2   \n",
       "1                              1                                           1   \n",
       "2                              1                                           0   \n",
       "\n",
       "  calculated_host_listings_count_private_rooms  \\\n",
       "0                                            1   \n",
       "1                                            0   \n",
       "2                                            1   \n",
       "\n",
       "  calculated_host_listings_count_shared_rooms  reviews_per_month_y  \n",
       "0                                           0                 0.18  \n",
       "1                                           0                 3.94  \n",
       "2                                           0                 2.12  \n",
       "\n",
       "[3 rows x 110 columns]"
      ]
     },
     "execution_count": 335,
     "metadata": {},
     "output_type": "execute_result"
    }
   ],
   "source": [
    "final_data.head(3)"
   ]
  },
  {
   "cell_type": "code",
   "execution_count": 336,
   "metadata": {},
   "outputs": [],
   "source": [
    "final_data.drop('id',axis=1,inplace=True)"
   ]
  },
  {
   "cell_type": "code",
   "execution_count": 337,
   "metadata": {},
   "outputs": [],
   "source": [
    "final_data.reset_index(drop=True, inplace=True)"
   ]
  },
  {
   "cell_type": "code",
   "execution_count": 338,
   "metadata": {},
   "outputs": [
    {
     "data": {
      "text/html": [
       "<div>\n",
       "<style scoped>\n",
       "    .dataframe tbody tr th:only-of-type {\n",
       "        vertical-align: middle;\n",
       "    }\n",
       "\n",
       "    .dataframe tbody tr th {\n",
       "        vertical-align: top;\n",
       "    }\n",
       "\n",
       "    .dataframe thead th {\n",
       "        text-align: right;\n",
       "    }\n",
       "</style>\n",
       "<table border=\"1\" class=\"dataframe\">\n",
       "  <thead>\n",
       "    <tr style=\"text-align: right;\">\n",
       "      <th></th>\n",
       "      <th>new_amenities</th>\n",
       "      <th>Unnamed: 0</th>\n",
       "      <th>listing_id</th>\n",
       "      <th>reviews_per_month_x</th>\n",
       "      <th>listing_url</th>\n",
       "      <th>scrape_id</th>\n",
       "      <th>last_scraped</th>\n",
       "      <th>name</th>\n",
       "      <th>summary</th>\n",
       "      <th>space</th>\n",
       "      <th>...</th>\n",
       "      <th>instant_bookable</th>\n",
       "      <th>is_business_travel_ready</th>\n",
       "      <th>cancellation_policy</th>\n",
       "      <th>require_guest_profile_picture</th>\n",
       "      <th>require_guest_phone_verification</th>\n",
       "      <th>calculated_host_listings_count</th>\n",
       "      <th>calculated_host_listings_count_entire_homes</th>\n",
       "      <th>calculated_host_listings_count_private_rooms</th>\n",
       "      <th>calculated_host_listings_count_shared_rooms</th>\n",
       "      <th>reviews_per_month_y</th>\n",
       "    </tr>\n",
       "  </thead>\n",
       "  <tbody>\n",
       "    <tr>\n",
       "      <td>0</td>\n",
       "      <td>['TV', 'Wifi', 'Air conditioning', 'Free parki...</td>\n",
       "      <td>0</td>\n",
       "      <td>2265</td>\n",
       "      <td>1.000000</td>\n",
       "      <td>https://www.airbnb.com/rooms/2265</td>\n",
       "      <td>20200317143754</td>\n",
       "      <td>2020-03-17</td>\n",
       "      <td>Zen-East in the Heart of Austin (monthly rental)</td>\n",
       "      <td>Zen East is situated in a vibrant &amp; diverse mu...</td>\n",
       "      <td>This colorful and clean 1923 house was complet...</td>\n",
       "      <td>...</td>\n",
       "      <td>f</td>\n",
       "      <td>f</td>\n",
       "      <td>strict_14_with_grace_period</td>\n",
       "      <td>f</td>\n",
       "      <td>f</td>\n",
       "      <td>3</td>\n",
       "      <td>2</td>\n",
       "      <td>1</td>\n",
       "      <td>0</td>\n",
       "      <td>0.18</td>\n",
       "    </tr>\n",
       "    <tr>\n",
       "      <td>1</td>\n",
       "      <td>['TV', 'Wifi', 'Air conditioning', 'Heating']</td>\n",
       "      <td>1</td>\n",
       "      <td>5456</td>\n",
       "      <td>4.500000</td>\n",
       "      <td>https://www.airbnb.com/rooms/5456</td>\n",
       "      <td>20200317143754</td>\n",
       "      <td>2020-03-17</td>\n",
       "      <td>Walk to 6th, Rainey St and Convention Ctr</td>\n",
       "      <td>Great central  location for walking to Convent...</td>\n",
       "      <td>Cute Private Studio apartment located in Willo...</td>\n",
       "      <td>...</td>\n",
       "      <td>f</td>\n",
       "      <td>f</td>\n",
       "      <td>strict_14_with_grace_period</td>\n",
       "      <td>f</td>\n",
       "      <td>t</td>\n",
       "      <td>1</td>\n",
       "      <td>1</td>\n",
       "      <td>0</td>\n",
       "      <td>0</td>\n",
       "      <td>3.94</td>\n",
       "    </tr>\n",
       "    <tr>\n",
       "      <td>2</td>\n",
       "      <td>['TV', 'Wifi', 'Air conditioning', 'Free parki...</td>\n",
       "      <td>2</td>\n",
       "      <td>5769</td>\n",
       "      <td>2.428571</td>\n",
       "      <td>https://www.airbnb.com/rooms/5769</td>\n",
       "      <td>20200317143754</td>\n",
       "      <td>2020-03-17</td>\n",
       "      <td>NW Austin Room</td>\n",
       "      <td>NaN</td>\n",
       "      <td>Looking for a comfortable inexpensive room to ...</td>\n",
       "      <td>...</td>\n",
       "      <td>f</td>\n",
       "      <td>f</td>\n",
       "      <td>moderate</td>\n",
       "      <td>t</td>\n",
       "      <td>t</td>\n",
       "      <td>1</td>\n",
       "      <td>0</td>\n",
       "      <td>1</td>\n",
       "      <td>0</td>\n",
       "      <td>2.12</td>\n",
       "    </tr>\n",
       "  </tbody>\n",
       "</table>\n",
       "<p>3 rows × 109 columns</p>\n",
       "</div>"
      ],
      "text/plain": [
       "                                       new_amenities  Unnamed: 0  listing_id  \\\n",
       "0  ['TV', 'Wifi', 'Air conditioning', 'Free parki...           0        2265   \n",
       "1      ['TV', 'Wifi', 'Air conditioning', 'Heating']           1        5456   \n",
       "2  ['TV', 'Wifi', 'Air conditioning', 'Free parki...           2        5769   \n",
       "\n",
       "   reviews_per_month_x                        listing_url       scrape_id  \\\n",
       "0             1.000000  https://www.airbnb.com/rooms/2265  20200317143754   \n",
       "1             4.500000  https://www.airbnb.com/rooms/5456  20200317143754   \n",
       "2             2.428571  https://www.airbnb.com/rooms/5769  20200317143754   \n",
       "\n",
       "  last_scraped                                              name  \\\n",
       "0   2020-03-17  Zen-East in the Heart of Austin (monthly rental)   \n",
       "1   2020-03-17         Walk to 6th, Rainey St and Convention Ctr   \n",
       "2   2020-03-17                                    NW Austin Room   \n",
       "\n",
       "                                             summary  \\\n",
       "0  Zen East is situated in a vibrant & diverse mu...   \n",
       "1  Great central  location for walking to Convent...   \n",
       "2                                                NaN   \n",
       "\n",
       "                                               space  ... instant_bookable  \\\n",
       "0  This colorful and clean 1923 house was complet...  ...                f   \n",
       "1  Cute Private Studio apartment located in Willo...  ...                f   \n",
       "2  Looking for a comfortable inexpensive room to ...  ...                f   \n",
       "\n",
       "  is_business_travel_ready          cancellation_policy  \\\n",
       "0                        f  strict_14_with_grace_period   \n",
       "1                        f  strict_14_with_grace_period   \n",
       "2                        f                     moderate   \n",
       "\n",
       "  require_guest_profile_picture require_guest_phone_verification  \\\n",
       "0                             f                                f   \n",
       "1                             f                                t   \n",
       "2                             t                                t   \n",
       "\n",
       "  calculated_host_listings_count calculated_host_listings_count_entire_homes  \\\n",
       "0                              3                                           2   \n",
       "1                              1                                           1   \n",
       "2                              1                                           0   \n",
       "\n",
       "  calculated_host_listings_count_private_rooms  \\\n",
       "0                                            1   \n",
       "1                                            0   \n",
       "2                                            1   \n",
       "\n",
       "   calculated_host_listings_count_shared_rooms  reviews_per_month_y  \n",
       "0                                            0                 0.18  \n",
       "1                                            0                 3.94  \n",
       "2                                            0                 2.12  \n",
       "\n",
       "[3 rows x 109 columns]"
      ]
     },
     "execution_count": 338,
     "metadata": {},
     "output_type": "execute_result"
    }
   ],
   "source": [
    "final_data.head(3)"
   ]
  },
  {
   "cell_type": "code",
   "execution_count": 339,
   "metadata": {},
   "outputs": [
    {
     "data": {
      "text/plain": [
       "(7165, 109)"
      ]
     },
     "execution_count": 339,
     "metadata": {},
     "output_type": "execute_result"
    }
   ],
   "source": [
    "final_data.shape"
   ]
  },
  {
   "cell_type": "code",
   "execution_count": 340,
   "metadata": {},
   "outputs": [],
   "source": [
    "final_data.to_csv(r'C:\\\\Users\\\\Sathish Reddy\\\\Desktop\\\\R-project\\\\Listings+Amenities+ReviewsPm_Final.csv')"
   ]
  },
  {
   "cell_type": "code",
   "execution_count": 341,
   "metadata": {},
   "outputs": [],
   "source": [
    "# \"C:\\Users\\Sathish Reddy\\Desktop\\R-project\\working_dr\\end_data.csv\""
   ]
  },
  {
   "cell_type": "code",
   "execution_count": 342,
   "metadata": {},
   "outputs": [],
   "source": [
    "data_set=pd.read_csv(\"C:\\\\Users\\\\Sathish Reddy\\\\Desktop\\\\R-project\\\\working_dr\\\\end_data.csv\")"
   ]
  },
  {
   "cell_type": "code",
   "execution_count": 343,
   "metadata": {},
   "outputs": [
    {
     "data": {
      "text/html": [
       "<div>\n",
       "<style scoped>\n",
       "    .dataframe tbody tr th:only-of-type {\n",
       "        vertical-align: middle;\n",
       "    }\n",
       "\n",
       "    .dataframe tbody tr th {\n",
       "        vertical-align: top;\n",
       "    }\n",
       "\n",
       "    .dataframe thead th {\n",
       "        text-align: right;\n",
       "    }\n",
       "</style>\n",
       "<table border=\"1\" class=\"dataframe\">\n",
       "  <thead>\n",
       "    <tr style=\"text-align: right;\">\n",
       "      <th></th>\n",
       "      <th>Listing_id</th>\n",
       "      <th>Room_type</th>\n",
       "      <th>Amenities</th>\n",
       "      <th>Accommodates</th>\n",
       "      <th>Guests_included</th>\n",
       "      <th>Bathrooms</th>\n",
       "      <th>Bedrooms</th>\n",
       "      <th>Beds</th>\n",
       "      <th>Bed_type</th>\n",
       "      <th>Host_is_superhost</th>\n",
       "      <th>Square_feet</th>\n",
       "      <th>Price</th>\n",
       "      <th>Cleaning_fee</th>\n",
       "      <th>Extra_people</th>\n",
       "      <th>Minimum_nights</th>\n",
       "      <th>Maximum_nights</th>\n",
       "      <th>Availability_365</th>\n",
       "      <th>Reviews_per_month</th>\n",
       "    </tr>\n",
       "  </thead>\n",
       "  <tbody>\n",
       "    <tr>\n",
       "      <td>0</td>\n",
       "      <td>2265</td>\n",
       "      <td>Entire home/apt</td>\n",
       "      <td>['TV', 'Wifi', 'Air conditioning', 'Free parki...</td>\n",
       "      <td>4</td>\n",
       "      <td>4</td>\n",
       "      <td>2.0</td>\n",
       "      <td>2.0</td>\n",
       "      <td>2.0</td>\n",
       "      <td>Real Bed</td>\n",
       "      <td>t</td>\n",
       "      <td>NaN</td>\n",
       "      <td>$225.00</td>\n",
       "      <td>$100.00</td>\n",
       "      <td>$30.00</td>\n",
       "      <td>30</td>\n",
       "      <td>90</td>\n",
       "      <td>0</td>\n",
       "      <td>1.000000</td>\n",
       "    </tr>\n",
       "    <tr>\n",
       "      <td>1</td>\n",
       "      <td>5456</td>\n",
       "      <td>Entire home/apt</td>\n",
       "      <td>['TV', 'Wifi', 'Air conditioning', 'Heating']</td>\n",
       "      <td>3</td>\n",
       "      <td>2</td>\n",
       "      <td>1.0</td>\n",
       "      <td>1.0</td>\n",
       "      <td>2.0</td>\n",
       "      <td>Real Bed</td>\n",
       "      <td>t</td>\n",
       "      <td>NaN</td>\n",
       "      <td>$95.00</td>\n",
       "      <td>NaN</td>\n",
       "      <td>$45.00</td>\n",
       "      <td>2</td>\n",
       "      <td>90</td>\n",
       "      <td>334</td>\n",
       "      <td>4.500000</td>\n",
       "    </tr>\n",
       "    <tr>\n",
       "      <td>2</td>\n",
       "      <td>5769</td>\n",
       "      <td>Private room</td>\n",
       "      <td>['TV', 'Wifi', 'Air conditioning', 'Free parki...</td>\n",
       "      <td>2</td>\n",
       "      <td>2</td>\n",
       "      <td>1.0</td>\n",
       "      <td>1.0</td>\n",
       "      <td>1.0</td>\n",
       "      <td>Real Bed</td>\n",
       "      <td>t</td>\n",
       "      <td>NaN</td>\n",
       "      <td>$40.00</td>\n",
       "      <td>NaN</td>\n",
       "      <td>$0.00</td>\n",
       "      <td>1</td>\n",
       "      <td>14</td>\n",
       "      <td>14</td>\n",
       "      <td>2.428571</td>\n",
       "    </tr>\n",
       "  </tbody>\n",
       "</table>\n",
       "</div>"
      ],
      "text/plain": [
       "   Listing_id        Room_type  \\\n",
       "0        2265  Entire home/apt   \n",
       "1        5456  Entire home/apt   \n",
       "2        5769     Private room   \n",
       "\n",
       "                                           Amenities  Accommodates  \\\n",
       "0  ['TV', 'Wifi', 'Air conditioning', 'Free parki...             4   \n",
       "1      ['TV', 'Wifi', 'Air conditioning', 'Heating']             3   \n",
       "2  ['TV', 'Wifi', 'Air conditioning', 'Free parki...             2   \n",
       "\n",
       "   Guests_included  Bathrooms  Bedrooms  Beds  Bed_type Host_is_superhost  \\\n",
       "0                4        2.0       2.0   2.0  Real Bed                 t   \n",
       "1                2        1.0       1.0   2.0  Real Bed                 t   \n",
       "2                2        1.0       1.0   1.0  Real Bed                 t   \n",
       "\n",
       "   Square_feet     Price Cleaning_fee Extra_people  Minimum_nights  \\\n",
       "0          NaN  $225.00      $100.00       $30.00               30   \n",
       "1          NaN   $95.00           NaN      $45.00                2   \n",
       "2          NaN   $40.00           NaN       $0.00                1   \n",
       "\n",
       "   Maximum_nights  Availability_365  Reviews_per_month  \n",
       "0              90                 0           1.000000  \n",
       "1              90               334           4.500000  \n",
       "2              14                14           2.428571  "
      ]
     },
     "execution_count": 343,
     "metadata": {},
     "output_type": "execute_result"
    }
   ],
   "source": [
    "data_set.head(3)"
   ]
  },
  {
   "cell_type": "code",
   "execution_count": 344,
   "metadata": {},
   "outputs": [],
   "source": [
    "dollar = ['Cleaning_fee', 'Extra_people', 'Price']\n",
    "data_set[dollar] = data_set[dollar].replace('[\\$,]', '', regex=True)\n",
    "data_set[dollar] = data_set[dollar].apply(pd.to_numeric, errors='coerce')"
   ]
  },
  {
   "cell_type": "code",
   "execution_count": 345,
   "metadata": {},
   "outputs": [
    {
     "data": {
      "text/html": [
       "<div>\n",
       "<style scoped>\n",
       "    .dataframe tbody tr th:only-of-type {\n",
       "        vertical-align: middle;\n",
       "    }\n",
       "\n",
       "    .dataframe tbody tr th {\n",
       "        vertical-align: top;\n",
       "    }\n",
       "\n",
       "    .dataframe thead th {\n",
       "        text-align: right;\n",
       "    }\n",
       "</style>\n",
       "<table border=\"1\" class=\"dataframe\">\n",
       "  <thead>\n",
       "    <tr style=\"text-align: right;\">\n",
       "      <th></th>\n",
       "      <th>Listing_id</th>\n",
       "      <th>Room_type</th>\n",
       "      <th>Amenities</th>\n",
       "      <th>Accommodates</th>\n",
       "      <th>Guests_included</th>\n",
       "      <th>Bathrooms</th>\n",
       "      <th>Bedrooms</th>\n",
       "      <th>Beds</th>\n",
       "      <th>Bed_type</th>\n",
       "      <th>Host_is_superhost</th>\n",
       "      <th>Square_feet</th>\n",
       "      <th>Price</th>\n",
       "      <th>Cleaning_fee</th>\n",
       "      <th>Extra_people</th>\n",
       "      <th>Minimum_nights</th>\n",
       "      <th>Maximum_nights</th>\n",
       "      <th>Availability_365</th>\n",
       "      <th>Reviews_per_month</th>\n",
       "    </tr>\n",
       "  </thead>\n",
       "  <tbody>\n",
       "    <tr>\n",
       "      <td>0</td>\n",
       "      <td>2265</td>\n",
       "      <td>Entire home/apt</td>\n",
       "      <td>['TV', 'Wifi', 'Air conditioning', 'Free parki...</td>\n",
       "      <td>4</td>\n",
       "      <td>4</td>\n",
       "      <td>2.0</td>\n",
       "      <td>2.0</td>\n",
       "      <td>2.0</td>\n",
       "      <td>Real Bed</td>\n",
       "      <td>t</td>\n",
       "      <td>NaN</td>\n",
       "      <td>225.0</td>\n",
       "      <td>100.0</td>\n",
       "      <td>30.0</td>\n",
       "      <td>30</td>\n",
       "      <td>90</td>\n",
       "      <td>0</td>\n",
       "      <td>1.000000</td>\n",
       "    </tr>\n",
       "    <tr>\n",
       "      <td>1</td>\n",
       "      <td>5456</td>\n",
       "      <td>Entire home/apt</td>\n",
       "      <td>['TV', 'Wifi', 'Air conditioning', 'Heating']</td>\n",
       "      <td>3</td>\n",
       "      <td>2</td>\n",
       "      <td>1.0</td>\n",
       "      <td>1.0</td>\n",
       "      <td>2.0</td>\n",
       "      <td>Real Bed</td>\n",
       "      <td>t</td>\n",
       "      <td>NaN</td>\n",
       "      <td>95.0</td>\n",
       "      <td>NaN</td>\n",
       "      <td>45.0</td>\n",
       "      <td>2</td>\n",
       "      <td>90</td>\n",
       "      <td>334</td>\n",
       "      <td>4.500000</td>\n",
       "    </tr>\n",
       "    <tr>\n",
       "      <td>2</td>\n",
       "      <td>5769</td>\n",
       "      <td>Private room</td>\n",
       "      <td>['TV', 'Wifi', 'Air conditioning', 'Free parki...</td>\n",
       "      <td>2</td>\n",
       "      <td>2</td>\n",
       "      <td>1.0</td>\n",
       "      <td>1.0</td>\n",
       "      <td>1.0</td>\n",
       "      <td>Real Bed</td>\n",
       "      <td>t</td>\n",
       "      <td>NaN</td>\n",
       "      <td>40.0</td>\n",
       "      <td>NaN</td>\n",
       "      <td>0.0</td>\n",
       "      <td>1</td>\n",
       "      <td>14</td>\n",
       "      <td>14</td>\n",
       "      <td>2.428571</td>\n",
       "    </tr>\n",
       "  </tbody>\n",
       "</table>\n",
       "</div>"
      ],
      "text/plain": [
       "   Listing_id        Room_type  \\\n",
       "0        2265  Entire home/apt   \n",
       "1        5456  Entire home/apt   \n",
       "2        5769     Private room   \n",
       "\n",
       "                                           Amenities  Accommodates  \\\n",
       "0  ['TV', 'Wifi', 'Air conditioning', 'Free parki...             4   \n",
       "1      ['TV', 'Wifi', 'Air conditioning', 'Heating']             3   \n",
       "2  ['TV', 'Wifi', 'Air conditioning', 'Free parki...             2   \n",
       "\n",
       "   Guests_included  Bathrooms  Bedrooms  Beds  Bed_type Host_is_superhost  \\\n",
       "0                4        2.0       2.0   2.0  Real Bed                 t   \n",
       "1                2        1.0       1.0   2.0  Real Bed                 t   \n",
       "2                2        1.0       1.0   1.0  Real Bed                 t   \n",
       "\n",
       "   Square_feet  Price  Cleaning_fee  Extra_people  Minimum_nights  \\\n",
       "0          NaN  225.0         100.0          30.0              30   \n",
       "1          NaN   95.0           NaN          45.0               2   \n",
       "2          NaN   40.0           NaN           0.0               1   \n",
       "\n",
       "   Maximum_nights  Availability_365  Reviews_per_month  \n",
       "0              90                 0           1.000000  \n",
       "1              90               334           4.500000  \n",
       "2              14                14           2.428571  "
      ]
     },
     "execution_count": 345,
     "metadata": {},
     "output_type": "execute_result"
    }
   ],
   "source": [
    "data_set.head(3)"
   ]
  },
  {
   "cell_type": "code",
   "execution_count": 346,
   "metadata": {},
   "outputs": [
    {
     "data": {
      "text/plain": [
       "(7165, 18)"
      ]
     },
     "execution_count": 346,
     "metadata": {},
     "output_type": "execute_result"
    }
   ],
   "source": [
    "data_set.shape"
   ]
  },
  {
   "cell_type": "code",
   "execution_count": 347,
   "metadata": {},
   "outputs": [],
   "source": [
    "data_set['Tv']='TV'\n",
    "data_set['Wifi']='Wifi'\n",
    "data_set['Air conditioning']='Air conditioning'\n",
    "data_set['Free parking on premises']='Free parking on premises'\n",
    "data_set['Heating']='Heating'"
   ]
  },
  {
   "cell_type": "code",
   "execution_count": 348,
   "metadata": {},
   "outputs": [
    {
     "data": {
      "text/html": [
       "<div>\n",
       "<style scoped>\n",
       "    .dataframe tbody tr th:only-of-type {\n",
       "        vertical-align: middle;\n",
       "    }\n",
       "\n",
       "    .dataframe tbody tr th {\n",
       "        vertical-align: top;\n",
       "    }\n",
       "\n",
       "    .dataframe thead th {\n",
       "        text-align: right;\n",
       "    }\n",
       "</style>\n",
       "<table border=\"1\" class=\"dataframe\">\n",
       "  <thead>\n",
       "    <tr style=\"text-align: right;\">\n",
       "      <th></th>\n",
       "      <th>Listing_id</th>\n",
       "      <th>Room_type</th>\n",
       "      <th>Amenities</th>\n",
       "      <th>Accommodates</th>\n",
       "      <th>Guests_included</th>\n",
       "      <th>Bathrooms</th>\n",
       "      <th>Bedrooms</th>\n",
       "      <th>Beds</th>\n",
       "      <th>Bed_type</th>\n",
       "      <th>Host_is_superhost</th>\n",
       "      <th>...</th>\n",
       "      <th>Extra_people</th>\n",
       "      <th>Minimum_nights</th>\n",
       "      <th>Maximum_nights</th>\n",
       "      <th>Availability_365</th>\n",
       "      <th>Reviews_per_month</th>\n",
       "      <th>Tv</th>\n",
       "      <th>Wifi</th>\n",
       "      <th>Air conditioning</th>\n",
       "      <th>Free parking on premises</th>\n",
       "      <th>Heating</th>\n",
       "    </tr>\n",
       "  </thead>\n",
       "  <tbody>\n",
       "    <tr>\n",
       "      <td>0</td>\n",
       "      <td>2265</td>\n",
       "      <td>Entire home/apt</td>\n",
       "      <td>['TV', 'Wifi', 'Air conditioning', 'Free parki...</td>\n",
       "      <td>4</td>\n",
       "      <td>4</td>\n",
       "      <td>2.0</td>\n",
       "      <td>2.0</td>\n",
       "      <td>2.0</td>\n",
       "      <td>Real Bed</td>\n",
       "      <td>t</td>\n",
       "      <td>...</td>\n",
       "      <td>30.0</td>\n",
       "      <td>30</td>\n",
       "      <td>90</td>\n",
       "      <td>0</td>\n",
       "      <td>1.000000</td>\n",
       "      <td>TV</td>\n",
       "      <td>Wifi</td>\n",
       "      <td>Air conditioning</td>\n",
       "      <td>Free parking on premises</td>\n",
       "      <td>Heating</td>\n",
       "    </tr>\n",
       "    <tr>\n",
       "      <td>1</td>\n",
       "      <td>5456</td>\n",
       "      <td>Entire home/apt</td>\n",
       "      <td>['TV', 'Wifi', 'Air conditioning', 'Heating']</td>\n",
       "      <td>3</td>\n",
       "      <td>2</td>\n",
       "      <td>1.0</td>\n",
       "      <td>1.0</td>\n",
       "      <td>2.0</td>\n",
       "      <td>Real Bed</td>\n",
       "      <td>t</td>\n",
       "      <td>...</td>\n",
       "      <td>45.0</td>\n",
       "      <td>2</td>\n",
       "      <td>90</td>\n",
       "      <td>334</td>\n",
       "      <td>4.500000</td>\n",
       "      <td>TV</td>\n",
       "      <td>Wifi</td>\n",
       "      <td>Air conditioning</td>\n",
       "      <td>Free parking on premises</td>\n",
       "      <td>Heating</td>\n",
       "    </tr>\n",
       "    <tr>\n",
       "      <td>2</td>\n",
       "      <td>5769</td>\n",
       "      <td>Private room</td>\n",
       "      <td>['TV', 'Wifi', 'Air conditioning', 'Free parki...</td>\n",
       "      <td>2</td>\n",
       "      <td>2</td>\n",
       "      <td>1.0</td>\n",
       "      <td>1.0</td>\n",
       "      <td>1.0</td>\n",
       "      <td>Real Bed</td>\n",
       "      <td>t</td>\n",
       "      <td>...</td>\n",
       "      <td>0.0</td>\n",
       "      <td>1</td>\n",
       "      <td>14</td>\n",
       "      <td>14</td>\n",
       "      <td>2.428571</td>\n",
       "      <td>TV</td>\n",
       "      <td>Wifi</td>\n",
       "      <td>Air conditioning</td>\n",
       "      <td>Free parking on premises</td>\n",
       "      <td>Heating</td>\n",
       "    </tr>\n",
       "  </tbody>\n",
       "</table>\n",
       "<p>3 rows × 23 columns</p>\n",
       "</div>"
      ],
      "text/plain": [
       "   Listing_id        Room_type  \\\n",
       "0        2265  Entire home/apt   \n",
       "1        5456  Entire home/apt   \n",
       "2        5769     Private room   \n",
       "\n",
       "                                           Amenities  Accommodates  \\\n",
       "0  ['TV', 'Wifi', 'Air conditioning', 'Free parki...             4   \n",
       "1      ['TV', 'Wifi', 'Air conditioning', 'Heating']             3   \n",
       "2  ['TV', 'Wifi', 'Air conditioning', 'Free parki...             2   \n",
       "\n",
       "   Guests_included  Bathrooms  Bedrooms  Beds  Bed_type Host_is_superhost  \\\n",
       "0                4        2.0       2.0   2.0  Real Bed                 t   \n",
       "1                2        1.0       1.0   2.0  Real Bed                 t   \n",
       "2                2        1.0       1.0   1.0  Real Bed                 t   \n",
       "\n",
       "   ...  Extra_people  Minimum_nights  Maximum_nights  Availability_365  \\\n",
       "0  ...          30.0              30              90                 0   \n",
       "1  ...          45.0               2              90               334   \n",
       "2  ...           0.0               1              14                14   \n",
       "\n",
       "   Reviews_per_month  Tv  Wifi  Air conditioning  Free parking on premises  \\\n",
       "0           1.000000  TV  Wifi  Air conditioning  Free parking on premises   \n",
       "1           4.500000  TV  Wifi  Air conditioning  Free parking on premises   \n",
       "2           2.428571  TV  Wifi  Air conditioning  Free parking on premises   \n",
       "\n",
       "   Heating  \n",
       "0  Heating  \n",
       "1  Heating  \n",
       "2  Heating  \n",
       "\n",
       "[3 rows x 23 columns]"
      ]
     },
     "execution_count": 348,
     "metadata": {},
     "output_type": "execute_result"
    }
   ],
   "source": [
    "data_set.head(3)"
   ]
  },
  {
   "cell_type": "code",
   "execution_count": 349,
   "metadata": {},
   "outputs": [
    {
     "name": "stderr",
     "output_type": "stream",
     "text": [
      "C:\\ProgramData\\Anaconda3\\lib\\site-packages\\ipykernel_launcher.py:3: SettingWithCopyWarning: \n",
      "A value is trying to be set on a copy of a slice from a DataFrame\n",
      "\n",
      "See the caveats in the documentation: http://pandas.pydata.org/pandas-docs/stable/user_guide/indexing.html#returning-a-view-versus-a-copy\n",
      "  This is separate from the ipykernel package so we can avoid doing imports until\n",
      "C:\\ProgramData\\Anaconda3\\lib\\site-packages\\ipykernel_launcher.py:7: SettingWithCopyWarning: \n",
      "A value is trying to be set on a copy of a slice from a DataFrame\n",
      "\n",
      "See the caveats in the documentation: http://pandas.pydata.org/pandas-docs/stable/user_guide/indexing.html#returning-a-view-versus-a-copy\n",
      "  import sys\n",
      "C:\\ProgramData\\Anaconda3\\lib\\site-packages\\ipykernel_launcher.py:11: SettingWithCopyWarning: \n",
      "A value is trying to be set on a copy of a slice from a DataFrame\n",
      "\n",
      "See the caveats in the documentation: http://pandas.pydata.org/pandas-docs/stable/user_guide/indexing.html#returning-a-view-versus-a-copy\n",
      "  # This is added back by InteractiveShellApp.init_path()\n",
      "C:\\ProgramData\\Anaconda3\\lib\\site-packages\\ipykernel_launcher.py:15: SettingWithCopyWarning: \n",
      "A value is trying to be set on a copy of a slice from a DataFrame\n",
      "\n",
      "See the caveats in the documentation: http://pandas.pydata.org/pandas-docs/stable/user_guide/indexing.html#returning-a-view-versus-a-copy\n",
      "  from ipykernel import kernelapp as app\n",
      "C:\\ProgramData\\Anaconda3\\lib\\site-packages\\ipykernel_launcher.py:19: SettingWithCopyWarning: \n",
      "A value is trying to be set on a copy of a slice from a DataFrame\n",
      "\n",
      "See the caveats in the documentation: http://pandas.pydata.org/pandas-docs/stable/user_guide/indexing.html#returning-a-view-versus-a-copy\n",
      "C:\\ProgramData\\Anaconda3\\lib\\site-packages\\ipykernel_launcher.py:9: SettingWithCopyWarning: \n",
      "A value is trying to be set on a copy of a slice from a DataFrame\n",
      "\n",
      "See the caveats in the documentation: http://pandas.pydata.org/pandas-docs/stable/user_guide/indexing.html#returning-a-view-versus-a-copy\n",
      "  if __name__ == '__main__':\n",
      "C:\\ProgramData\\Anaconda3\\lib\\site-packages\\ipykernel_launcher.py:5: SettingWithCopyWarning: \n",
      "A value is trying to be set on a copy of a slice from a DataFrame\n",
      "\n",
      "See the caveats in the documentation: http://pandas.pydata.org/pandas-docs/stable/user_guide/indexing.html#returning-a-view-versus-a-copy\n",
      "  \"\"\"\n",
      "C:\\ProgramData\\Anaconda3\\lib\\site-packages\\ipykernel_launcher.py:17: SettingWithCopyWarning: \n",
      "A value is trying to be set on a copy of a slice from a DataFrame\n",
      "\n",
      "See the caveats in the documentation: http://pandas.pydata.org/pandas-docs/stable/user_guide/indexing.html#returning-a-view-versus-a-copy\n",
      "C:\\ProgramData\\Anaconda3\\lib\\site-packages\\ipykernel_launcher.py:21: SettingWithCopyWarning: \n",
      "A value is trying to be set on a copy of a slice from a DataFrame\n",
      "\n",
      "See the caveats in the documentation: http://pandas.pydata.org/pandas-docs/stable/user_guide/indexing.html#returning-a-view-versus-a-copy\n",
      "C:\\ProgramData\\Anaconda3\\lib\\site-packages\\ipykernel_launcher.py:13: SettingWithCopyWarning: \n",
      "A value is trying to be set on a copy of a slice from a DataFrame\n",
      "\n",
      "See the caveats in the documentation: http://pandas.pydata.org/pandas-docs/stable/user_guide/indexing.html#returning-a-view-versus-a-copy\n",
      "  del sys.path[0]\n"
     ]
    }
   ],
   "source": [
    "for i in range(data_set.shape[0]):\n",
    "    if data_set['Tv'][i] in data_set['Amenities'][i]:\n",
    "        data_set['Tv'][i]=1\n",
    "    else:\n",
    "        data_set['Tv'][i]=0\n",
    "    if data_set['Free parking on premises'][i] in data_set['Amenities'][i]:\n",
    "        data_set['Free parking on premises'][i]=1\n",
    "    else:\n",
    "        data_set['Free parking on premises'][i]=0\n",
    "    if data_set['Air conditioning'][i] in data_set['Amenities'][i]:\n",
    "        data_set['Air conditioning'][i]=1\n",
    "    else:\n",
    "        data_set['Air conditioning'][i]=0\n",
    "    if data_set['Wifi'][i] in data_set['Amenities'][i]:\n",
    "        data_set['Wifi'][i]=1\n",
    "    else:\n",
    "        data_set['Wifi'][i]=0\n",
    "    if data_set['Heating'][i] in data_set['Amenities'][i]:\n",
    "        data_set['Heating'][i]=1\n",
    "    else:\n",
    "        data_set['Heating'][i]=0\n",
    "        \n",
    "        \n",
    "        "
   ]
  },
  {
   "cell_type": "code",
   "execution_count": 350,
   "metadata": {},
   "outputs": [
    {
     "data": {
      "text/html": [
       "<div>\n",
       "<style scoped>\n",
       "    .dataframe tbody tr th:only-of-type {\n",
       "        vertical-align: middle;\n",
       "    }\n",
       "\n",
       "    .dataframe tbody tr th {\n",
       "        vertical-align: top;\n",
       "    }\n",
       "\n",
       "    .dataframe thead th {\n",
       "        text-align: right;\n",
       "    }\n",
       "</style>\n",
       "<table border=\"1\" class=\"dataframe\">\n",
       "  <thead>\n",
       "    <tr style=\"text-align: right;\">\n",
       "      <th></th>\n",
       "      <th>Listing_id</th>\n",
       "      <th>Room_type</th>\n",
       "      <th>Amenities</th>\n",
       "      <th>Accommodates</th>\n",
       "      <th>Guests_included</th>\n",
       "      <th>Bathrooms</th>\n",
       "      <th>Bedrooms</th>\n",
       "      <th>Beds</th>\n",
       "      <th>Bed_type</th>\n",
       "      <th>Host_is_superhost</th>\n",
       "      <th>...</th>\n",
       "      <th>Extra_people</th>\n",
       "      <th>Minimum_nights</th>\n",
       "      <th>Maximum_nights</th>\n",
       "      <th>Availability_365</th>\n",
       "      <th>Reviews_per_month</th>\n",
       "      <th>Tv</th>\n",
       "      <th>Wifi</th>\n",
       "      <th>Air conditioning</th>\n",
       "      <th>Free parking on premises</th>\n",
       "      <th>Heating</th>\n",
       "    </tr>\n",
       "  </thead>\n",
       "  <tbody>\n",
       "    <tr>\n",
       "      <td>0</td>\n",
       "      <td>2265</td>\n",
       "      <td>Entire home/apt</td>\n",
       "      <td>['TV', 'Wifi', 'Air conditioning', 'Free parki...</td>\n",
       "      <td>4</td>\n",
       "      <td>4</td>\n",
       "      <td>2.0</td>\n",
       "      <td>2.0</td>\n",
       "      <td>2.0</td>\n",
       "      <td>Real Bed</td>\n",
       "      <td>t</td>\n",
       "      <td>...</td>\n",
       "      <td>30.0</td>\n",
       "      <td>30</td>\n",
       "      <td>90</td>\n",
       "      <td>0</td>\n",
       "      <td>1.000000</td>\n",
       "      <td>1</td>\n",
       "      <td>1</td>\n",
       "      <td>1</td>\n",
       "      <td>1</td>\n",
       "      <td>1</td>\n",
       "    </tr>\n",
       "    <tr>\n",
       "      <td>1</td>\n",
       "      <td>5456</td>\n",
       "      <td>Entire home/apt</td>\n",
       "      <td>['TV', 'Wifi', 'Air conditioning', 'Heating']</td>\n",
       "      <td>3</td>\n",
       "      <td>2</td>\n",
       "      <td>1.0</td>\n",
       "      <td>1.0</td>\n",
       "      <td>2.0</td>\n",
       "      <td>Real Bed</td>\n",
       "      <td>t</td>\n",
       "      <td>...</td>\n",
       "      <td>45.0</td>\n",
       "      <td>2</td>\n",
       "      <td>90</td>\n",
       "      <td>334</td>\n",
       "      <td>4.500000</td>\n",
       "      <td>1</td>\n",
       "      <td>1</td>\n",
       "      <td>1</td>\n",
       "      <td>0</td>\n",
       "      <td>1</td>\n",
       "    </tr>\n",
       "    <tr>\n",
       "      <td>2</td>\n",
       "      <td>5769</td>\n",
       "      <td>Private room</td>\n",
       "      <td>['TV', 'Wifi', 'Air conditioning', 'Free parki...</td>\n",
       "      <td>2</td>\n",
       "      <td>2</td>\n",
       "      <td>1.0</td>\n",
       "      <td>1.0</td>\n",
       "      <td>1.0</td>\n",
       "      <td>Real Bed</td>\n",
       "      <td>t</td>\n",
       "      <td>...</td>\n",
       "      <td>0.0</td>\n",
       "      <td>1</td>\n",
       "      <td>14</td>\n",
       "      <td>14</td>\n",
       "      <td>2.428571</td>\n",
       "      <td>1</td>\n",
       "      <td>1</td>\n",
       "      <td>1</td>\n",
       "      <td>1</td>\n",
       "      <td>1</td>\n",
       "    </tr>\n",
       "    <tr>\n",
       "      <td>3</td>\n",
       "      <td>6413</td>\n",
       "      <td>Entire home/apt</td>\n",
       "      <td>['TV', 'Wifi', 'Air conditioning', 'Heating']</td>\n",
       "      <td>2</td>\n",
       "      <td>2</td>\n",
       "      <td>1.0</td>\n",
       "      <td>0.0</td>\n",
       "      <td>1.0</td>\n",
       "      <td>Real Bed</td>\n",
       "      <td>t</td>\n",
       "      <td>...</td>\n",
       "      <td>25.0</td>\n",
       "      <td>3</td>\n",
       "      <td>365</td>\n",
       "      <td>0</td>\n",
       "      <td>2.300000</td>\n",
       "      <td>1</td>\n",
       "      <td>1</td>\n",
       "      <td>1</td>\n",
       "      <td>0</td>\n",
       "      <td>1</td>\n",
       "    </tr>\n",
       "    <tr>\n",
       "      <td>4</td>\n",
       "      <td>6448</td>\n",
       "      <td>Entire home/apt</td>\n",
       "      <td>['TV', 'Wifi', 'Air conditioning', 'Free parki...</td>\n",
       "      <td>3</td>\n",
       "      <td>2</td>\n",
       "      <td>1.0</td>\n",
       "      <td>1.0</td>\n",
       "      <td>2.0</td>\n",
       "      <td>Real Bed</td>\n",
       "      <td>t</td>\n",
       "      <td>...</td>\n",
       "      <td>25.0</td>\n",
       "      <td>3</td>\n",
       "      <td>365</td>\n",
       "      <td>127</td>\n",
       "      <td>2.888889</td>\n",
       "      <td>1</td>\n",
       "      <td>1</td>\n",
       "      <td>1</td>\n",
       "      <td>1</td>\n",
       "      <td>1</td>\n",
       "    </tr>\n",
       "    <tr>\n",
       "      <td>5</td>\n",
       "      <td>8502</td>\n",
       "      <td>Entire home/apt</td>\n",
       "      <td>['Wifi', 'Air conditioning', 'Heating']</td>\n",
       "      <td>2</td>\n",
       "      <td>2</td>\n",
       "      <td>1.0</td>\n",
       "      <td>1.0</td>\n",
       "      <td>1.0</td>\n",
       "      <td>Real Bed</td>\n",
       "      <td>f</td>\n",
       "      <td>...</td>\n",
       "      <td>5.0</td>\n",
       "      <td>3</td>\n",
       "      <td>90</td>\n",
       "      <td>180</td>\n",
       "      <td>1.000000</td>\n",
       "      <td>0</td>\n",
       "      <td>1</td>\n",
       "      <td>1</td>\n",
       "      <td>0</td>\n",
       "      <td>1</td>\n",
       "    </tr>\n",
       "    <tr>\n",
       "      <td>6</td>\n",
       "      <td>14913</td>\n",
       "      <td>Entire home/apt</td>\n",
       "      <td>['TV', 'Wifi', 'Air conditioning', 'Free parki...</td>\n",
       "      <td>6</td>\n",
       "      <td>1</td>\n",
       "      <td>2.0</td>\n",
       "      <td>3.0</td>\n",
       "      <td>3.0</td>\n",
       "      <td>Real Bed</td>\n",
       "      <td>f</td>\n",
       "      <td>...</td>\n",
       "      <td>0.0</td>\n",
       "      <td>1</td>\n",
       "      <td>365</td>\n",
       "      <td>289</td>\n",
       "      <td>1.500000</td>\n",
       "      <td>1</td>\n",
       "      <td>1</td>\n",
       "      <td>1</td>\n",
       "      <td>1</td>\n",
       "      <td>1</td>\n",
       "    </tr>\n",
       "    <tr>\n",
       "      <td>7</td>\n",
       "      <td>21126</td>\n",
       "      <td>Entire home/apt</td>\n",
       "      <td>['TV', 'Wifi', 'Air conditioning', 'Free parki...</td>\n",
       "      <td>5</td>\n",
       "      <td>5</td>\n",
       "      <td>1.0</td>\n",
       "      <td>2.0</td>\n",
       "      <td>2.0</td>\n",
       "      <td>Real Bed</td>\n",
       "      <td>t</td>\n",
       "      <td>...</td>\n",
       "      <td>0.0</td>\n",
       "      <td>1</td>\n",
       "      <td>365</td>\n",
       "      <td>139</td>\n",
       "      <td>3.000000</td>\n",
       "      <td>1</td>\n",
       "      <td>1</td>\n",
       "      <td>1</td>\n",
       "      <td>1</td>\n",
       "      <td>1</td>\n",
       "    </tr>\n",
       "    <tr>\n",
       "      <td>8</td>\n",
       "      <td>21145</td>\n",
       "      <td>Entire home/apt</td>\n",
       "      <td>['TV', 'Wifi', 'Air conditioning', 'Free parki...</td>\n",
       "      <td>4</td>\n",
       "      <td>4</td>\n",
       "      <td>1.0</td>\n",
       "      <td>2.0</td>\n",
       "      <td>4.0</td>\n",
       "      <td>Real Bed</td>\n",
       "      <td>t</td>\n",
       "      <td>...</td>\n",
       "      <td>10.0</td>\n",
       "      <td>30</td>\n",
       "      <td>1125</td>\n",
       "      <td>358</td>\n",
       "      <td>1.000000</td>\n",
       "      <td>1</td>\n",
       "      <td>1</td>\n",
       "      <td>1</td>\n",
       "      <td>1</td>\n",
       "      <td>1</td>\n",
       "    </tr>\n",
       "    <tr>\n",
       "      <td>9</td>\n",
       "      <td>22828</td>\n",
       "      <td>Entire home/apt</td>\n",
       "      <td>['TV', 'Wifi', 'Air conditioning', 'Heating']</td>\n",
       "      <td>2</td>\n",
       "      <td>1</td>\n",
       "      <td>1.0</td>\n",
       "      <td>1.0</td>\n",
       "      <td>2.0</td>\n",
       "      <td>Real Bed</td>\n",
       "      <td>t</td>\n",
       "      <td>...</td>\n",
       "      <td>0.0</td>\n",
       "      <td>31</td>\n",
       "      <td>365</td>\n",
       "      <td>249</td>\n",
       "      <td>1.000000</td>\n",
       "      <td>1</td>\n",
       "      <td>1</td>\n",
       "      <td>1</td>\n",
       "      <td>0</td>\n",
       "      <td>1</td>\n",
       "    </tr>\n",
       "    <tr>\n",
       "      <td>10</td>\n",
       "      <td>22982</td>\n",
       "      <td>Entire home/apt</td>\n",
       "      <td>['TV', 'Wifi', 'Air conditioning', 'Free parki...</td>\n",
       "      <td>6</td>\n",
       "      <td>4</td>\n",
       "      <td>1.0</td>\n",
       "      <td>2.0</td>\n",
       "      <td>2.0</td>\n",
       "      <td>Real Bed</td>\n",
       "      <td>t</td>\n",
       "      <td>...</td>\n",
       "      <td>25.0</td>\n",
       "      <td>2</td>\n",
       "      <td>730</td>\n",
       "      <td>244</td>\n",
       "      <td>3.666667</td>\n",
       "      <td>1</td>\n",
       "      <td>1</td>\n",
       "      <td>1</td>\n",
       "      <td>1</td>\n",
       "      <td>1</td>\n",
       "    </tr>\n",
       "    <tr>\n",
       "      <td>11</td>\n",
       "      <td>25028</td>\n",
       "      <td>Entire home/apt</td>\n",
       "      <td>['TV', 'Wifi', 'Air conditioning', 'Free parki...</td>\n",
       "      <td>6</td>\n",
       "      <td>4</td>\n",
       "      <td>2.0</td>\n",
       "      <td>3.0</td>\n",
       "      <td>3.0</td>\n",
       "      <td>Real Bed</td>\n",
       "      <td>t</td>\n",
       "      <td>...</td>\n",
       "      <td>100.0</td>\n",
       "      <td>30</td>\n",
       "      <td>365</td>\n",
       "      <td>312</td>\n",
       "      <td>1.000000</td>\n",
       "      <td>1</td>\n",
       "      <td>1</td>\n",
       "      <td>1</td>\n",
       "      <td>1</td>\n",
       "      <td>1</td>\n",
       "    </tr>\n",
       "    <tr>\n",
       "      <td>12</td>\n",
       "      <td>37324</td>\n",
       "      <td>Private room</td>\n",
       "      <td>['TV', 'Wifi', 'Air conditioning', 'Free parki...</td>\n",
       "      <td>1</td>\n",
       "      <td>1</td>\n",
       "      <td>1.0</td>\n",
       "      <td>1.0</td>\n",
       "      <td>1.0</td>\n",
       "      <td>Real Bed</td>\n",
       "      <td>t</td>\n",
       "      <td>...</td>\n",
       "      <td>10.0</td>\n",
       "      <td>30</td>\n",
       "      <td>730</td>\n",
       "      <td>100</td>\n",
       "      <td>2.000000</td>\n",
       "      <td>1</td>\n",
       "      <td>1</td>\n",
       "      <td>1</td>\n",
       "      <td>1</td>\n",
       "      <td>1</td>\n",
       "    </tr>\n",
       "    <tr>\n",
       "      <td>13</td>\n",
       "      <td>39152</td>\n",
       "      <td>Entire home/apt</td>\n",
       "      <td>['Wifi', 'Air conditioning', 'Free parking on ...</td>\n",
       "      <td>3</td>\n",
       "      <td>2</td>\n",
       "      <td>1.0</td>\n",
       "      <td>2.0</td>\n",
       "      <td>0.0</td>\n",
       "      <td>Real Bed</td>\n",
       "      <td>t</td>\n",
       "      <td>...</td>\n",
       "      <td>30.0</td>\n",
       "      <td>3</td>\n",
       "      <td>10</td>\n",
       "      <td>4</td>\n",
       "      <td>1.000000</td>\n",
       "      <td>0</td>\n",
       "      <td>1</td>\n",
       "      <td>1</td>\n",
       "      <td>1</td>\n",
       "      <td>1</td>\n",
       "    </tr>\n",
       "    <tr>\n",
       "      <td>14</td>\n",
       "      <td>39993</td>\n",
       "      <td>Entire home/apt</td>\n",
       "      <td>['TV', 'Wifi', 'Air conditioning', 'Free parki...</td>\n",
       "      <td>2</td>\n",
       "      <td>2</td>\n",
       "      <td>1.0</td>\n",
       "      <td>1.0</td>\n",
       "      <td>1.0</td>\n",
       "      <td>Real Bed</td>\n",
       "      <td>t</td>\n",
       "      <td>...</td>\n",
       "      <td>0.0</td>\n",
       "      <td>2</td>\n",
       "      <td>14</td>\n",
       "      <td>107</td>\n",
       "      <td>4.666667</td>\n",
       "      <td>1</td>\n",
       "      <td>1</td>\n",
       "      <td>1</td>\n",
       "      <td>1</td>\n",
       "      <td>1</td>\n",
       "    </tr>\n",
       "    <tr>\n",
       "      <td>15</td>\n",
       "      <td>40285</td>\n",
       "      <td>Entire home/apt</td>\n",
       "      <td>['TV', 'Wifi', 'Air conditioning', 'Free parki...</td>\n",
       "      <td>4</td>\n",
       "      <td>1</td>\n",
       "      <td>2.0</td>\n",
       "      <td>2.0</td>\n",
       "      <td>2.0</td>\n",
       "      <td>Real Bed</td>\n",
       "      <td>f</td>\n",
       "      <td>...</td>\n",
       "      <td>10.0</td>\n",
       "      <td>2</td>\n",
       "      <td>30</td>\n",
       "      <td>364</td>\n",
       "      <td>1.000000</td>\n",
       "      <td>1</td>\n",
       "      <td>1</td>\n",
       "      <td>1</td>\n",
       "      <td>1</td>\n",
       "      <td>1</td>\n",
       "    </tr>\n",
       "    <tr>\n",
       "      <td>16</td>\n",
       "      <td>46929</td>\n",
       "      <td>Entire home/apt</td>\n",
       "      <td>['TV', 'Wifi', 'Air conditioning', 'Free parki...</td>\n",
       "      <td>4</td>\n",
       "      <td>2</td>\n",
       "      <td>1.0</td>\n",
       "      <td>1.0</td>\n",
       "      <td>2.0</td>\n",
       "      <td>Real Bed</td>\n",
       "      <td>t</td>\n",
       "      <td>...</td>\n",
       "      <td>20.0</td>\n",
       "      <td>2</td>\n",
       "      <td>31</td>\n",
       "      <td>204</td>\n",
       "      <td>4.000000</td>\n",
       "      <td>1</td>\n",
       "      <td>1</td>\n",
       "      <td>1</td>\n",
       "      <td>1</td>\n",
       "      <td>1</td>\n",
       "    </tr>\n",
       "    <tr>\n",
       "      <td>17</td>\n",
       "      <td>47572</td>\n",
       "      <td>Private room</td>\n",
       "      <td>['TV', 'Wifi', 'Air conditioning', 'Free parki...</td>\n",
       "      <td>1</td>\n",
       "      <td>1</td>\n",
       "      <td>1.0</td>\n",
       "      <td>1.0</td>\n",
       "      <td>0.0</td>\n",
       "      <td>Real Bed</td>\n",
       "      <td>t</td>\n",
       "      <td>...</td>\n",
       "      <td>0.0</td>\n",
       "      <td>30</td>\n",
       "      <td>180</td>\n",
       "      <td>248</td>\n",
       "      <td>1.000000</td>\n",
       "      <td>1</td>\n",
       "      <td>1</td>\n",
       "      <td>1</td>\n",
       "      <td>1</td>\n",
       "      <td>1</td>\n",
       "    </tr>\n",
       "    <tr>\n",
       "      <td>18</td>\n",
       "      <td>50310</td>\n",
       "      <td>Entire home/apt</td>\n",
       "      <td>['Wifi', 'Air conditioning', 'Free parking on ...</td>\n",
       "      <td>2</td>\n",
       "      <td>2</td>\n",
       "      <td>1.0</td>\n",
       "      <td>1.0</td>\n",
       "      <td>1.0</td>\n",
       "      <td>Futon</td>\n",
       "      <td>t</td>\n",
       "      <td>...</td>\n",
       "      <td>0.0</td>\n",
       "      <td>3</td>\n",
       "      <td>30</td>\n",
       "      <td>313</td>\n",
       "      <td>3.000000</td>\n",
       "      <td>0</td>\n",
       "      <td>1</td>\n",
       "      <td>1</td>\n",
       "      <td>1</td>\n",
       "      <td>1</td>\n",
       "    </tr>\n",
       "    <tr>\n",
       "      <td>19</td>\n",
       "      <td>50318</td>\n",
       "      <td>Entire home/apt</td>\n",
       "      <td>['TV', 'Wifi', 'Air conditioning', 'Free parki...</td>\n",
       "      <td>2</td>\n",
       "      <td>1</td>\n",
       "      <td>1.0</td>\n",
       "      <td>2.0</td>\n",
       "      <td>0.0</td>\n",
       "      <td>Real Bed</td>\n",
       "      <td>t</td>\n",
       "      <td>...</td>\n",
       "      <td>0.0</td>\n",
       "      <td>30</td>\n",
       "      <td>1125</td>\n",
       "      <td>312</td>\n",
       "      <td>1.000000</td>\n",
       "      <td>1</td>\n",
       "      <td>1</td>\n",
       "      <td>1</td>\n",
       "      <td>1</td>\n",
       "      <td>1</td>\n",
       "    </tr>\n",
       "    <tr>\n",
       "      <td>20</td>\n",
       "      <td>56690</td>\n",
       "      <td>Entire home/apt</td>\n",
       "      <td>['TV', 'Wifi', 'Air conditioning', 'Heating']</td>\n",
       "      <td>2</td>\n",
       "      <td>2</td>\n",
       "      <td>1.0</td>\n",
       "      <td>0.0</td>\n",
       "      <td>0.0</td>\n",
       "      <td>Real Bed</td>\n",
       "      <td>t</td>\n",
       "      <td>...</td>\n",
       "      <td>50.0</td>\n",
       "      <td>2</td>\n",
       "      <td>30</td>\n",
       "      <td>77</td>\n",
       "      <td>1.700000</td>\n",
       "      <td>1</td>\n",
       "      <td>1</td>\n",
       "      <td>1</td>\n",
       "      <td>0</td>\n",
       "      <td>1</td>\n",
       "    </tr>\n",
       "    <tr>\n",
       "      <td>21</td>\n",
       "      <td>57187</td>\n",
       "      <td>Entire home/apt</td>\n",
       "      <td>['Wifi', 'Air conditioning', 'Heating']</td>\n",
       "      <td>6</td>\n",
       "      <td>2</td>\n",
       "      <td>1.0</td>\n",
       "      <td>1.0</td>\n",
       "      <td>3.0</td>\n",
       "      <td>Futon</td>\n",
       "      <td>t</td>\n",
       "      <td>...</td>\n",
       "      <td>10.0</td>\n",
       "      <td>1</td>\n",
       "      <td>15</td>\n",
       "      <td>352</td>\n",
       "      <td>8.500000</td>\n",
       "      <td>0</td>\n",
       "      <td>1</td>\n",
       "      <td>1</td>\n",
       "      <td>0</td>\n",
       "      <td>1</td>\n",
       "    </tr>\n",
       "    <tr>\n",
       "      <td>22</td>\n",
       "      <td>68130</td>\n",
       "      <td>Entire home/apt</td>\n",
       "      <td>['TV', 'Wifi', 'Air conditioning', 'Free parki...</td>\n",
       "      <td>4</td>\n",
       "      <td>2</td>\n",
       "      <td>1.0</td>\n",
       "      <td>1.0</td>\n",
       "      <td>1.0</td>\n",
       "      <td>Real Bed</td>\n",
       "      <td>t</td>\n",
       "      <td>...</td>\n",
       "      <td>25.0</td>\n",
       "      <td>2</td>\n",
       "      <td>30</td>\n",
       "      <td>27</td>\n",
       "      <td>5.916667</td>\n",
       "      <td>1</td>\n",
       "      <td>1</td>\n",
       "      <td>1</td>\n",
       "      <td>1</td>\n",
       "      <td>1</td>\n",
       "    </tr>\n",
       "    <tr>\n",
       "      <td>23</td>\n",
       "      <td>69303</td>\n",
       "      <td>Entire home/apt</td>\n",
       "      <td>['TV', 'Wifi', 'Air conditioning', 'Free parki...</td>\n",
       "      <td>4</td>\n",
       "      <td>2</td>\n",
       "      <td>1.5</td>\n",
       "      <td>1.0</td>\n",
       "      <td>1.0</td>\n",
       "      <td>Real Bed</td>\n",
       "      <td>t</td>\n",
       "      <td>...</td>\n",
       "      <td>10.0</td>\n",
       "      <td>2</td>\n",
       "      <td>90</td>\n",
       "      <td>346</td>\n",
       "      <td>4.700000</td>\n",
       "      <td>1</td>\n",
       "      <td>1</td>\n",
       "      <td>1</td>\n",
       "      <td>1</td>\n",
       "      <td>1</td>\n",
       "    </tr>\n",
       "    <tr>\n",
       "      <td>24</td>\n",
       "      <td>69810</td>\n",
       "      <td>Entire home/apt</td>\n",
       "      <td>['TV', 'Wifi', 'Air conditioning', 'Free parki...</td>\n",
       "      <td>2</td>\n",
       "      <td>2</td>\n",
       "      <td>1.0</td>\n",
       "      <td>1.0</td>\n",
       "      <td>1.0</td>\n",
       "      <td>Real Bed</td>\n",
       "      <td>f</td>\n",
       "      <td>...</td>\n",
       "      <td>20.0</td>\n",
       "      <td>2</td>\n",
       "      <td>730</td>\n",
       "      <td>321</td>\n",
       "      <td>4.916667</td>\n",
       "      <td>1</td>\n",
       "      <td>1</td>\n",
       "      <td>1</td>\n",
       "      <td>1</td>\n",
       "      <td>1</td>\n",
       "    </tr>\n",
       "    <tr>\n",
       "      <td>25</td>\n",
       "      <td>70258</td>\n",
       "      <td>Entire home/apt</td>\n",
       "      <td>['TV', 'Wifi', 'Air conditioning', 'Free parki...</td>\n",
       "      <td>3</td>\n",
       "      <td>3</td>\n",
       "      <td>1.0</td>\n",
       "      <td>1.0</td>\n",
       "      <td>1.0</td>\n",
       "      <td>Real Bed</td>\n",
       "      <td>t</td>\n",
       "      <td>...</td>\n",
       "      <td>45.0</td>\n",
       "      <td>2</td>\n",
       "      <td>14</td>\n",
       "      <td>90</td>\n",
       "      <td>1.833333</td>\n",
       "      <td>1</td>\n",
       "      <td>1</td>\n",
       "      <td>1</td>\n",
       "      <td>1</td>\n",
       "      <td>1</td>\n",
       "    </tr>\n",
       "    <tr>\n",
       "      <td>26</td>\n",
       "      <td>70659</td>\n",
       "      <td>Entire home/apt</td>\n",
       "      <td>['Wifi', 'Air conditioning', 'Free parking on ...</td>\n",
       "      <td>2</td>\n",
       "      <td>1</td>\n",
       "      <td>1.0</td>\n",
       "      <td>1.0</td>\n",
       "      <td>1.0</td>\n",
       "      <td>Real Bed</td>\n",
       "      <td>t</td>\n",
       "      <td>...</td>\n",
       "      <td>0.0</td>\n",
       "      <td>2</td>\n",
       "      <td>45</td>\n",
       "      <td>354</td>\n",
       "      <td>1.857143</td>\n",
       "      <td>0</td>\n",
       "      <td>1</td>\n",
       "      <td>1</td>\n",
       "      <td>1</td>\n",
       "      <td>1</td>\n",
       "    </tr>\n",
       "    <tr>\n",
       "      <td>27</td>\n",
       "      <td>70812</td>\n",
       "      <td>Entire home/apt</td>\n",
       "      <td>['TV', 'Wifi', 'Air conditioning', 'Heating']</td>\n",
       "      <td>3</td>\n",
       "      <td>2</td>\n",
       "      <td>1.0</td>\n",
       "      <td>1.0</td>\n",
       "      <td>3.0</td>\n",
       "      <td>Real Bed</td>\n",
       "      <td>t</td>\n",
       "      <td>...</td>\n",
       "      <td>50.0</td>\n",
       "      <td>2</td>\n",
       "      <td>30</td>\n",
       "      <td>73</td>\n",
       "      <td>1.750000</td>\n",
       "      <td>1</td>\n",
       "      <td>1</td>\n",
       "      <td>1</td>\n",
       "      <td>0</td>\n",
       "      <td>1</td>\n",
       "    </tr>\n",
       "    <tr>\n",
       "      <td>28</td>\n",
       "      <td>72633</td>\n",
       "      <td>Entire home/apt</td>\n",
       "      <td>['TV', 'Wifi', 'Air conditioning', 'Heating']</td>\n",
       "      <td>4</td>\n",
       "      <td>4</td>\n",
       "      <td>2.0</td>\n",
       "      <td>2.0</td>\n",
       "      <td>4.0</td>\n",
       "      <td>Real Bed</td>\n",
       "      <td>f</td>\n",
       "      <td>...</td>\n",
       "      <td>50.0</td>\n",
       "      <td>2</td>\n",
       "      <td>14</td>\n",
       "      <td>350</td>\n",
       "      <td>1.500000</td>\n",
       "      <td>1</td>\n",
       "      <td>1</td>\n",
       "      <td>1</td>\n",
       "      <td>0</td>\n",
       "      <td>1</td>\n",
       "    </tr>\n",
       "    <tr>\n",
       "      <td>29</td>\n",
       "      <td>72706</td>\n",
       "      <td>Entire home/apt</td>\n",
       "      <td>['TV', 'Wifi', 'Air conditioning', 'Free parki...</td>\n",
       "      <td>6</td>\n",
       "      <td>4</td>\n",
       "      <td>1.0</td>\n",
       "      <td>2.0</td>\n",
       "      <td>3.0</td>\n",
       "      <td>Real Bed</td>\n",
       "      <td>f</td>\n",
       "      <td>...</td>\n",
       "      <td>0.0</td>\n",
       "      <td>30</td>\n",
       "      <td>365</td>\n",
       "      <td>316</td>\n",
       "      <td>2.727273</td>\n",
       "      <td>1</td>\n",
       "      <td>1</td>\n",
       "      <td>1</td>\n",
       "      <td>1</td>\n",
       "      <td>1</td>\n",
       "    </tr>\n",
       "    <tr>\n",
       "      <td>30</td>\n",
       "      <td>72833</td>\n",
       "      <td>Entire home/apt</td>\n",
       "      <td>['TV', 'Wifi', 'Air conditioning', 'Heating']</td>\n",
       "      <td>2</td>\n",
       "      <td>2</td>\n",
       "      <td>1.0</td>\n",
       "      <td>1.0</td>\n",
       "      <td>1.0</td>\n",
       "      <td>Real Bed</td>\n",
       "      <td>t</td>\n",
       "      <td>...</td>\n",
       "      <td>0.0</td>\n",
       "      <td>3</td>\n",
       "      <td>21</td>\n",
       "      <td>124</td>\n",
       "      <td>3.181818</td>\n",
       "      <td>1</td>\n",
       "      <td>1</td>\n",
       "      <td>1</td>\n",
       "      <td>0</td>\n",
       "      <td>1</td>\n",
       "    </tr>\n",
       "  </tbody>\n",
       "</table>\n",
       "<p>31 rows × 23 columns</p>\n",
       "</div>"
      ],
      "text/plain": [
       "    Listing_id        Room_type  \\\n",
       "0         2265  Entire home/apt   \n",
       "1         5456  Entire home/apt   \n",
       "2         5769     Private room   \n",
       "3         6413  Entire home/apt   \n",
       "4         6448  Entire home/apt   \n",
       "5         8502  Entire home/apt   \n",
       "6        14913  Entire home/apt   \n",
       "7        21126  Entire home/apt   \n",
       "8        21145  Entire home/apt   \n",
       "9        22828  Entire home/apt   \n",
       "10       22982  Entire home/apt   \n",
       "11       25028  Entire home/apt   \n",
       "12       37324     Private room   \n",
       "13       39152  Entire home/apt   \n",
       "14       39993  Entire home/apt   \n",
       "15       40285  Entire home/apt   \n",
       "16       46929  Entire home/apt   \n",
       "17       47572     Private room   \n",
       "18       50310  Entire home/apt   \n",
       "19       50318  Entire home/apt   \n",
       "20       56690  Entire home/apt   \n",
       "21       57187  Entire home/apt   \n",
       "22       68130  Entire home/apt   \n",
       "23       69303  Entire home/apt   \n",
       "24       69810  Entire home/apt   \n",
       "25       70258  Entire home/apt   \n",
       "26       70659  Entire home/apt   \n",
       "27       70812  Entire home/apt   \n",
       "28       72633  Entire home/apt   \n",
       "29       72706  Entire home/apt   \n",
       "30       72833  Entire home/apt   \n",
       "\n",
       "                                            Amenities  Accommodates  \\\n",
       "0   ['TV', 'Wifi', 'Air conditioning', 'Free parki...             4   \n",
       "1       ['TV', 'Wifi', 'Air conditioning', 'Heating']             3   \n",
       "2   ['TV', 'Wifi', 'Air conditioning', 'Free parki...             2   \n",
       "3       ['TV', 'Wifi', 'Air conditioning', 'Heating']             2   \n",
       "4   ['TV', 'Wifi', 'Air conditioning', 'Free parki...             3   \n",
       "5             ['Wifi', 'Air conditioning', 'Heating']             2   \n",
       "6   ['TV', 'Wifi', 'Air conditioning', 'Free parki...             6   \n",
       "7   ['TV', 'Wifi', 'Air conditioning', 'Free parki...             5   \n",
       "8   ['TV', 'Wifi', 'Air conditioning', 'Free parki...             4   \n",
       "9       ['TV', 'Wifi', 'Air conditioning', 'Heating']             2   \n",
       "10  ['TV', 'Wifi', 'Air conditioning', 'Free parki...             6   \n",
       "11  ['TV', 'Wifi', 'Air conditioning', 'Free parki...             6   \n",
       "12  ['TV', 'Wifi', 'Air conditioning', 'Free parki...             1   \n",
       "13  ['Wifi', 'Air conditioning', 'Free parking on ...             3   \n",
       "14  ['TV', 'Wifi', 'Air conditioning', 'Free parki...             2   \n",
       "15  ['TV', 'Wifi', 'Air conditioning', 'Free parki...             4   \n",
       "16  ['TV', 'Wifi', 'Air conditioning', 'Free parki...             4   \n",
       "17  ['TV', 'Wifi', 'Air conditioning', 'Free parki...             1   \n",
       "18  ['Wifi', 'Air conditioning', 'Free parking on ...             2   \n",
       "19  ['TV', 'Wifi', 'Air conditioning', 'Free parki...             2   \n",
       "20      ['TV', 'Wifi', 'Air conditioning', 'Heating']             2   \n",
       "21            ['Wifi', 'Air conditioning', 'Heating']             6   \n",
       "22  ['TV', 'Wifi', 'Air conditioning', 'Free parki...             4   \n",
       "23  ['TV', 'Wifi', 'Air conditioning', 'Free parki...             4   \n",
       "24  ['TV', 'Wifi', 'Air conditioning', 'Free parki...             2   \n",
       "25  ['TV', 'Wifi', 'Air conditioning', 'Free parki...             3   \n",
       "26  ['Wifi', 'Air conditioning', 'Free parking on ...             2   \n",
       "27      ['TV', 'Wifi', 'Air conditioning', 'Heating']             3   \n",
       "28      ['TV', 'Wifi', 'Air conditioning', 'Heating']             4   \n",
       "29  ['TV', 'Wifi', 'Air conditioning', 'Free parki...             6   \n",
       "30      ['TV', 'Wifi', 'Air conditioning', 'Heating']             2   \n",
       "\n",
       "    Guests_included  Bathrooms  Bedrooms  Beds  Bed_type Host_is_superhost  \\\n",
       "0                 4        2.0       2.0   2.0  Real Bed                 t   \n",
       "1                 2        1.0       1.0   2.0  Real Bed                 t   \n",
       "2                 2        1.0       1.0   1.0  Real Bed                 t   \n",
       "3                 2        1.0       0.0   1.0  Real Bed                 t   \n",
       "4                 2        1.0       1.0   2.0  Real Bed                 t   \n",
       "5                 2        1.0       1.0   1.0  Real Bed                 f   \n",
       "6                 1        2.0       3.0   3.0  Real Bed                 f   \n",
       "7                 5        1.0       2.0   2.0  Real Bed                 t   \n",
       "8                 4        1.0       2.0   4.0  Real Bed                 t   \n",
       "9                 1        1.0       1.0   2.0  Real Bed                 t   \n",
       "10                4        1.0       2.0   2.0  Real Bed                 t   \n",
       "11                4        2.0       3.0   3.0  Real Bed                 t   \n",
       "12                1        1.0       1.0   1.0  Real Bed                 t   \n",
       "13                2        1.0       2.0   0.0  Real Bed                 t   \n",
       "14                2        1.0       1.0   1.0  Real Bed                 t   \n",
       "15                1        2.0       2.0   2.0  Real Bed                 f   \n",
       "16                2        1.0       1.0   2.0  Real Bed                 t   \n",
       "17                1        1.0       1.0   0.0  Real Bed                 t   \n",
       "18                2        1.0       1.0   1.0     Futon                 t   \n",
       "19                1        1.0       2.0   0.0  Real Bed                 t   \n",
       "20                2        1.0       0.0   0.0  Real Bed                 t   \n",
       "21                2        1.0       1.0   3.0     Futon                 t   \n",
       "22                2        1.0       1.0   1.0  Real Bed                 t   \n",
       "23                2        1.5       1.0   1.0  Real Bed                 t   \n",
       "24                2        1.0       1.0   1.0  Real Bed                 f   \n",
       "25                3        1.0       1.0   1.0  Real Bed                 t   \n",
       "26                1        1.0       1.0   1.0  Real Bed                 t   \n",
       "27                2        1.0       1.0   3.0  Real Bed                 t   \n",
       "28                4        2.0       2.0   4.0  Real Bed                 f   \n",
       "29                4        1.0       2.0   3.0  Real Bed                 f   \n",
       "30                2        1.0       1.0   1.0  Real Bed                 t   \n",
       "\n",
       "    ...  Extra_people  Minimum_nights  Maximum_nights  Availability_365  \\\n",
       "0   ...          30.0              30              90                 0   \n",
       "1   ...          45.0               2              90               334   \n",
       "2   ...           0.0               1              14                14   \n",
       "3   ...          25.0               3             365                 0   \n",
       "4   ...          25.0               3             365               127   \n",
       "5   ...           5.0               3              90               180   \n",
       "6   ...           0.0               1             365               289   \n",
       "7   ...           0.0               1             365               139   \n",
       "8   ...          10.0              30            1125               358   \n",
       "9   ...           0.0              31             365               249   \n",
       "10  ...          25.0               2             730               244   \n",
       "11  ...         100.0              30             365               312   \n",
       "12  ...          10.0              30             730               100   \n",
       "13  ...          30.0               3              10                 4   \n",
       "14  ...           0.0               2              14               107   \n",
       "15  ...          10.0               2              30               364   \n",
       "16  ...          20.0               2              31               204   \n",
       "17  ...           0.0              30             180               248   \n",
       "18  ...           0.0               3              30               313   \n",
       "19  ...           0.0              30            1125               312   \n",
       "20  ...          50.0               2              30                77   \n",
       "21  ...          10.0               1              15               352   \n",
       "22  ...          25.0               2              30                27   \n",
       "23  ...          10.0               2              90               346   \n",
       "24  ...          20.0               2             730               321   \n",
       "25  ...          45.0               2              14                90   \n",
       "26  ...           0.0               2              45               354   \n",
       "27  ...          50.0               2              30                73   \n",
       "28  ...          50.0               2              14               350   \n",
       "29  ...           0.0              30             365               316   \n",
       "30  ...           0.0               3              21               124   \n",
       "\n",
       "    Reviews_per_month  Tv  Wifi  Air conditioning Free parking on premises  \\\n",
       "0            1.000000   1     1                 1                        1   \n",
       "1            4.500000   1     1                 1                        0   \n",
       "2            2.428571   1     1                 1                        1   \n",
       "3            2.300000   1     1                 1                        0   \n",
       "4            2.888889   1     1                 1                        1   \n",
       "5            1.000000   0     1                 1                        0   \n",
       "6            1.500000   1     1                 1                        1   \n",
       "7            3.000000   1     1                 1                        1   \n",
       "8            1.000000   1     1                 1                        1   \n",
       "9            1.000000   1     1                 1                        0   \n",
       "10           3.666667   1     1                 1                        1   \n",
       "11           1.000000   1     1                 1                        1   \n",
       "12           2.000000   1     1                 1                        1   \n",
       "13           1.000000   0     1                 1                        1   \n",
       "14           4.666667   1     1                 1                        1   \n",
       "15           1.000000   1     1                 1                        1   \n",
       "16           4.000000   1     1                 1                        1   \n",
       "17           1.000000   1     1                 1                        1   \n",
       "18           3.000000   0     1                 1                        1   \n",
       "19           1.000000   1     1                 1                        1   \n",
       "20           1.700000   1     1                 1                        0   \n",
       "21           8.500000   0     1                 1                        0   \n",
       "22           5.916667   1     1                 1                        1   \n",
       "23           4.700000   1     1                 1                        1   \n",
       "24           4.916667   1     1                 1                        1   \n",
       "25           1.833333   1     1                 1                        1   \n",
       "26           1.857143   0     1                 1                        1   \n",
       "27           1.750000   1     1                 1                        0   \n",
       "28           1.500000   1     1                 1                        0   \n",
       "29           2.727273   1     1                 1                        1   \n",
       "30           3.181818   1     1                 1                        0   \n",
       "\n",
       "   Heating  \n",
       "0        1  \n",
       "1        1  \n",
       "2        1  \n",
       "3        1  \n",
       "4        1  \n",
       "5        1  \n",
       "6        1  \n",
       "7        1  \n",
       "8        1  \n",
       "9        1  \n",
       "10       1  \n",
       "11       1  \n",
       "12       1  \n",
       "13       1  \n",
       "14       1  \n",
       "15       1  \n",
       "16       1  \n",
       "17       1  \n",
       "18       1  \n",
       "19       1  \n",
       "20       1  \n",
       "21       1  \n",
       "22       1  \n",
       "23       1  \n",
       "24       1  \n",
       "25       1  \n",
       "26       1  \n",
       "27       1  \n",
       "28       1  \n",
       "29       1  \n",
       "30       1  \n",
       "\n",
       "[31 rows x 23 columns]"
      ]
     },
     "execution_count": 350,
     "metadata": {},
     "output_type": "execute_result"
    }
   ],
   "source": [
    "data_set.head(31)"
   ]
  },
  {
   "cell_type": "code",
   "execution_count": 351,
   "metadata": {},
   "outputs": [],
   "source": [
    "data_set.drop('Amenities',axis=1,inplace=True)"
   ]
  },
  {
   "cell_type": "code",
   "execution_count": 352,
   "metadata": {},
   "outputs": [
    {
     "data": {
      "text/html": [
       "<div>\n",
       "<style scoped>\n",
       "    .dataframe tbody tr th:only-of-type {\n",
       "        vertical-align: middle;\n",
       "    }\n",
       "\n",
       "    .dataframe tbody tr th {\n",
       "        vertical-align: top;\n",
       "    }\n",
       "\n",
       "    .dataframe thead th {\n",
       "        text-align: right;\n",
       "    }\n",
       "</style>\n",
       "<table border=\"1\" class=\"dataframe\">\n",
       "  <thead>\n",
       "    <tr style=\"text-align: right;\">\n",
       "      <th></th>\n",
       "      <th>Listing_id</th>\n",
       "      <th>Room_type</th>\n",
       "      <th>Accommodates</th>\n",
       "      <th>Guests_included</th>\n",
       "      <th>Bathrooms</th>\n",
       "      <th>Bedrooms</th>\n",
       "      <th>Beds</th>\n",
       "      <th>Bed_type</th>\n",
       "      <th>Host_is_superhost</th>\n",
       "      <th>Square_feet</th>\n",
       "      <th>...</th>\n",
       "      <th>Extra_people</th>\n",
       "      <th>Minimum_nights</th>\n",
       "      <th>Maximum_nights</th>\n",
       "      <th>Availability_365</th>\n",
       "      <th>Reviews_per_month</th>\n",
       "      <th>Tv</th>\n",
       "      <th>Wifi</th>\n",
       "      <th>Air conditioning</th>\n",
       "      <th>Free parking on premises</th>\n",
       "      <th>Heating</th>\n",
       "    </tr>\n",
       "  </thead>\n",
       "  <tbody>\n",
       "    <tr>\n",
       "      <td>0</td>\n",
       "      <td>2265</td>\n",
       "      <td>Entire home/apt</td>\n",
       "      <td>4</td>\n",
       "      <td>4</td>\n",
       "      <td>2.0</td>\n",
       "      <td>2.0</td>\n",
       "      <td>2.0</td>\n",
       "      <td>Real Bed</td>\n",
       "      <td>t</td>\n",
       "      <td>NaN</td>\n",
       "      <td>...</td>\n",
       "      <td>30.0</td>\n",
       "      <td>30</td>\n",
       "      <td>90</td>\n",
       "      <td>0</td>\n",
       "      <td>1.0</td>\n",
       "      <td>1</td>\n",
       "      <td>1</td>\n",
       "      <td>1</td>\n",
       "      <td>1</td>\n",
       "      <td>1</td>\n",
       "    </tr>\n",
       "    <tr>\n",
       "      <td>1</td>\n",
       "      <td>5456</td>\n",
       "      <td>Entire home/apt</td>\n",
       "      <td>3</td>\n",
       "      <td>2</td>\n",
       "      <td>1.0</td>\n",
       "      <td>1.0</td>\n",
       "      <td>2.0</td>\n",
       "      <td>Real Bed</td>\n",
       "      <td>t</td>\n",
       "      <td>NaN</td>\n",
       "      <td>...</td>\n",
       "      <td>45.0</td>\n",
       "      <td>2</td>\n",
       "      <td>90</td>\n",
       "      <td>334</td>\n",
       "      <td>4.5</td>\n",
       "      <td>1</td>\n",
       "      <td>1</td>\n",
       "      <td>1</td>\n",
       "      <td>0</td>\n",
       "      <td>1</td>\n",
       "    </tr>\n",
       "  </tbody>\n",
       "</table>\n",
       "<p>2 rows × 22 columns</p>\n",
       "</div>"
      ],
      "text/plain": [
       "   Listing_id        Room_type  Accommodates  Guests_included  Bathrooms  \\\n",
       "0        2265  Entire home/apt             4                4        2.0   \n",
       "1        5456  Entire home/apt             3                2        1.0   \n",
       "\n",
       "   Bedrooms  Beds  Bed_type Host_is_superhost  Square_feet  ...  Extra_people  \\\n",
       "0       2.0   2.0  Real Bed                 t          NaN  ...          30.0   \n",
       "1       1.0   2.0  Real Bed                 t          NaN  ...          45.0   \n",
       "\n",
       "   Minimum_nights  Maximum_nights  Availability_365  Reviews_per_month  Tv  \\\n",
       "0              30              90                 0                1.0   1   \n",
       "1               2              90               334                4.5   1   \n",
       "\n",
       "   Wifi Air conditioning Free parking on premises Heating  \n",
       "0     1                1                        1       1  \n",
       "1     1                1                        0       1  \n",
       "\n",
       "[2 rows x 22 columns]"
      ]
     },
     "execution_count": 352,
     "metadata": {},
     "output_type": "execute_result"
    }
   ],
   "source": [
    "data_set.head(2)"
   ]
  },
  {
   "cell_type": "code",
   "execution_count": 353,
   "metadata": {},
   "outputs": [],
   "source": [
    "data_set['Price'] = data_set['Price'] + data_set['Cleaning_fee']"
   ]
  },
  {
   "cell_type": "code",
   "execution_count": 354,
   "metadata": {},
   "outputs": [
    {
     "data": {
      "text/plain": [
       "count     6698.000000\n",
       "mean       627.811138\n",
       "std       1740.793589\n",
       "min         19.000000\n",
       "25%        125.000000\n",
       "50%        210.000000\n",
       "75%        399.000000\n",
       "max      10145.000000\n",
       "Name: Price, dtype: float64"
      ]
     },
     "execution_count": 354,
     "metadata": {},
     "output_type": "execute_result"
    }
   ],
   "source": [
    "data_set.Price.describe()"
   ]
  },
  {
   "cell_type": "code",
   "execution_count": 355,
   "metadata": {},
   "outputs": [],
   "source": [
    "data_set.drop('Cleaning_fee',axis=1,inplace=True)"
   ]
  },
  {
   "cell_type": "code",
   "execution_count": 356,
   "metadata": {},
   "outputs": [
    {
     "data": {
      "text/plain": [
       "1125    3495\n",
       "30       487\n",
       "365      444\n",
       "14       316\n",
       "7        280\n",
       "        ... \n",
       "23         1\n",
       "372        1\n",
       "43         1\n",
       "356        1\n",
       "650        1\n",
       "Name: Maximum_nights, Length: 129, dtype: int64"
      ]
     },
     "execution_count": 356,
     "metadata": {},
     "output_type": "execute_result"
    }
   ],
   "source": [
    "data_set['Maximum_nights'].value_counts()"
   ]
  },
  {
   "cell_type": "code",
   "execution_count": 357,
   "metadata": {
    "scrolled": true
   },
   "outputs": [
    {
     "name": "stdout",
     "output_type": "stream",
     "text": [
      "Listing_id\n",
      "Accommodates\n",
      "Guests_included\n",
      "Bathrooms\n",
      "Bedrooms\n",
      "Beds\n",
      "Square_feet\n",
      "Price\n",
      "Extra_people\n",
      "Minimum_nights\n",
      "Maximum_nights\n",
      "Availability_365\n",
      "Reviews_per_month\n"
     ]
    }
   ],
   "source": [
    "for i in data_set.describe().columns:\n",
    "    print(i)"
   ]
  },
  {
   "cell_type": "code",
   "execution_count": 301,
   "metadata": {},
   "outputs": [],
   "source": [
    "data_set.drop('Square_feet',axis=1,inplace=True)"
   ]
  },
  {
   "cell_type": "code",
   "execution_count": 302,
   "metadata": {},
   "outputs": [],
   "source": [
    "IQR_columns=['Availability_365','Maximum_nights']"
   ]
  },
  {
   "cell_type": "code",
   "execution_count": 305,
   "metadata": {},
   "outputs": [
    {
     "data": {
      "text/plain": [
       "0      880\n",
       "365     95\n",
       "364     76\n",
       "90      68\n",
       "180     66\n",
       "      ... \n",
       "190      2\n",
       "200      2\n",
       "189      2\n",
       "221      2\n",
       "201      1\n",
       "Name: Availability_365, Length: 366, dtype: int64"
      ]
     },
     "execution_count": 305,
     "metadata": {},
     "output_type": "execute_result"
    }
   ],
   "source": [
    "data_set['Availability_365'].value_counts()"
   ]
  },
  {
   "cell_type": "code",
   "execution_count": 304,
   "metadata": {},
   "outputs": [
    {
     "name": "stderr",
     "output_type": "stream",
     "text": [
      "C:\\ProgramData\\Anaconda3\\lib\\site-packages\\pandas\\core\\indexing.py:205: SettingWithCopyWarning: \n",
      "A value is trying to be set on a copy of a slice from a DataFrame\n",
      "\n",
      "See the caveats in the documentation: http://pandas.pydata.org/pandas-docs/stable/user_guide/indexing.html#returning-a-view-versus-a-copy\n",
      "  self._setitem_with_indexer(indexer, value)\n"
     ]
    }
   ],
   "source": [
    "for i in IQR_columns:\n",
    "    Q75, Q25 = np.percentile(data_set[i], [75 ,25])\n",
    "    IQR = Q75 - Q25\n",
    "    Lower_limit= Q25-1.5*IQR\n",
    "    Upper_limit= Q75+1.5*IQR\n",
    "    for j in range(len(data_set[i])):        \n",
    "        if data_set[i].iloc[j] >= Lower_limit and data_set[i].iloc[j] <= Upper_limit:\n",
    "            data_set[i].iloc[j]=data_set[i].iloc[j]\n",
    "        else:\n",
    "            data_set[i].iloc[j]=0\n",
    "    "
   ]
  },
  {
   "cell_type": "code",
   "execution_count": null,
   "metadata": {},
   "outputs": [],
   "source": [
    "\"\"\"\n",
    "for n in range(len(dominantTheta)):\n",
    "    shift = dominantTheta[n]\n",
    "    regressionDelta += dominantAmp[n] * np.cos(n * np.array(range(len(df))) + shift)\n",
    "shift = dominantTheta.iloc[n]\n",
    "\n",
    "\n",
    "for i in IQR_columns:\n",
    "    Q75, Q25 = np.percentile(data_set[i], [75 ,25])\n",
    "    IQR = Q75 - Q25\n",
    "    Lower_limit= Q25-1.5*IQR\n",
    "    Upper_limit= Q75+1.5*IQR\n",
    "    for j in range(len(data_set[i])):        \n",
    "        if data_set[i].iloc[j] >= Lower_limit and data_set[i].iloc[j] <= Upper_limit:\n",
    "            data_set[i].iloc[j]=data_set[i].iloc[j]\n",
    "        else:\n",
    "            data_set[i].iloc[j]=0\n",
    "\"\"\""
   ]
  },
  {
   "cell_type": "code",
   "execution_count": null,
   "metadata": {},
   "outputs": [],
   "source": []
  },
  {
   "cell_type": "code",
   "execution_count": 358,
   "metadata": {},
   "outputs": [
    {
     "name": "stdout",
     "output_type": "stream",
     "text": [
      "Dataset has 6285 rows, 21 columns.\n",
      "Dataset has 6285 rows, 21 columns.\n"
     ]
    },
    {
     "data": {
      "image/png": "[encoded data removed]",
      "text/plain": [
       "<Figure size 1152x288 with 2 Axes>"
      ]
     },
     "metadata": {
      "needs_background": "light"
     },
     "output_type": "display_data"
    }
   ],
   "source": [
    "#Distribution of availability_365\n",
    "%matplotlib inline\n",
    "\n",
    "fig, axs = plt.subplots(ncols=2, figsize=(16, 4))\n",
    "fig.suptitle('Distribution of availability (before and after removing part-time listings)')\n",
    "\n",
    "# Before cleaning\n",
    "x_axis=data_set['Availability_365'].dropna()\n",
    "sns.distplot(pd.Series(x_axis, name='Availability (before cleaning)'), ax=axs[0])\n",
    "\n",
    "# Remove where availability less than 60 days or greater than 300 days\n",
    "data_set = data_set.query('1 <= Availability_365 <= 365')\n",
    "print(\"Dataset has {} rows, {} columns.\".format(*data_set.shape))\n",
    "\n",
    "#After cleaning\n",
    "x_axis=data_set['Availability_365'].dropna()\n",
    "sns.distplot(pd.Series(x_axis, name='Availability (after cleaning)'), ax=axs[1])\n",
    "# data_set = data_set.drop('Availability_365', axis = 1)\n",
    "print(\"Dataset has {} rows, {} columns.\".format(*data_set.shape))\n"
   ]
  },
  {
   "cell_type": "code",
   "execution_count": 307,
   "metadata": {
    "scrolled": true
   },
   "outputs": [
    {
     "data": {
      "text/plain": [
       "'\\n# Remove where Accommodates > 8\\ncondition = data_set[data_set[\\'Accommodates\\'] > 9]\\nrows_to_drop = condition.index\\nprint(\"You dropped {} rows.\".format(condition.shape[0]))\\ndata_set = data_set.drop(rows_to_drop, axis=0)\\nprint(\"Dataset has {} rows, {} columns.\".format(*data_set.shape))\\n\\n#After cleaning\\nx_axis=data_set[\\'Accommodates\\'].dropna()\\nsns.distplot(pd.Series(x_axis, name=\\'Max guests (after cleaning)\\'), ax=axs[1])\\n'"
      ]
     },
     "execution_count": 307,
     "metadata": {},
     "output_type": "execute_result"
    },
    {
     "data": {
      "image/png": "[encoded data removed]",
      "text/plain": [
       "<Figure size 1152x288 with 2 Axes>"
      ]
     },
     "metadata": {
      "needs_background": "light"
     },
     "output_type": "display_data"
    }
   ],
   "source": [
    "#Distribution of Accommodates\n",
    "%matplotlib inline\n",
    "\n",
    "fig, axs = plt.subplots(ncols=2, figsize=(16, 4))\n",
    "fig.suptitle('Distribution of max guests ', weight='bold', fontsize=12)\n",
    "\n",
    "# Before cleaning\n",
    "x_axis=data_set['Accommodates'].dropna()\n",
    "sns.distplot(pd.Series(x_axis, name='Max guests '), ax=axs[0])\n",
    "\"\"\"\n",
    "# Remove where Accommodates > 8\n",
    "condition = data_set[data_set['Accommodates'] > 9]\n",
    "rows_to_drop = condition.index\n",
    "print(\"You dropped {} rows.\".format(condition.shape[0]))\n",
    "data_set = data_set.drop(rows_to_drop, axis=0)\n",
    "print(\"Dataset has {} rows, {} columns.\".format(*data_set.shape))\n",
    "\n",
    "#After cleaning\n",
    "x_axis=data_set['Accommodates'].dropna()\n",
    "sns.distplot(pd.Series(x_axis, name='Max guests (after cleaning)'), ax=axs[1])\n",
    "\"\"\""
   ]
  },
  {
   "cell_type": "code",
   "execution_count": 275,
   "metadata": {},
   "outputs": [],
   "source": [
    "# data_set['Price'] = data_set['Price'] + data_set['Cleaning_fee']"
   ]
  },
  {
   "cell_type": "code",
   "execution_count": 359,
   "metadata": {},
   "outputs": [
    {
     "data": {
      "text/plain": [
       "10080.0    133\n",
       "150.0       76\n",
       "175.0       73\n",
       "200.0       72\n",
       "1099.0      71\n",
       "          ... \n",
       "1680.0       1\n",
       "446.0        1\n",
       "732.0        1\n",
       "362.0        1\n",
       "1799.0       1\n",
       "Name: Price, Length: 820, dtype: int64"
      ]
     },
     "execution_count": 359,
     "metadata": {},
     "output_type": "execute_result"
    }
   ],
   "source": [
    "data_set['Price'].value_counts()"
   ]
  },
  {
   "cell_type": "code",
   "execution_count": 360,
   "metadata": {},
   "outputs": [
    {
     "data": {
      "text/plain": [
       "(6285, 21)"
      ]
     },
     "execution_count": 360,
     "metadata": {},
     "output_type": "execute_result"
    }
   ],
   "source": [
    "data_set.shape"
   ]
  },
  {
   "cell_type": "code",
   "execution_count": 364,
   "metadata": {
    "scrolled": true
   },
   "outputs": [
    {
     "data": {
      "text/plain": [
       "count     5947.000000\n",
       "mean       676.336977\n",
       "std       1837.746350\n",
       "min         19.000000\n",
       "25%        130.000000\n",
       "50%        219.000000\n",
       "75%        408.000000\n",
       "max      10145.000000\n",
       "Name: Price, dtype: float64"
      ]
     },
     "execution_count": 364,
     "metadata": {},
     "output_type": "execute_result"
    }
   ],
   "source": [
    "data_set['Price'].describe()"
   ]
  },
  {
   "cell_type": "code",
   "execution_count": 311,
   "metadata": {},
   "outputs": [
    {
     "data": {
      "text/plain": [
       "(-287.0, 825.0)"
      ]
     },
     "execution_count": 311,
     "metadata": {},
     "output_type": "execute_result"
    }
   ],
   "source": [
    "130-1.5*(408-130),408+1.5*(408-130)"
   ]
  },
  {
   "cell_type": "code",
   "execution_count": 312,
   "metadata": {},
   "outputs": [],
   "source": [
    "Q75_price, Q25_price = np.percentile(data_set['Price'], [75 ,25])\n",
    "IQR_price = Q75_price - Q25_price\n",
    "Lower_limit_price= Q25_price-1.5*IQR_price\n",
    "Upper_limit_price= Q75_price+1.5*IQR_price\n",
    "for j in range(len(data_set['Price'])):\n",
    "    if data_set['Price'].iloc[j] >= Lower_limit_price and data_set['Price'].iloc[j] <= Upper_limit_price:\n",
    "        data_set['Price'].iloc[j]=data_set['Price'].iloc[j]\n",
    "    else:\n",
    "        data_set['Price'].iloc[j]=0  "
   ]
  },
  {
   "cell_type": "code",
   "execution_count": 369,
   "metadata": {},
   "outputs": [
    {
     "name": "stderr",
     "output_type": "stream",
     "text": [
      "C:\\ProgramData\\Anaconda3\\lib\\site-packages\\numpy\\lib\\function_base.py:3826: RuntimeWarning: Invalid value encountered in percentile\n",
      "  interpolation=interpolation)\n"
     ]
    },
    {
     "data": {
      "text/plain": [
       "nan"
      ]
     },
     "execution_count": 369,
     "metadata": {},
     "output_type": "execute_result"
    }
   ],
   "source": [
    "Q25_price=np.quantile(data_set['Price'],0.55)\n",
    "Q25_price\n"
   ]
  },
  {
   "cell_type": "code",
   "execution_count": 371,
   "metadata": {},
   "outputs": [
    {
     "data": {
      "text/plain": [
       "4       139.0\n",
       "5       125.0\n",
       "6       400.0\n",
       "7       630.0\n",
       "10      195.0\n",
       "        ...  \n",
       "7159    140.0\n",
       "7160    102.0\n",
       "7161     68.0\n",
       "7162    320.0\n",
       "7164    170.0\n",
       "Name: Price, Length: 5947, dtype: float64"
      ]
     },
     "execution_count": 371,
     "metadata": {},
     "output_type": "execute_result"
    }
   ],
   "source": [
    "data_set['Price'].dropna()"
   ]
  },
  {
   "cell_type": "code",
   "execution_count": 372,
   "metadata": {},
   "outputs": [
    {
     "data": {
      "text/plain": [
       "338"
      ]
     },
     "execution_count": 372,
     "metadata": {},
     "output_type": "execute_result"
    }
   ],
   "source": [
    "data_set['Price'].isna().sum()"
   ]
  },
  {
   "cell_type": "code",
   "execution_count": 375,
   "metadata": {},
   "outputs": [
    {
     "data": {
      "text/plain": [
       "count     5947.000000\n",
       "mean       676.336977\n",
       "std       1837.746350\n",
       "min         19.000000\n",
       "25%        130.000000\n",
       "50%        219.000000\n",
       "75%        408.000000\n",
       "max      10145.000000\n",
       "Name: Price, dtype: float64"
      ]
     },
     "execution_count": 375,
     "metadata": {},
     "output_type": "execute_result"
    }
   ],
   "source": [
    "data_set['Price'].describe()"
   ]
  },
  {
   "cell_type": "code",
   "execution_count": 314,
   "metadata": {
    "scrolled": true
   },
   "outputs": [
    {
     "name": "stdout",
     "output_type": "stream",
     "text": [
      "You dropped 6285 rows.\n",
      "Dataset has 0 rows, 20 columns.\n"
     ]
    },
    {
     "name": "stderr",
     "output_type": "stream",
     "text": [
      "C:\\ProgramData\\Anaconda3\\lib\\site-packages\\statsmodels\\nonparametric\\kde.py:487: RuntimeWarning: invalid value encountered in true_divide\n",
      "  binned = fast_linbin(X, a, b, gridsize) / (delta * nobs)\n",
      "C:\\ProgramData\\Anaconda3\\lib\\site-packages\\statsmodels\\nonparametric\\kdetools.py:34: RuntimeWarning: invalid value encountered in double_scalars\n",
      "  FAC1 = 2*(np.pi*bw/RANGE)**2\n",
      "C:\\ProgramData\\Anaconda3\\lib\\site-packages\\seaborn\\distributions.py:198: RuntimeWarning: Mean of empty slice.\n",
      "  line, = ax.plot(a.mean(), 0)\n",
      "C:\\ProgramData\\Anaconda3\\lib\\site-packages\\numpy\\core\\_methods.py:85: RuntimeWarning: invalid value encountered in double_scalars\n",
      "  ret = ret.dtype.type(ret / rcount)\n",
      "C:\\ProgramData\\Anaconda3\\lib\\site-packages\\numpy\\lib\\histograms.py:893: RuntimeWarning: invalid value encountered in true_divide\n",
      "  return n/db/n.sum(), bin_edges\n"
     ]
    },
    {
     "data": {
      "text/plain": [
       "<matplotlib.axes._subplots.AxesSubplot at 0x24372afcf48>"
      ]
     },
     "execution_count": 314,
     "metadata": {},
     "output_type": "execute_result"
    },
    {
     "data": {
      "image/png": "[encoded data removed]",
      "text/plain": [
       "<Figure size 1152x288 with 2 Axes>"
      ]
     },
     "metadata": {
      "needs_background": "light"
     },
     "output_type": "display_data"
    }
   ],
   "source": [
    "#Distribution of price\n",
    "%matplotlib inline\n",
    "\n",
    "fig, axs = plt.subplots(ncols=2, figsize=(16, 4))\n",
    "fig.suptitle('Distribution of price (before and after removing high-priced outliers)')\n",
    "\n",
    "# Before cleaning\n",
    "x_axis=data_set['Price'].dropna()\n",
    "sns.distplot(pd.Series(x_axis, name='Price (before cleaning)'), ax=axs[0])\n",
    "\n",
    "# Remove where price > 1000\n",
    "condition = data_set[data_set['Price'] <1]\n",
    "rows_to_drop = condition.index\n",
    "print(\"You dropped {} rows.\".format(condition.shape[0]))\n",
    "data_set = data_set.drop(rows_to_drop, axis=0)\n",
    "print(\"Dataset has {} rows, {} columns.\".format(*data_set.shape))\n",
    "\n",
    "#After cleaning\n",
    "x_axis=data_set['Price'].dropna()\n",
    "sns.distplot(pd.Series(x_axis, name='Price  (after cleaning)'), ax=axs[1])"
   ]
  },
  {
   "cell_type": "code",
   "execution_count": 114,
   "metadata": {},
   "outputs": [
    {
     "data": {
      "text/plain": [
       "count    5486.000000\n",
       "mean      153.195771\n",
       "std       113.157189\n",
       "min        10.000000\n",
       "25%        75.000000\n",
       "50%       119.000000\n",
       "75%       199.000000\n",
       "max       515.000000\n",
       "Name: Price, dtype: float64"
      ]
     },
     "execution_count": 114,
     "metadata": {},
     "output_type": "execute_result"
    }
   ],
   "source": [
    "data_set['Price'].describe()"
   ]
  },
  {
   "cell_type": "code",
   "execution_count": 115,
   "metadata": {},
   "outputs": [
    {
     "data": {
      "text/plain": [
       "Real Bed         5444\n",
       "Futon              19\n",
       "Airbed             14\n",
       "Pull-out Sofa       9\n",
       "Name: Bed_type, dtype: int64"
      ]
     },
     "execution_count": 115,
     "metadata": {},
     "output_type": "execute_result"
    }
   ],
   "source": [
    "data_set['Bed_type'].value_counts()"
   ]
  },
  {
   "cell_type": "code",
   "execution_count": 116,
   "metadata": {},
   "outputs": [
    {
     "name": "stderr",
     "output_type": "stream",
     "text": [
      "C:\\ProgramData\\Anaconda3\\lib\\site-packages\\pandas\\core\\indexing.py:205: SettingWithCopyWarning: \n",
      "A value is trying to be set on a copy of a slice from a DataFrame\n",
      "\n",
      "See the caveats in the documentation: http://pandas.pydata.org/pandas-docs/stable/user_guide/indexing.html#returning-a-view-versus-a-copy\n",
      "  self._setitem_with_indexer(indexer, value)\n"
     ]
    }
   ],
   "source": [
    "categories_to_rename = ['Pull-out Sofa', 'Futon', 'Airbed']\n",
    "data_set['Bed_type'].loc[data_set['Bed_type'].isin(categories_to_rename)] = 'Non-Real Bed'"
   ]
  },
  {
   "cell_type": "code",
   "execution_count": 117,
   "metadata": {
    "scrolled": true
   },
   "outputs": [
    {
     "data": {
      "text/plain": [
       "Real Bed        5444\n",
       "Non-Real Bed      42\n",
       "Name: Bed_type, dtype: int64"
      ]
     },
     "execution_count": 117,
     "metadata": {},
     "output_type": "execute_result"
    }
   ],
   "source": [
    "data_set['Bed_type'].value_counts()"
   ]
  },
  {
   "cell_type": "code",
   "execution_count": 118,
   "metadata": {},
   "outputs": [
    {
     "data": {
      "text/html": [
       "<div>\n",
       "<style scoped>\n",
       "    .dataframe tbody tr th:only-of-type {\n",
       "        vertical-align: middle;\n",
       "    }\n",
       "\n",
       "    .dataframe tbody tr th {\n",
       "        vertical-align: top;\n",
       "    }\n",
       "\n",
       "    .dataframe thead th {\n",
       "        text-align: right;\n",
       "    }\n",
       "</style>\n",
       "<table border=\"1\" class=\"dataframe\">\n",
       "  <thead>\n",
       "    <tr style=\"text-align: right;\">\n",
       "      <th></th>\n",
       "      <th>Listing_id</th>\n",
       "      <th>Room_type</th>\n",
       "      <th>Accommodates</th>\n",
       "      <th>Guests_included</th>\n",
       "      <th>Bathrooms</th>\n",
       "      <th>Bedrooms</th>\n",
       "      <th>Beds</th>\n",
       "      <th>Bed_type</th>\n",
       "      <th>Host_is_superhost</th>\n",
       "      <th>Square_feet</th>\n",
       "      <th>...</th>\n",
       "      <th>Extra_people</th>\n",
       "      <th>Minimum_nights</th>\n",
       "      <th>Maximum_nights</th>\n",
       "      <th>Availability_365</th>\n",
       "      <th>Reviews_per_month</th>\n",
       "      <th>Tv</th>\n",
       "      <th>Wifi</th>\n",
       "      <th>Air conditioning</th>\n",
       "      <th>Free parking on premises</th>\n",
       "      <th>Heating</th>\n",
       "    </tr>\n",
       "  </thead>\n",
       "  <tbody>\n",
       "    <tr>\n",
       "      <td>1</td>\n",
       "      <td>5456</td>\n",
       "      <td>Entire home/apt</td>\n",
       "      <td>3</td>\n",
       "      <td>2</td>\n",
       "      <td>1.0</td>\n",
       "      <td>0.0</td>\n",
       "      <td>0.0</td>\n",
       "      <td>Real Bed</td>\n",
       "      <td>t</td>\n",
       "      <td>0.0</td>\n",
       "      <td>...</td>\n",
       "      <td>45.0</td>\n",
       "      <td>2</td>\n",
       "      <td>90</td>\n",
       "      <td>334</td>\n",
       "      <td>4.500000</td>\n",
       "      <td>1</td>\n",
       "      <td>1</td>\n",
       "      <td>1</td>\n",
       "      <td>0</td>\n",
       "      <td>1</td>\n",
       "    </tr>\n",
       "    <tr>\n",
       "      <td>2</td>\n",
       "      <td>5769</td>\n",
       "      <td>Private room</td>\n",
       "      <td>2</td>\n",
       "      <td>2</td>\n",
       "      <td>1.0</td>\n",
       "      <td>0.0</td>\n",
       "      <td>0.0</td>\n",
       "      <td>Real Bed</td>\n",
       "      <td>t</td>\n",
       "      <td>0.0</td>\n",
       "      <td>...</td>\n",
       "      <td>0.0</td>\n",
       "      <td>1</td>\n",
       "      <td>14</td>\n",
       "      <td>14</td>\n",
       "      <td>2.428571</td>\n",
       "      <td>1</td>\n",
       "      <td>1</td>\n",
       "      <td>1</td>\n",
       "      <td>1</td>\n",
       "      <td>1</td>\n",
       "    </tr>\n",
       "  </tbody>\n",
       "</table>\n",
       "<p>2 rows × 22 columns</p>\n",
       "</div>"
      ],
      "text/plain": [
       "   Listing_id        Room_type  Accommodates  Guests_included  Bathrooms  \\\n",
       "1        5456  Entire home/apt             3                2        1.0   \n",
       "2        5769     Private room             2                2        1.0   \n",
       "\n",
       "   Bedrooms  Beds  Bed_type Host_is_superhost  Square_feet  ...  Extra_people  \\\n",
       "1       0.0   0.0  Real Bed                 t          0.0  ...          45.0   \n",
       "2       0.0   0.0  Real Bed                 t          0.0  ...           0.0   \n",
       "\n",
       "   Minimum_nights  Maximum_nights  Availability_365  Reviews_per_month  Tv  \\\n",
       "1               2              90               334           4.500000   1   \n",
       "2               1              14                14           2.428571   1   \n",
       "\n",
       "   Wifi Air conditioning Free parking on premises Heating  \n",
       "1     1                1                        0       1  \n",
       "2     1                1                        1       1  \n",
       "\n",
       "[2 rows x 22 columns]"
      ]
     },
     "execution_count": 118,
     "metadata": {},
     "output_type": "execute_result"
    }
   ],
   "source": [
    "data_set.head(2)"
   ]
  },
  {
   "cell_type": "code",
   "execution_count": 119,
   "metadata": {
    "scrolled": true
   },
   "outputs": [
    {
     "name": "stdout",
     "output_type": "stream",
     "text": [
      "You dropped 0 rows.\n",
      "Dataset has 5486 rows, 22 columns.\n"
     ]
    },
    {
     "data": {
      "text/plain": [
       "<matplotlib.axes._subplots.AxesSubplot at 0x2436e254788>"
      ]
     },
     "execution_count": 119,
     "metadata": {},
     "output_type": "execute_result"
    },
    {
     "data": {
      "image/png": "[encoded data removed]",
      "text/plain": [
       "<Figure size 1152x288 with 2 Axes>"
      ]
     },
     "metadata": {
      "needs_background": "light"
     },
     "output_type": "display_data"
    }
   ],
   "source": [
    "#Distribution of Reviews_per_month\n",
    "%matplotlib inline\n",
    "\n",
    "fig, axs = plt.subplots(ncols=2, figsize=(16, 4))\n",
    "fig.suptitle('Distribution of variables for calculation of yield')\n",
    "\n",
    "\n",
    "# removing listing with morethan 20 reviews per month\n",
    "condition = data_set[data_set['Reviews_per_month'] <0]\n",
    "rows_to_drop = condition.index\n",
    "print(\"You dropped {} rows.\".format(condition.shape[0]))\n",
    "data_set = data_set.drop(rows_to_drop, axis=0)\n",
    "print(\"Dataset has {} rows, {} columns.\".format(*data_set.shape))\n",
    "\n",
    "\n",
    "x_axis=data_set['Reviews_per_month'].dropna()\n",
    "sns.distplot(pd.Series(x_axis, name=x_axis.name), ax=axs[0])"
   ]
  },
  {
   "cell_type": "code",
   "execution_count": 120,
   "metadata": {},
   "outputs": [
    {
     "data": {
      "text/plain": [
       "Index(['Listing_id', 'Room_type', 'Accommodates', 'Guests_included',\n",
       "       'Bathrooms', 'Bedrooms', 'Beds', 'Bed_type', 'Host_is_superhost',\n",
       "       'Square_feet', 'Price', 'Cleaning_fee', 'Extra_people',\n",
       "       'Minimum_nights', 'Maximum_nights', 'Availability_365',\n",
       "       'Reviews_per_month', 'Tv', 'Wifi', 'Air conditioning',\n",
       "       'Free parking on premises', 'Heating'],\n",
       "      dtype='object')"
      ]
     },
     "execution_count": 120,
     "metadata": {},
     "output_type": "execute_result"
    }
   ],
   "source": [
    "data_set.columns"
   ]
  },
  {
   "cell_type": "code",
   "execution_count": 121,
   "metadata": {},
   "outputs": [
    {
     "data": {
      "text/plain": [
       "(5486, 22)"
      ]
     },
     "execution_count": 121,
     "metadata": {},
     "output_type": "execute_result"
    }
   ],
   "source": [
    "data_set.shape"
   ]
  },
  {
   "cell_type": "code",
   "execution_count": 122,
   "metadata": {},
   "outputs": [],
   "source": [
    "avg_length_of_stay_austin = 3\n",
    "review_rate = 0.5"
   ]
  },
  {
   "cell_type": "code",
   "execution_count": 123,
   "metadata": {},
   "outputs": [
    {
     "data": {
      "text/plain": [
       "0"
      ]
     },
     "execution_count": 123,
     "metadata": {},
     "output_type": "execute_result"
    }
   ],
   "source": [
    "# calculate the occupancy and round the result\n",
    "data_set['Occupancy'] = round(avg_length_of_stay_austin * (data_set['Reviews_per_month']/review_rate), 2)\n",
    "\n",
    "# occupancy cannot be greater than 100% - are there any mistakes?\n",
    "len(data_set[data_set['Occupancy'] > 100])"
   ]
  },
  {
   "cell_type": "code",
   "execution_count": 124,
   "metadata": {
    "scrolled": true
   },
   "outputs": [
    {
     "data": {
      "text/plain": [
       "count    5486.000000\n",
       "mean       13.783086\n",
       "std         8.442217\n",
       "min         0.000000\n",
       "25%         6.000000\n",
       "50%        12.000000\n",
       "75%        18.600000\n",
       "max        38.400000\n",
       "Name: Occupancy, dtype: float64"
      ]
     },
     "execution_count": 124,
     "metadata": {},
     "output_type": "execute_result"
    }
   ],
   "source": [
    "# droping occupancy rates > 100\n",
    "# data_set.drop(data_set[(data_set['Occupancy'] > 75)].index, axis=0, inplace=True)\n",
    "\n",
    "# check the distribution\n",
    "data_set['Occupancy'].describe()"
   ]
  },
  {
   "cell_type": "code",
   "execution_count": 125,
   "metadata": {},
   "outputs": [
    {
     "data": {
      "image/png": "[encoded data removed]",
      "text/plain": [
       "<Figure size 1080x432 with 1 Axes>"
      ]
     },
     "metadata": {
      "needs_background": "light"
     },
     "output_type": "display_data"
    }
   ],
   "source": [
    "%matplotlib inline\n",
    "fig, ax = plt.subplots(figsize=(15,6))\n",
    "fig.suptitle('Distribution of Occupancy')\n",
    "x_axis = data_set['Occupancy'].dropna()\n",
    "x = pd.Series(x_axis, name=x_axis.name)\n",
    "ax = sns.distplot(x)"
   ]
  },
  {
   "cell_type": "code",
   "execution_count": 126,
   "metadata": {},
   "outputs": [
    {
     "name": "stdout",
     "output_type": "stream",
     "text": [
      "Dataset has 5486 rows, 22 columns.\n"
     ]
    },
    {
     "data": {
      "text/plain": [
       "count      5486.000000\n",
       "mean      24521.397988\n",
       "std       23554.252882\n",
       "min           0.000000\n",
       "25%        8928.000000\n",
       "50%       18395.400000\n",
       "75%       32400.000000\n",
       "max      222984.000000\n",
       "Name: Yield, dtype: float64"
      ]
     },
     "execution_count": 126,
     "metadata": {},
     "output_type": "execute_result"
    }
   ],
   "source": [
    "# Calculate yield\n",
    "\n",
    "# Average length of stay (by city) X Price ('price') X No. of reviews('reviews_per_month') / Review rate('50%') \n",
    "\n",
    "cols_to_drop = ['Cleaning_fee']\n",
    "data_set = data_set.drop(cols_to_drop, axis = 1)\n",
    "print(\"Dataset has {} rows, {} columns.\".format(*data_set.shape))\n",
    "\n",
    "data_set['Yield'] = data_set['Occupancy'] * data_set['Price'] *12\n",
    "data_set.Yield.describe()\n"
   ]
  },
  {
   "cell_type": "code",
   "execution_count": 127,
   "metadata": {},
   "outputs": [
    {
     "data": {
      "text/html": [
       "<div>\n",
       "<style scoped>\n",
       "    .dataframe tbody tr th:only-of-type {\n",
       "        vertical-align: middle;\n",
       "    }\n",
       "\n",
       "    .dataframe tbody tr th {\n",
       "        vertical-align: top;\n",
       "    }\n",
       "\n",
       "    .dataframe thead th {\n",
       "        text-align: right;\n",
       "    }\n",
       "</style>\n",
       "<table border=\"1\" class=\"dataframe\">\n",
       "  <thead>\n",
       "    <tr style=\"text-align: right;\">\n",
       "      <th></th>\n",
       "      <th>Listing_id</th>\n",
       "      <th>Room_type</th>\n",
       "      <th>Accommodates</th>\n",
       "      <th>Guests_included</th>\n",
       "      <th>Bathrooms</th>\n",
       "      <th>Bedrooms</th>\n",
       "      <th>Beds</th>\n",
       "      <th>Bed_type</th>\n",
       "      <th>Host_is_superhost</th>\n",
       "      <th>Square_feet</th>\n",
       "      <th>...</th>\n",
       "      <th>Maximum_nights</th>\n",
       "      <th>Availability_365</th>\n",
       "      <th>Reviews_per_month</th>\n",
       "      <th>Tv</th>\n",
       "      <th>Wifi</th>\n",
       "      <th>Air conditioning</th>\n",
       "      <th>Free parking on premises</th>\n",
       "      <th>Heating</th>\n",
       "      <th>Occupancy</th>\n",
       "      <th>Yield</th>\n",
       "    </tr>\n",
       "  </thead>\n",
       "  <tbody>\n",
       "    <tr>\n",
       "      <td>1</td>\n",
       "      <td>5456</td>\n",
       "      <td>Entire home/apt</td>\n",
       "      <td>3</td>\n",
       "      <td>2</td>\n",
       "      <td>1.0</td>\n",
       "      <td>0.0</td>\n",
       "      <td>0.0</td>\n",
       "      <td>Real Bed</td>\n",
       "      <td>t</td>\n",
       "      <td>0.0</td>\n",
       "      <td>...</td>\n",
       "      <td>90</td>\n",
       "      <td>334</td>\n",
       "      <td>4.500000</td>\n",
       "      <td>1</td>\n",
       "      <td>1</td>\n",
       "      <td>1</td>\n",
       "      <td>0</td>\n",
       "      <td>1</td>\n",
       "      <td>27.00</td>\n",
       "      <td>30780.00</td>\n",
       "    </tr>\n",
       "    <tr>\n",
       "      <td>2</td>\n",
       "      <td>5769</td>\n",
       "      <td>Private room</td>\n",
       "      <td>2</td>\n",
       "      <td>2</td>\n",
       "      <td>1.0</td>\n",
       "      <td>0.0</td>\n",
       "      <td>0.0</td>\n",
       "      <td>Real Bed</td>\n",
       "      <td>t</td>\n",
       "      <td>0.0</td>\n",
       "      <td>...</td>\n",
       "      <td>14</td>\n",
       "      <td>14</td>\n",
       "      <td>2.428571</td>\n",
       "      <td>1</td>\n",
       "      <td>1</td>\n",
       "      <td>1</td>\n",
       "      <td>1</td>\n",
       "      <td>1</td>\n",
       "      <td>14.57</td>\n",
       "      <td>6993.60</td>\n",
       "    </tr>\n",
       "    <tr>\n",
       "      <td>4</td>\n",
       "      <td>6448</td>\n",
       "      <td>Entire home/apt</td>\n",
       "      <td>3</td>\n",
       "      <td>2</td>\n",
       "      <td>1.0</td>\n",
       "      <td>0.0</td>\n",
       "      <td>0.0</td>\n",
       "      <td>Real Bed</td>\n",
       "      <td>t</td>\n",
       "      <td>0.0</td>\n",
       "      <td>...</td>\n",
       "      <td>365</td>\n",
       "      <td>127</td>\n",
       "      <td>2.888889</td>\n",
       "      <td>1</td>\n",
       "      <td>1</td>\n",
       "      <td>1</td>\n",
       "      <td>1</td>\n",
       "      <td>1</td>\n",
       "      <td>17.33</td>\n",
       "      <td>28906.44</td>\n",
       "    </tr>\n",
       "  </tbody>\n",
       "</table>\n",
       "<p>3 rows × 23 columns</p>\n",
       "</div>"
      ],
      "text/plain": [
       "   Listing_id        Room_type  Accommodates  Guests_included  Bathrooms  \\\n",
       "1        5456  Entire home/apt             3                2        1.0   \n",
       "2        5769     Private room             2                2        1.0   \n",
       "4        6448  Entire home/apt             3                2        1.0   \n",
       "\n",
       "   Bedrooms  Beds  Bed_type Host_is_superhost  Square_feet  ...  \\\n",
       "1       0.0   0.0  Real Bed                 t          0.0  ...   \n",
       "2       0.0   0.0  Real Bed                 t          0.0  ...   \n",
       "4       0.0   0.0  Real Bed                 t          0.0  ...   \n",
       "\n",
       "   Maximum_nights  Availability_365  Reviews_per_month  Tv  Wifi  \\\n",
       "1              90               334           4.500000   1     1   \n",
       "2              14                14           2.428571   1     1   \n",
       "4             365               127           2.888889   1     1   \n",
       "\n",
       "   Air conditioning Free parking on premises Heating Occupancy     Yield  \n",
       "1                 1                        0       1     27.00  30780.00  \n",
       "2                 1                        1       1     14.57   6993.60  \n",
       "4                 1                        1       1     17.33  28906.44  \n",
       "\n",
       "[3 rows x 23 columns]"
      ]
     },
     "execution_count": 127,
     "metadata": {},
     "output_type": "execute_result"
    }
   ],
   "source": [
    "data_set.head(3)"
   ]
  },
  {
   "cell_type": "code",
   "execution_count": 128,
   "metadata": {},
   "outputs": [
    {
     "data": {
      "image/png": "[encoded data removed]",
      "text/plain": [
       "<Figure size 1080x432 with 1 Axes>"
      ]
     },
     "metadata": {
      "needs_background": "light"
     },
     "output_type": "display_data"
    }
   ],
   "source": [
    "%matplotlib inline\n",
    "fig, ax = plt.subplots(figsize=(15,6))\n",
    "fig.suptitle('Average Yearly Income (Yield)')\n",
    "x_axis = data_set['Yield'].dropna()\n",
    "x = pd.Series(x_axis, name=x_axis.name)\n",
    "ax = sns.distplot(x)"
   ]
  },
  {
   "cell_type": "code",
   "execution_count": 129,
   "metadata": {},
   "outputs": [
    {
     "data": {
      "text/plain": [
       "False"
      ]
     },
     "execution_count": 129,
     "metadata": {},
     "output_type": "execute_result"
    }
   ],
   "source": [
    "data_set.isnull().values.any()"
   ]
  },
  {
   "cell_type": "code",
   "execution_count": 132,
   "metadata": {},
   "outputs": [],
   "source": [
    "from sklearn.base import TransformerMixin\n",
    "\n",
    "class DataFrameImputer(TransformerMixin):\n",
    "\n",
    "    def __init__(self):\n",
    "        \"\"\"Impute missing values.\n",
    "\n",
    "        Columns of dtype object are imputed with the most frequent value \n",
    "        in column.\n",
    "\n",
    "        Columns of other types are imputed with mean of column.\n",
    "\n",
    "        \"\"\"\n",
    "    def fit(self, X, y=None):\n",
    "\n",
    "        self.fill = pd.Series([X[c].value_counts().index[0]\n",
    "            if X[c].dtype == np.dtype('O') else X[c].mean() for c in X],\n",
    "            index=X.columns)\n",
    "\n",
    "        return self\n",
    "\n",
    "    def transform(self, X, y=None):\n",
    "        return X.fillna(self.fill)"
   ]
  },
  {
   "cell_type": "code",
   "execution_count": 130,
   "metadata": {},
   "outputs": [
    {
     "data": {
      "text/plain": [
       "Listing_id                  0.0\n",
       "Room_type                   0.0\n",
       "Accommodates                0.0\n",
       "Guests_included             0.0\n",
       "Bathrooms                   0.0\n",
       "Bedrooms                    0.0\n",
       "Beds                        0.0\n",
       "Bed_type                    0.0\n",
       "Host_is_superhost           0.0\n",
       "Square_feet                 0.0\n",
       "Price                       0.0\n",
       "Extra_people                0.0\n",
       "Minimum_nights              0.0\n",
       "Maximum_nights              0.0\n",
       "Availability_365            0.0\n",
       "Reviews_per_month           0.0\n",
       "Tv                          0.0\n",
       "Wifi                        0.0\n",
       "Air conditioning            0.0\n",
       "Free parking on premises    0.0\n",
       "Heating                     0.0\n",
       "Occupancy                   0.0\n",
       "Yield                       0.0\n",
       "dtype: float64"
      ]
     },
     "execution_count": 130,
     "metadata": {},
     "output_type": "execute_result"
    }
   ],
   "source": [
    "(data_set.isnull().sum())/data_set.shape[0]"
   ]
  },
  {
   "cell_type": "code",
   "execution_count": 134,
   "metadata": {
    "scrolled": true
   },
   "outputs": [
    {
     "data": {
      "text/plain": [
       "Index(['Listing_id', 'Room_type', 'Accommodates', 'Guests_included',\n",
       "       'Bathrooms', 'Bedrooms', 'Beds', 'Bed_type', 'Host_is_superhost',\n",
       "       'Price', 'Extra_people', 'Minimum_nights', 'Maximum_nights',\n",
       "       'Availability_365', 'Reviews_per_month', 'Tv', 'Wifi',\n",
       "       'Air conditioning', 'Free parking on premises', 'Heating', 'Occupancy',\n",
       "       'Yield'],\n",
       "      dtype='object')"
      ]
     },
     "execution_count": 134,
     "metadata": {},
     "output_type": "execute_result"
    }
   ],
   "source": [
    "data_set.columns"
   ]
  },
  {
   "cell_type": "code",
   "execution_count": 135,
   "metadata": {},
   "outputs": [
    {
     "data": {
      "text/plain": [
       "'\\ncols_to_drop = [\\'Reviews_per_month\\',\\'Occupancy\\']\\ndf_final_viz = data_set[cols_to_drop]\\ndata_set = data_set.drop(cols_to_drop, axis = 1)\\nprint(\"Dataset has {} rows, {} columns.\".format(*data_set.shape))\\n'"
      ]
     },
     "execution_count": 135,
     "metadata": {},
     "output_type": "execute_result"
    }
   ],
   "source": [
    "\"\"\"\n",
    "cols_to_drop = ['Reviews_per_month','Occupancy']\n",
    "df_final_viz = data_set[cols_to_drop]\n",
    "data_set = data_set.drop(cols_to_drop, axis = 1)\n",
    "print(\"Dataset has {} rows, {} columns.\".format(*data_set.shape))\n",
    "\"\"\""
   ]
  },
  {
   "cell_type": "code",
   "execution_count": 136,
   "metadata": {},
   "outputs": [],
   "source": [
    "data_set.to_csv(r'C:\\\\Users\\\\Sathish Reddy\\\\Desktop\\\\R-project\\\\working_dr\\\\with_out-dummy-linear_regression_model.csv')"
   ]
  },
  {
   "cell_type": "code",
   "execution_count": 137,
   "metadata": {},
   "outputs": [
    {
     "name": "stdout",
     "output_type": "stream",
     "text": [
      "Dataset has 5486 rows, 26 columns.\n"
     ]
    }
   ],
   "source": [
    "\n",
    "# Dummy encoding\n",
    "categorical_feats = ['Room_type','Host_is_superhost']\n",
    "data_set = pd.get_dummies(data_set, columns=categorical_feats, drop_first=False)\n",
    "print(\"Dataset has {} rows, {} columns.\".format(*data_set.shape))"
   ]
  },
  {
   "cell_type": "code",
   "execution_count": 138,
   "metadata": {
    "scrolled": true
   },
   "outputs": [
    {
     "data": {
      "text/html": [
       "<div>\n",
       "<style scoped>\n",
       "    .dataframe tbody tr th:only-of-type {\n",
       "        vertical-align: middle;\n",
       "    }\n",
       "\n",
       "    .dataframe tbody tr th {\n",
       "        vertical-align: top;\n",
       "    }\n",
       "\n",
       "    .dataframe thead th {\n",
       "        text-align: right;\n",
       "    }\n",
       "</style>\n",
       "<table border=\"1\" class=\"dataframe\">\n",
       "  <thead>\n",
       "    <tr style=\"text-align: right;\">\n",
       "      <th></th>\n",
       "      <th>Listing_id</th>\n",
       "      <th>Accommodates</th>\n",
       "      <th>Guests_included</th>\n",
       "      <th>Bathrooms</th>\n",
       "      <th>Bedrooms</th>\n",
       "      <th>Beds</th>\n",
       "      <th>Bed_type</th>\n",
       "      <th>Price</th>\n",
       "      <th>Extra_people</th>\n",
       "      <th>Minimum_nights</th>\n",
       "      <th>...</th>\n",
       "      <th>Free parking on premises</th>\n",
       "      <th>Heating</th>\n",
       "      <th>Occupancy</th>\n",
       "      <th>Yield</th>\n",
       "      <th>Room_type_Entire home/apt</th>\n",
       "      <th>Room_type_Hotel room</th>\n",
       "      <th>Room_type_Private room</th>\n",
       "      <th>Room_type_Shared room</th>\n",
       "      <th>Host_is_superhost_f</th>\n",
       "      <th>Host_is_superhost_t</th>\n",
       "    </tr>\n",
       "  </thead>\n",
       "  <tbody>\n",
       "    <tr>\n",
       "      <td>1</td>\n",
       "      <td>5456</td>\n",
       "      <td>3</td>\n",
       "      <td>2</td>\n",
       "      <td>1.0</td>\n",
       "      <td>0.0</td>\n",
       "      <td>0.0</td>\n",
       "      <td>Real Bed</td>\n",
       "      <td>95.0</td>\n",
       "      <td>45.0</td>\n",
       "      <td>2</td>\n",
       "      <td>...</td>\n",
       "      <td>0</td>\n",
       "      <td>1</td>\n",
       "      <td>27.00</td>\n",
       "      <td>30780.00</td>\n",
       "      <td>1</td>\n",
       "      <td>0</td>\n",
       "      <td>0</td>\n",
       "      <td>0</td>\n",
       "      <td>0</td>\n",
       "      <td>1</td>\n",
       "    </tr>\n",
       "    <tr>\n",
       "      <td>2</td>\n",
       "      <td>5769</td>\n",
       "      <td>2</td>\n",
       "      <td>2</td>\n",
       "      <td>1.0</td>\n",
       "      <td>0.0</td>\n",
       "      <td>0.0</td>\n",
       "      <td>Real Bed</td>\n",
       "      <td>40.0</td>\n",
       "      <td>0.0</td>\n",
       "      <td>1</td>\n",
       "      <td>...</td>\n",
       "      <td>1</td>\n",
       "      <td>1</td>\n",
       "      <td>14.57</td>\n",
       "      <td>6993.60</td>\n",
       "      <td>0</td>\n",
       "      <td>0</td>\n",
       "      <td>1</td>\n",
       "      <td>0</td>\n",
       "      <td>0</td>\n",
       "      <td>1</td>\n",
       "    </tr>\n",
       "    <tr>\n",
       "      <td>4</td>\n",
       "      <td>6448</td>\n",
       "      <td>3</td>\n",
       "      <td>2</td>\n",
       "      <td>1.0</td>\n",
       "      <td>0.0</td>\n",
       "      <td>0.0</td>\n",
       "      <td>Real Bed</td>\n",
       "      <td>139.0</td>\n",
       "      <td>25.0</td>\n",
       "      <td>3</td>\n",
       "      <td>...</td>\n",
       "      <td>1</td>\n",
       "      <td>1</td>\n",
       "      <td>17.33</td>\n",
       "      <td>28906.44</td>\n",
       "      <td>1</td>\n",
       "      <td>0</td>\n",
       "      <td>0</td>\n",
       "      <td>0</td>\n",
       "      <td>0</td>\n",
       "      <td>1</td>\n",
       "    </tr>\n",
       "  </tbody>\n",
       "</table>\n",
       "<p>3 rows × 26 columns</p>\n",
       "</div>"
      ],
      "text/plain": [
       "   Listing_id  Accommodates  Guests_included  Bathrooms  Bedrooms  Beds  \\\n",
       "1        5456             3                2        1.0       0.0   0.0   \n",
       "2        5769             2                2        1.0       0.0   0.0   \n",
       "4        6448             3                2        1.0       0.0   0.0   \n",
       "\n",
       "   Bed_type  Price  Extra_people  Minimum_nights  ...  \\\n",
       "1  Real Bed   95.0          45.0               2  ...   \n",
       "2  Real Bed   40.0           0.0               1  ...   \n",
       "4  Real Bed  139.0          25.0               3  ...   \n",
       "\n",
       "   Free parking on premises  Heating  Occupancy     Yield  \\\n",
       "1                         0        1      27.00  30780.00   \n",
       "2                         1        1      14.57   6993.60   \n",
       "4                         1        1      17.33  28906.44   \n",
       "\n",
       "  Room_type_Entire home/apt Room_type_Hotel room Room_type_Private room  \\\n",
       "1                         1                    0                      0   \n",
       "2                         0                    0                      1   \n",
       "4                         1                    0                      0   \n",
       "\n",
       "  Room_type_Shared room  Host_is_superhost_f  Host_is_superhost_t  \n",
       "1                     0                    0                    1  \n",
       "2                     0                    0                    1  \n",
       "4                     0                    0                    1  \n",
       "\n",
       "[3 rows x 26 columns]"
      ]
     },
     "execution_count": 138,
     "metadata": {},
     "output_type": "execute_result"
    }
   ],
   "source": [
    "data_set.head(3)"
   ]
  },
  {
   "cell_type": "code",
   "execution_count": 387,
   "metadata": {},
   "outputs": [],
   "source": [
    "# Create response and target variable\n",
    "target = ['Yield','Listing_id', 'Neighbourhood']\n",
    "X = data_set.drop(target, axis=1)\n",
    "y = data_set['Yield']"
   ]
  },
  {
   "cell_type": "code",
   "execution_count": 400,
   "metadata": {},
   "outputs": [],
   "source": [
    "\n",
    "# Train test split\n",
    "test_size = 0.2\n",
    "\n",
    "X_train, X_test, y_train, y_test = train_test_split(X, y, test_size=test_size, random_state=1223)"
   ]
  },
  {
   "cell_type": "code",
   "execution_count": 401,
   "metadata": {},
   "outputs": [],
   "source": [
    "from sklearn import linear_model\n",
    "from sklearn.metrics import mean_squared_error, r2_score"
   ]
  },
  {
   "cell_type": "code",
   "execution_count": 402,
   "metadata": {},
   "outputs": [
    {
     "data": {
      "text/plain": [
       "LinearRegression(copy_X=True, fit_intercept=True, n_jobs=None, normalize=False)"
      ]
     },
     "execution_count": 402,
     "metadata": {},
     "output_type": "execute_result"
    }
   ],
   "source": [
    "# Create linear regression object\n",
    "regr = linear_model.LinearRegression()\n",
    "\n",
    "# Train the model using the training sets\n",
    "regr.fit(X_train, y_train)"
   ]
  },
  {
   "cell_type": "code",
   "execution_count": 403,
   "metadata": {
    "scrolled": true
   },
   "outputs": [
    {
     "name": "stdout",
     "output_type": "stream",
     "text": [
      "Mean squared error: 526821691.75\n",
      "Variance score: 0.36\n"
     ]
    }
   ],
   "source": [
    "# Make predictions using the testing set\n",
    "regr_y_pred = regr.predict(X_test)\n",
    "\n",
    "# The mean squared error\n",
    "print(\"Mean squared error: %.2f\" % mean_squared_error(y_test, regr_y_pred))\n",
    "# Explained variance score: 1 is perfect prediction\n",
    "print('Variance score: %.2f' % r2_score(y_test, regr_y_pred))"
   ]
  },
  {
   "cell_type": "code",
   "execution_count": 404,
   "metadata": {},
   "outputs": [
    {
     "data": {
      "text/plain": [
       "(2461, 45)"
      ]
     },
     "execution_count": 404,
     "metadata": {},
     "output_type": "execute_result"
    }
   ],
   "source": [
    "data_set.shape"
   ]
  },
  {
   "cell_type": "code",
   "execution_count": 399,
   "metadata": {},
   "outputs": [],
   "source": [
    "data_set.to_csv(r'C:\\\\Users\\\\Sathish Reddy\\\\Desktop\\\\R-project\\\\working_dr\\\\lm_on_Final_dataset.csv')"
   ]
  },
  {
   "cell_type": "code",
   "execution_count": null,
   "metadata": {},
   "outputs": [],
   "source": []
  },
  {
   "cell_type": "code",
   "execution_count": null,
   "metadata": {},
   "outputs": [],
   "source": []
  }
 ],
 "metadata": {
  "kernelspec": {
   "display_name": "Python 3",
   "language": "python",
   "name": "python3"
  },
  "language_info": {
   "codemirror_mode": {
    "name": "ipython",
    "version": 3
   },
   "file_extension": ".py",
   "mimetype": "text/x-python",
   "name": "python",
   "nbconvert_exporter": "python",
   "pygments_lexer": "ipython3",
   "version": "3.7.4"
  }
 },
 "nbformat": 4,
 "nbformat_minor": 2
}
